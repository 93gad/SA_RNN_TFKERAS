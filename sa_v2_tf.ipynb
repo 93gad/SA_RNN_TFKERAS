{
  "nbformat": 4,
  "nbformat_minor": 0,
  "metadata": {
    "colab": {
      "provenance": [],
      "authorship_tag": "ABX9TyMOmjFjoN8xN+MugnCARLw/",
      "include_colab_link": true
    },
    "kernelspec": {
      "name": "python3",
      "display_name": "Python 3"
    },
    "language_info": {
      "name": "python"
    }
  },
  "cells": [
    {
      "cell_type": "markdown",
      "metadata": {
        "id": "view-in-github",
        "colab_type": "text"
      },
      "source": [
        "<a href=\"https://colab.research.google.com/github/93gad/mit34_sa_0.2/blob/main/sa_v2_tf.ipynb\" target=\"_parent\"><img src=\"https://colab.research.google.com/assets/colab-badge.svg\" alt=\"Open In Colab\"/></a>"
      ]
    },
    {
      "cell_type": "markdown",
      "source": [
        "# Импорт библиотек"
      ],
      "metadata": {
        "id": "p3EGAsHm-9E4"
      }
    },
    {
      "cell_type": "code",
      "execution_count": null,
      "metadata": {
        "id": "JkPvPqCE96Bb"
      },
      "outputs": [],
      "source": [
        "from tensorflow.keras.models import Sequential\n",
        "from tensorflow.keras.layers import Dense, Embedding, GRU, LSTM , RNN , SimpleRNN\n",
        "from tensorflow.keras import utils\n",
        "from tensorflow.keras.preprocessing.sequence import pad_sequences\n",
        "from tensorflow.keras.preprocessing.text import Tokenizer\n",
        "from tensorflow.keras.callbacks import ModelCheckpoint\n",
        "import pandas as pd\n",
        "import numpy as np\n",
        "import matplotlib.pyplot as plt\n",
        "import re\n",
        "%matplotlib inline "
      ]
    },
    {
      "cell_type": "code",
      "source": [
        "num_words = 10000\n",
        "max_review_len = 250"
      ],
      "metadata": {
        "id": "5Tk_1o7U_DQF"
      },
      "execution_count": null,
      "outputs": []
    },
    {
      "cell_type": "markdown",
      "source": [
        "# Подготовка данных для обучения"
      ],
      "metadata": {
        "id": "M3EI6Nad1o_K"
      }
    },
    {
      "cell_type": "code",
      "source": [
        "!gdown --id 10v9w9Ss2luAUUuDXWVe25zTfNe_JHUNY\n",
        "!gdown --id 1ZL95-9w8CxbBsy1XOt71ogGbQ4vtMgm8"
      ],
      "metadata": {
        "colab": {
          "base_uri": "https://localhost:8080/"
        },
        "id": "R39O8uUM1obU",
        "outputId": "695eaaac-5ca2-4d8d-e6c6-dae365edcc9a"
      },
      "execution_count": null,
      "outputs": [
        {
          "output_type": "stream",
          "name": "stdout",
          "text": [
            "/usr/local/lib/python3.8/dist-packages/gdown/cli.py:127: FutureWarning: Option `--id` was deprecated in version 4.3.1 and will be removed in 5.0. You don't need to pass it anymore to use a file ID.\n",
            "  warnings.warn(\n",
            "Downloading...\n",
            "From: https://drive.google.com/uc?id=10v9w9Ss2luAUUuDXWVe25zTfNe_JHUNY\n",
            "To: /content/test.csv\n",
            "100% 10.5M/10.5M [00:00<00:00, 130MB/s]\n",
            "/usr/local/lib/python3.8/dist-packages/gdown/cli.py:127: FutureWarning: Option `--id` was deprecated in version 4.3.1 and will be removed in 5.0. You don't need to pass it anymore to use a file ID.\n",
            "  warnings.warn(\n",
            "Downloading...\n",
            "From: https://drive.google.com/uc?id=1ZL95-9w8CxbBsy1XOt71ogGbQ4vtMgm8\n",
            "To: /content/train.csv\n",
            "100% 44.1M/44.1M [00:00<00:00, 67.2MB/s]\n"
          ]
        }
      ]
    },
    {
      "cell_type": "code",
      "source": [
        "train = pd.read_csv('train.csv', \n",
        "                    header=None, \n",
        "                    names=['Review', 'Class'],)"
      ],
      "metadata": {
        "id": "68AuA_9D_FLc"
      },
      "execution_count": null,
      "outputs": []
    },
    {
      "cell_type": "markdown",
      "source": [
        "--------------------------------------------------------------------------------"
      ],
      "metadata": {
        "id": "-XJVN2et4-Ae"
      }
    },
    {
      "cell_type": "code",
      "source": [
        "train"
      ],
      "metadata": {
        "colab": {
          "base_uri": "https://localhost:8080/",
          "height": 423
        },
        "id": "Mcca49Tj_Ixk",
        "outputId": "6f3ca8cc-710d-494f-a4a7-8684975c9a33"
      },
      "execution_count": null,
      "outputs": [
        {
          "output_type": "execute_result",
          "data": {
            "text/plain": [
              "                                                 Review  Class\n",
              "0     досудебное расследование по факту покупки енпф...      0\n",
              "1     infokz  января     портал центразия со ссылкой...      0\n",
              "2      трлн тенге пенсионных накоплений казахстанцев...      1\n",
              "3     южноказахстанская мукомольная компания увеличи...      1\n",
              "4     тэц не является причиной смога в астане всему ...      1\n",
              "...                                                 ...    ...\n",
              "6605  проект аутизм победим выходит на республиканск...      1\n",
              "6606  задержан эксминистр национальной экономики куа...      0\n",
              "6607  бумаги kazminerals подорожали на казахстанской...      0\n",
              "6608  прессслужба мангистауского областного суда  ав...      0\n",
              "6609  автор  сабина источник  novoetvkz   в конце пр...      1\n",
              "\n",
              "[6610 rows x 2 columns]"
            ],
            "text/html": [
              "\n",
              "  <div id=\"df-8f3bb75d-33ad-4cf1-b464-df70526eba90\">\n",
              "    <div class=\"colab-df-container\">\n",
              "      <div>\n",
              "<style scoped>\n",
              "    .dataframe tbody tr th:only-of-type {\n",
              "        vertical-align: middle;\n",
              "    }\n",
              "\n",
              "    .dataframe tbody tr th {\n",
              "        vertical-align: top;\n",
              "    }\n",
              "\n",
              "    .dataframe thead th {\n",
              "        text-align: right;\n",
              "    }\n",
              "</style>\n",
              "<table border=\"1\" class=\"dataframe\">\n",
              "  <thead>\n",
              "    <tr style=\"text-align: right;\">\n",
              "      <th></th>\n",
              "      <th>Review</th>\n",
              "      <th>Class</th>\n",
              "    </tr>\n",
              "  </thead>\n",
              "  <tbody>\n",
              "    <tr>\n",
              "      <th>0</th>\n",
              "      <td>досудебное расследование по факту покупки енпф...</td>\n",
              "      <td>0</td>\n",
              "    </tr>\n",
              "    <tr>\n",
              "      <th>1</th>\n",
              "      <td>infokz  января     портал центразия со ссылкой...</td>\n",
              "      <td>0</td>\n",
              "    </tr>\n",
              "    <tr>\n",
              "      <th>2</th>\n",
              "      <td>трлн тенге пенсионных накоплений казахстанцев...</td>\n",
              "      <td>1</td>\n",
              "    </tr>\n",
              "    <tr>\n",
              "      <th>3</th>\n",
              "      <td>южноказахстанская мукомольная компания увеличи...</td>\n",
              "      <td>1</td>\n",
              "    </tr>\n",
              "    <tr>\n",
              "      <th>4</th>\n",
              "      <td>тэц не является причиной смога в астане всему ...</td>\n",
              "      <td>1</td>\n",
              "    </tr>\n",
              "    <tr>\n",
              "      <th>...</th>\n",
              "      <td>...</td>\n",
              "      <td>...</td>\n",
              "    </tr>\n",
              "    <tr>\n",
              "      <th>6605</th>\n",
              "      <td>проект аутизм победим выходит на республиканск...</td>\n",
              "      <td>1</td>\n",
              "    </tr>\n",
              "    <tr>\n",
              "      <th>6606</th>\n",
              "      <td>задержан эксминистр национальной экономики куа...</td>\n",
              "      <td>0</td>\n",
              "    </tr>\n",
              "    <tr>\n",
              "      <th>6607</th>\n",
              "      <td>бумаги kazminerals подорожали на казахстанской...</td>\n",
              "      <td>0</td>\n",
              "    </tr>\n",
              "    <tr>\n",
              "      <th>6608</th>\n",
              "      <td>прессслужба мангистауского областного суда  ав...</td>\n",
              "      <td>0</td>\n",
              "    </tr>\n",
              "    <tr>\n",
              "      <th>6609</th>\n",
              "      <td>автор  сабина источник  novoetvkz   в конце пр...</td>\n",
              "      <td>1</td>\n",
              "    </tr>\n",
              "  </tbody>\n",
              "</table>\n",
              "<p>6610 rows × 2 columns</p>\n",
              "</div>\n",
              "      <button class=\"colab-df-convert\" onclick=\"convertToInteractive('df-8f3bb75d-33ad-4cf1-b464-df70526eba90')\"\n",
              "              title=\"Convert this dataframe to an interactive table.\"\n",
              "              style=\"display:none;\">\n",
              "        \n",
              "  <svg xmlns=\"http://www.w3.org/2000/svg\" height=\"24px\"viewBox=\"0 0 24 24\"\n",
              "       width=\"24px\">\n",
              "    <path d=\"M0 0h24v24H0V0z\" fill=\"none\"/>\n",
              "    <path d=\"M18.56 5.44l.94 2.06.94-2.06 2.06-.94-2.06-.94-.94-2.06-.94 2.06-2.06.94zm-11 1L8.5 8.5l.94-2.06 2.06-.94-2.06-.94L8.5 2.5l-.94 2.06-2.06.94zm10 10l.94 2.06.94-2.06 2.06-.94-2.06-.94-.94-2.06-.94 2.06-2.06.94z\"/><path d=\"M17.41 7.96l-1.37-1.37c-.4-.4-.92-.59-1.43-.59-.52 0-1.04.2-1.43.59L10.3 9.45l-7.72 7.72c-.78.78-.78 2.05 0 2.83L4 21.41c.39.39.9.59 1.41.59.51 0 1.02-.2 1.41-.59l7.78-7.78 2.81-2.81c.8-.78.8-2.07 0-2.86zM5.41 20L4 18.59l7.72-7.72 1.47 1.35L5.41 20z\"/>\n",
              "  </svg>\n",
              "      </button>\n",
              "      \n",
              "  <style>\n",
              "    .colab-df-container {\n",
              "      display:flex;\n",
              "      flex-wrap:wrap;\n",
              "      gap: 12px;\n",
              "    }\n",
              "\n",
              "    .colab-df-convert {\n",
              "      background-color: #E8F0FE;\n",
              "      border: none;\n",
              "      border-radius: 50%;\n",
              "      cursor: pointer;\n",
              "      display: none;\n",
              "      fill: #1967D2;\n",
              "      height: 32px;\n",
              "      padding: 0 0 0 0;\n",
              "      width: 32px;\n",
              "    }\n",
              "\n",
              "    .colab-df-convert:hover {\n",
              "      background-color: #E2EBFA;\n",
              "      box-shadow: 0px 1px 2px rgba(60, 64, 67, 0.3), 0px 1px 3px 1px rgba(60, 64, 67, 0.15);\n",
              "      fill: #174EA6;\n",
              "    }\n",
              "\n",
              "    [theme=dark] .colab-df-convert {\n",
              "      background-color: #3B4455;\n",
              "      fill: #D2E3FC;\n",
              "    }\n",
              "\n",
              "    [theme=dark] .colab-df-convert:hover {\n",
              "      background-color: #434B5C;\n",
              "      box-shadow: 0px 1px 3px 1px rgba(0, 0, 0, 0.15);\n",
              "      filter: drop-shadow(0px 1px 2px rgba(0, 0, 0, 0.3));\n",
              "      fill: #FFFFFF;\n",
              "    }\n",
              "  </style>\n",
              "\n",
              "      <script>\n",
              "        const buttonEl =\n",
              "          document.querySelector('#df-8f3bb75d-33ad-4cf1-b464-df70526eba90 button.colab-df-convert');\n",
              "        buttonEl.style.display =\n",
              "          google.colab.kernel.accessAllowed ? 'block' : 'none';\n",
              "\n",
              "        async function convertToInteractive(key) {\n",
              "          const element = document.querySelector('#df-8f3bb75d-33ad-4cf1-b464-df70526eba90');\n",
              "          const dataTable =\n",
              "            await google.colab.kernel.invokeFunction('convertToInteractive',\n",
              "                                                     [key], {});\n",
              "          if (!dataTable) return;\n",
              "\n",
              "          const docLinkHtml = 'Like what you see? Visit the ' +\n",
              "            '<a target=\"_blank\" href=https://colab.research.google.com/notebooks/data_table.ipynb>data table notebook</a>'\n",
              "            + ' to learn more about interactive tables.';\n",
              "          element.innerHTML = '';\n",
              "          dataTable['output_type'] = 'display_data';\n",
              "          await google.colab.output.renderOutput(dataTable, element);\n",
              "          const docLink = document.createElement('div');\n",
              "          docLink.innerHTML = docLinkHtml;\n",
              "          element.appendChild(docLink);\n",
              "        }\n",
              "      </script>\n",
              "    </div>\n",
              "  </div>\n",
              "  "
            ]
          },
          "metadata": {},
          "execution_count": 5
        }
      ]
    },
    {
      "cell_type": "code",
      "source": [
        "reviews = train['Review']"
      ],
      "metadata": {
        "id": "QsaWfWq-Agz2"
      },
      "execution_count": null,
      "outputs": []
    },
    {
      "cell_type": "code",
      "source": [
        "train['Class'].fillna(0, inplace=True)\n",
        "train['Class'] = train['Class'].astype(int)"
      ],
      "metadata": {
        "id": "JDc52P7kAjo0"
      },
      "execution_count": null,
      "outputs": []
    },
    {
      "cell_type": "code",
      "source": [],
      "metadata": {
        "id": "9qAnplofaZTN"
      },
      "execution_count": null,
      "outputs": []
    },
    {
      "cell_type": "code",
      "source": [
        "y_train = train['Class'].astype(int)"
      ],
      "metadata": {
        "id": "-eZjslACAlgd"
      },
      "execution_count": null,
      "outputs": []
    },
    {
      "cell_type": "code",
      "source": [
        "y_train"
      ],
      "metadata": {
        "colab": {
          "base_uri": "https://localhost:8080/"
        },
        "id": "5FcH2ZA4AnYd",
        "outputId": "f8562d70-b55a-4b70-ee3c-15c3f6030d25"
      },
      "execution_count": null,
      "outputs": [
        {
          "output_type": "execute_result",
          "data": {
            "text/plain": [
              "0       0\n",
              "1       0\n",
              "2       1\n",
              "3       1\n",
              "4       1\n",
              "       ..\n",
              "6605    1\n",
              "6606    0\n",
              "6607    0\n",
              "6608    0\n",
              "6609    1\n",
              "Name: Class, Length: 6610, dtype: int64"
            ]
          },
          "metadata": {},
          "execution_count": 9
        }
      ]
    },
    {
      "cell_type": "code",
      "source": [
        "train"
      ],
      "metadata": {
        "colab": {
          "base_uri": "https://localhost:8080/",
          "height": 423
        },
        "id": "mc3CDLOfApb1",
        "outputId": "6e6d8d2f-bc2f-4ffc-99a5-b7ff5b20b748"
      },
      "execution_count": null,
      "outputs": [
        {
          "output_type": "execute_result",
          "data": {
            "text/plain": [
              "                                                 Review  Class\n",
              "0     досудебное расследование по факту покупки енпф...      0\n",
              "1     infokz  января     портал центразия со ссылкой...      0\n",
              "2      трлн тенге пенсионных накоплений казахстанцев...      1\n",
              "3     южноказахстанская мукомольная компания увеличи...      1\n",
              "4     тэц не является причиной смога в астане всему ...      1\n",
              "...                                                 ...    ...\n",
              "6605  проект аутизм победим выходит на республиканск...      1\n",
              "6606  задержан эксминистр национальной экономики куа...      0\n",
              "6607  бумаги kazminerals подорожали на казахстанской...      0\n",
              "6608  прессслужба мангистауского областного суда  ав...      0\n",
              "6609  автор  сабина источник  novoetvkz   в конце пр...      1\n",
              "\n",
              "[6610 rows x 2 columns]"
            ],
            "text/html": [
              "\n",
              "  <div id=\"df-9a613e04-9c6c-44c1-a05f-aa6904b722d8\">\n",
              "    <div class=\"colab-df-container\">\n",
              "      <div>\n",
              "<style scoped>\n",
              "    .dataframe tbody tr th:only-of-type {\n",
              "        vertical-align: middle;\n",
              "    }\n",
              "\n",
              "    .dataframe tbody tr th {\n",
              "        vertical-align: top;\n",
              "    }\n",
              "\n",
              "    .dataframe thead th {\n",
              "        text-align: right;\n",
              "    }\n",
              "</style>\n",
              "<table border=\"1\" class=\"dataframe\">\n",
              "  <thead>\n",
              "    <tr style=\"text-align: right;\">\n",
              "      <th></th>\n",
              "      <th>Review</th>\n",
              "      <th>Class</th>\n",
              "    </tr>\n",
              "  </thead>\n",
              "  <tbody>\n",
              "    <tr>\n",
              "      <th>0</th>\n",
              "      <td>досудебное расследование по факту покупки енпф...</td>\n",
              "      <td>0</td>\n",
              "    </tr>\n",
              "    <tr>\n",
              "      <th>1</th>\n",
              "      <td>infokz  января     портал центразия со ссылкой...</td>\n",
              "      <td>0</td>\n",
              "    </tr>\n",
              "    <tr>\n",
              "      <th>2</th>\n",
              "      <td>трлн тенге пенсионных накоплений казахстанцев...</td>\n",
              "      <td>1</td>\n",
              "    </tr>\n",
              "    <tr>\n",
              "      <th>3</th>\n",
              "      <td>южноказахстанская мукомольная компания увеличи...</td>\n",
              "      <td>1</td>\n",
              "    </tr>\n",
              "    <tr>\n",
              "      <th>4</th>\n",
              "      <td>тэц не является причиной смога в астане всему ...</td>\n",
              "      <td>1</td>\n",
              "    </tr>\n",
              "    <tr>\n",
              "      <th>...</th>\n",
              "      <td>...</td>\n",
              "      <td>...</td>\n",
              "    </tr>\n",
              "    <tr>\n",
              "      <th>6605</th>\n",
              "      <td>проект аутизм победим выходит на республиканск...</td>\n",
              "      <td>1</td>\n",
              "    </tr>\n",
              "    <tr>\n",
              "      <th>6606</th>\n",
              "      <td>задержан эксминистр национальной экономики куа...</td>\n",
              "      <td>0</td>\n",
              "    </tr>\n",
              "    <tr>\n",
              "      <th>6607</th>\n",
              "      <td>бумаги kazminerals подорожали на казахстанской...</td>\n",
              "      <td>0</td>\n",
              "    </tr>\n",
              "    <tr>\n",
              "      <th>6608</th>\n",
              "      <td>прессслужба мангистауского областного суда  ав...</td>\n",
              "      <td>0</td>\n",
              "    </tr>\n",
              "    <tr>\n",
              "      <th>6609</th>\n",
              "      <td>автор  сабина источник  novoetvkz   в конце пр...</td>\n",
              "      <td>1</td>\n",
              "    </tr>\n",
              "  </tbody>\n",
              "</table>\n",
              "<p>6610 rows × 2 columns</p>\n",
              "</div>\n",
              "      <button class=\"colab-df-convert\" onclick=\"convertToInteractive('df-9a613e04-9c6c-44c1-a05f-aa6904b722d8')\"\n",
              "              title=\"Convert this dataframe to an interactive table.\"\n",
              "              style=\"display:none;\">\n",
              "        \n",
              "  <svg xmlns=\"http://www.w3.org/2000/svg\" height=\"24px\"viewBox=\"0 0 24 24\"\n",
              "       width=\"24px\">\n",
              "    <path d=\"M0 0h24v24H0V0z\" fill=\"none\"/>\n",
              "    <path d=\"M18.56 5.44l.94 2.06.94-2.06 2.06-.94-2.06-.94-.94-2.06-.94 2.06-2.06.94zm-11 1L8.5 8.5l.94-2.06 2.06-.94-2.06-.94L8.5 2.5l-.94 2.06-2.06.94zm10 10l.94 2.06.94-2.06 2.06-.94-2.06-.94-.94-2.06-.94 2.06-2.06.94z\"/><path d=\"M17.41 7.96l-1.37-1.37c-.4-.4-.92-.59-1.43-.59-.52 0-1.04.2-1.43.59L10.3 9.45l-7.72 7.72c-.78.78-.78 2.05 0 2.83L4 21.41c.39.39.9.59 1.41.59.51 0 1.02-.2 1.41-.59l7.78-7.78 2.81-2.81c.8-.78.8-2.07 0-2.86zM5.41 20L4 18.59l7.72-7.72 1.47 1.35L5.41 20z\"/>\n",
              "  </svg>\n",
              "      </button>\n",
              "      \n",
              "  <style>\n",
              "    .colab-df-container {\n",
              "      display:flex;\n",
              "      flex-wrap:wrap;\n",
              "      gap: 12px;\n",
              "    }\n",
              "\n",
              "    .colab-df-convert {\n",
              "      background-color: #E8F0FE;\n",
              "      border: none;\n",
              "      border-radius: 50%;\n",
              "      cursor: pointer;\n",
              "      display: none;\n",
              "      fill: #1967D2;\n",
              "      height: 32px;\n",
              "      padding: 0 0 0 0;\n",
              "      width: 32px;\n",
              "    }\n",
              "\n",
              "    .colab-df-convert:hover {\n",
              "      background-color: #E2EBFA;\n",
              "      box-shadow: 0px 1px 2px rgba(60, 64, 67, 0.3), 0px 1px 3px 1px rgba(60, 64, 67, 0.15);\n",
              "      fill: #174EA6;\n",
              "    }\n",
              "\n",
              "    [theme=dark] .colab-df-convert {\n",
              "      background-color: #3B4455;\n",
              "      fill: #D2E3FC;\n",
              "    }\n",
              "\n",
              "    [theme=dark] .colab-df-convert:hover {\n",
              "      background-color: #434B5C;\n",
              "      box-shadow: 0px 1px 3px 1px rgba(0, 0, 0, 0.15);\n",
              "      filter: drop-shadow(0px 1px 2px rgba(0, 0, 0, 0.3));\n",
              "      fill: #FFFFFF;\n",
              "    }\n",
              "  </style>\n",
              "\n",
              "      <script>\n",
              "        const buttonEl =\n",
              "          document.querySelector('#df-9a613e04-9c6c-44c1-a05f-aa6904b722d8 button.colab-df-convert');\n",
              "        buttonEl.style.display =\n",
              "          google.colab.kernel.accessAllowed ? 'block' : 'none';\n",
              "\n",
              "        async function convertToInteractive(key) {\n",
              "          const element = document.querySelector('#df-9a613e04-9c6c-44c1-a05f-aa6904b722d8');\n",
              "          const dataTable =\n",
              "            await google.colab.kernel.invokeFunction('convertToInteractive',\n",
              "                                                     [key], {});\n",
              "          if (!dataTable) return;\n",
              "\n",
              "          const docLinkHtml = 'Like what you see? Visit the ' +\n",
              "            '<a target=\"_blank\" href=https://colab.research.google.com/notebooks/data_table.ipynb>data table notebook</a>'\n",
              "            + ' to learn more about interactive tables.';\n",
              "          element.innerHTML = '';\n",
              "          dataTable['output_type'] = 'display_data';\n",
              "          await google.colab.output.renderOutput(dataTable, element);\n",
              "          const docLink = document.createElement('div');\n",
              "          docLink.innerHTML = docLinkHtml;\n",
              "          element.appendChild(docLink);\n",
              "        }\n",
              "      </script>\n",
              "    </div>\n",
              "  </div>\n",
              "  "
            ]
          },
          "metadata": {},
          "execution_count": 10
        }
      ]
    },
    {
      "cell_type": "markdown",
      "source": [
        "# Токенизация и векторизация текста"
      ],
      "metadata": {
        "id": "VZ5Bexfj5jk-"
      }
    },
    {
      "cell_type": "code",
      "source": [
        "tokenizer = Tokenizer(num_words=num_words)"
      ],
      "metadata": {
        "id": "0-L2Kb93AsZ8"
      },
      "execution_count": null,
      "outputs": []
    },
    {
      "cell_type": "code",
      "source": [
        "\n",
        "reviews = [review for review in reviews if isinstance(review, str)]\n",
        "tokenizer.fit_on_texts(reviews)\n"
      ],
      "metadata": {
        "id": "aNqnKmehAuH8"
      },
      "execution_count": null,
      "outputs": []
    },
    {
      "cell_type": "code",
      "source": [
        "tokenizer.word_index"
      ],
      "metadata": {
        "colab": {
          "base_uri": "https://localhost:8080/"
        },
        "id": "RjlV_0uAAuqL",
        "outputId": "425bacff-4cb7-486c-b5ea-ab5d7e0b1d85"
      },
      "execution_count": null,
      "outputs": [
        {
          "output_type": "execute_result",
          "data": {
            "text/plain": [
              "{'в': 1,\n",
              " 'и': 2,\n",
              " 'на': 3,\n",
              " 'по': 4,\n",
              " 'с': 5,\n",
              " 'что': 6,\n",
              " 'не': 7,\n",
              " 'года': 8,\n",
              " 'для': 9,\n",
              " 'за': 10,\n",
              " 'к': 11,\n",
              " 'тенге': 12,\n",
              " 'а': 13,\n",
              " 'из': 14,\n",
              " 'о': 15,\n",
              " 'это': 16,\n",
              " 'как': 17,\n",
              " 'до': 18,\n",
              " 'от': 19,\n",
              " 'году': 20,\n",
              " 'также': 21,\n",
              " 'казахстана': 22,\n",
              " 'мы': 23,\n",
              " 'ао': 24,\n",
              " 'казахстан': 25,\n",
              " 'рк': 26,\n",
              " 'при': 27,\n",
              " 'будет': 28,\n",
              " 'но': 29,\n",
              " 'все': 30,\n",
              " 'он': 31,\n",
              " 'области': 32,\n",
              " 'его': 33,\n",
              " 'млрд': 34,\n",
              " 'у': 35,\n",
              " 'этом': 36,\n",
              " 'республики': 37,\n",
              " 'то': 38,\n",
              " 'более': 39,\n",
              " 'развития': 40,\n",
              " 'лет': 41,\n",
              " 'так': 42,\n",
              " 'их': 43,\n",
              " 'или': 44,\n",
              " 'было': 45,\n",
              " 'уже': 46,\n",
              " 'время': 47,\n",
              " 'том': 48,\n",
              " 'которые': 49,\n",
              " 'я': 50,\n",
              " 'был': 51,\n",
              " 'год': 52,\n",
              " 'алматы': 53,\n",
              " 'только': 54,\n",
              " 'есть': 55,\n",
              " 'же': 56,\n",
              " 'казахстане': 57,\n",
              " 'компании': 58,\n",
              " 'страны': 59,\n",
              " 'банка': 60,\n",
              " 'если': 61,\n",
              " 'млн': 62,\n",
              " 'экономики': 63,\n",
              " 'были': 64,\n",
              " 'со': 65,\n",
              " 'будут': 66,\n",
              " 'тоо': 67,\n",
              " 'того': 68,\n",
              " 'является': 69,\n",
              " 'енпф': 70,\n",
              " 'рамках': 71,\n",
              " 'об': 72,\n",
              " 'еще': 73,\n",
              " 'назад': 74,\n",
              " 'государства': 75,\n",
              " 'они': 76,\n",
              " 'банк': 77,\n",
              " 'сегодня': 78,\n",
              " 'тыс': 79,\n",
              " 'этого': 80,\n",
              " 'после': 81,\n",
              " 'г': 82,\n",
              " 'всего': 83,\n",
              " 'который': 84,\n",
              " 'чтобы': 85,\n",
              " 'января': 86,\n",
              " 'необходимо': 87,\n",
              " 'во': 88,\n",
              " 'средств': 89,\n",
              " 'между': 90,\n",
              " 'президента': 91,\n",
              " 'астана': 92,\n",
              " 'сейчас': 93,\n",
              " 'тысяч': 94,\n",
              " 'всех': 95,\n",
              " 'национальной': 96,\n",
              " 'ее': 97,\n",
              " 'под': 98,\n",
              " 'может': 99,\n",
              " 'работы': 100,\n",
              " 'тем': 101,\n",
              " 'через': 102,\n",
              " 'управления': 103,\n",
              " 'компания': 104,\n",
              " 'декабря': 105,\n",
              " 'нужно': 106,\n",
              " 'бы': 107,\n",
              " 'нас': 108,\n",
              " 'директор': 109,\n",
              " 'когда': 110,\n",
              " 'быть': 111,\n",
              " 'была': 112,\n",
              " 'можно': 113,\n",
              " 'заместитель': 114,\n",
              " 'числе': 115,\n",
              " 'отметил': 116,\n",
              " 'день': 117,\n",
              " 'них': 118,\n",
              " 'им': 119,\n",
              " 'правления': 120,\n",
              " 'эти': 121,\n",
              " 'фонда': 122,\n",
              " 'президент': 123,\n",
              " 'автомобилей': 124,\n",
              " 'программы': 125,\n",
              " 'кроме': 126,\n",
              " 'чем': 127,\n",
              " 'новых': 128,\n",
              " 'этот': 129,\n",
              " 'очень': 130,\n",
              " 'она': 131,\n",
              " 'этой': 132,\n",
              " 'глава': 133,\n",
              " 'производства': 134,\n",
              " 'связи': 135,\n",
              " 'деятельности': 136,\n",
              " 'реализации': 137,\n",
              " 'председатель': 138,\n",
              " 'развитию': 139,\n",
              " 'годы': 140,\n",
              " 'проектов': 141,\n",
              " 'города': 142,\n",
              " 'россии': 143,\n",
              " 'стран': 144,\n",
              " 'министерства': 145,\n",
              " 'бизнеса': 146,\n",
              " 'компаний': 147,\n",
              " 'проекта': 148,\n",
              " 'ходе': 149,\n",
              " 'без': 150,\n",
              " 'словам': 151,\n",
              " 'национального': 152,\n",
              " 'продукции': 153,\n",
              " 'человек': 154,\n",
              " 'назарбаев': 155,\n",
              " 'где': 156,\n",
              " 'однако': 157,\n",
              " 'итогам': 158,\n",
              " 'комитета': 159,\n",
              " 'председателя': 160,\n",
              " 'долларов': 161,\n",
              " 'сказал': 162,\n",
              " 'нет': 163,\n",
              " 'правительства': 164,\n",
              " 'вопрос': 165,\n",
              " 'счет': 166,\n",
              " 'должны': 167,\n",
              " 'безопасности': 168,\n",
              " 'ранее': 169,\n",
              " 'которых': 170,\n",
              " 'один': 171,\n",
              " 'департамента': 172,\n",
              " 'министр': 173,\n",
              " 'информации': 174,\n",
              " 'тонн': 175,\n",
              " 'больше': 176,\n",
              " 'сша': 177,\n",
              " 'ноября': 178,\n",
              " 'совета': 179,\n",
              " 'средства': 180,\n",
              " 'рост': 181,\n",
              " 'здесь': 182,\n",
              " 'населения': 183,\n",
              " 'работу': 184,\n",
              " 'сумму': 185,\n",
              " 'два': 186,\n",
              " 'проект': 187,\n",
              " 'поэтому': 188,\n",
              " 'свою': 189,\n",
              " 'сообщил': 190,\n",
              " 'которая': 191,\n",
              " 'развитие': 192,\n",
              " 'деньги': 193,\n",
              " 'системы': 194,\n",
              " 'участие': 195,\n",
              " 'раз': 196,\n",
              " 'стране': 197,\n",
              " 'уровне': 198,\n",
              " 'строительство': 199,\n",
              " 'передает': 200,\n",
              " 'объем': 201,\n",
              " 'даже': 202,\n",
              " 'могут': 203,\n",
              " 'около': 204,\n",
              " 'сфере': 205,\n",
              " 'других': 206,\n",
              " 'рынка': 207,\n",
              " 'государственных': 208,\n",
              " 'стороны': 209,\n",
              " 'период': 210,\n",
              " 'вы': 211,\n",
              " 'астане': 212,\n",
              " 'активов': 213,\n",
              " 'месяцев': 214,\n",
              " 'согласно': 215,\n",
              " 'первый': 216,\n",
              " 'уровня': 217,\n",
              " 'ли': 218,\n",
              " 'пенсионных': 219,\n",
              " 'фонд': 220,\n",
              " 'рынке': 221,\n",
              " 'среди': 222,\n",
              " 'инвестиций': 223,\n",
              " 'банков': 224,\n",
              " 'государственной': 225,\n",
              " 'нам': 226,\n",
              " 'роста': 227,\n",
              " 'составляет': 228,\n",
              " 'предприятий': 229,\n",
              " 'кто': 230,\n",
              " 'случае': 231,\n",
              " 'сообщает': 232,\n",
              " 'главы': 233,\n",
              " 'вопросы': 234,\n",
              " 'другие': 235,\n",
              " 'должен': 236,\n",
              " 'октября': 237,\n",
              " 'данным': 238,\n",
              " 'ст': 239,\n",
              " 'свои': 240,\n",
              " 'астаны': 241,\n",
              " 'составил': 242,\n",
              " 'этих': 243,\n",
              " 'доля': 244,\n",
              " 'национальный': 245,\n",
              " 'байтерек': 246,\n",
              " 'тогда': 247,\n",
              " 'надо': 248,\n",
              " 'родился': 249,\n",
              " 'новые': 250,\n",
              " 'организации': 251,\n",
              " 'отношении': 252,\n",
              " 'часть': 253,\n",
              " 'суда': 254,\n",
              " 'стал': 255,\n",
              " 'решение': 256,\n",
              " 'отрасли': 257,\n",
              " 'услуг': 258,\n",
              " 'территории': 259,\n",
              " 'размере': 260,\n",
              " 'именно': 261,\n",
              " 'уровень': 262,\n",
              " 'ни': 263,\n",
              " 'сотрудничества': 264,\n",
              " 'детей': 265,\n",
              " 'лиц': 266,\n",
              " 'инвестициям': 267,\n",
              " 'авто': 268,\n",
              " 'несколько': 269,\n",
              " 'казахстанских': 270,\n",
              " 'порядка': 271,\n",
              " 'нефти': 272,\n",
              " 'целом': 273,\n",
              " 'место': 274,\n",
              " 'должности': 275,\n",
              " 'очередь': 276,\n",
              " 'теперь': 277,\n",
              " 'начала': 278,\n",
              " 'пока': 279,\n",
              " 'акима': 280,\n",
              " 'нурсултан': 281,\n",
              " 'предпринимателей': 282,\n",
              " 'нового': 283,\n",
              " 'настоящее': 284,\n",
              " 'поддержки': 285,\n",
              " 'государственного': 286,\n",
              " 'образования': 287,\n",
              " 'своей': 288,\n",
              " 'себя': 289,\n",
              " 'предприятия': 290,\n",
              " 'новый': 291,\n",
              " 'производство': 292,\n",
              " 'соответствии': 293,\n",
              " 'которой': 294,\n",
              " 'миллионов': 295,\n",
              " 'строительства': 296,\n",
              " 'работа': 297,\n",
              " 'промышленности': 298,\n",
              " 'возможность': 299,\n",
              " 'центр': 300,\n",
              " 'раза': 301,\n",
              " 'вместе': 302,\n",
              " 'деятельность': 303,\n",
              " 'совместно': 304,\n",
              " 'всем': 305,\n",
              " 'рынок': 306,\n",
              " 'казахстанской': 307,\n",
              " 'планируется': 308,\n",
              " 'меры': 309,\n",
              " 'правительству': 310,\n",
              " 'сайта': 311,\n",
              " 'следует': 312,\n",
              " 'перед': 313,\n",
              " 'стало': 314,\n",
              " 'три': 315,\n",
              " 'имеет': 316,\n",
              " 'обеспечить': 317,\n",
              " 'граждан': 318,\n",
              " 'руководитель': 319,\n",
              " 'двух': 320,\n",
              " 'стоимость': 321,\n",
              " 'директора': 322,\n",
              " 'нашей': 323,\n",
              " 'количество': 324,\n",
              " 'внимание': 325,\n",
              " 'процентов': 326,\n",
              " 'союза': 327,\n",
              " 'экономического': 328,\n",
              " 'которого': 329,\n",
              " 'этим': 330,\n",
              " 'центра': 331,\n",
              " 'отдела': 332,\n",
              " 'новой': 333,\n",
              " 'казахстанского': 334,\n",
              " 'напомним': 335,\n",
              " 'статьи': 336,\n",
              " 'начальник': 337,\n",
              " 'политики': 338,\n",
              " 'такие': 339,\n",
              " 'сектора': 340,\n",
              " 'менее': 341,\n",
              " 'иностранных': 342,\n",
              " 'результате': 343,\n",
              " 'потому': 344,\n",
              " 'течение': 345,\n",
              " 'министра': 346,\n",
              " 'инфраструктуры': 347,\n",
              " 'образом': 348,\n",
              " 'нацбанка': 349,\n",
              " 'мира': 350,\n",
              " 'предпринимательства': 351,\n",
              " 'изза': 352,\n",
              " 'наших': 353,\n",
              " 'являются': 354,\n",
              " 'части': 355,\n",
              " 'еаэс': 356,\n",
              " 'текущего': 357,\n",
              " 'лишь': 358,\n",
              " 'сентября': 359,\n",
              " 'там': 360,\n",
              " 'момент': 361,\n",
              " 'почти': 362,\n",
              " 'работе': 363,\n",
              " 'просто': 364,\n",
              " 'условиях': 365,\n",
              " 'качестве': 366,\n",
              " 'заявил': 367,\n",
              " 'такой': 368,\n",
              " 'сумма': 369,\n",
              " 'таких': 370,\n",
              " 'таким': 371,\n",
              " 'вот': 372,\n",
              " 'например': 373,\n",
              " 'первого': 374,\n",
              " 'одним': 375,\n",
              " 'решения': 376,\n",
              " 'эта': 377,\n",
              " 'мест': 378,\n",
              " 'независимости': 379,\n",
              " 'своих': 380,\n",
              " 'дел': 381,\n",
              " 'бишимбаев': 382,\n",
              " 'района': 383,\n",
              " 'сообщили': 384,\n",
              " 'рассказал': 385,\n",
              " 'объектов': 386,\n",
              " 'мне': 387,\n",
              " 'вопросам': 388,\n",
              " 'стать': 389,\n",
              " 'службы': 390,\n",
              " 'людей': 391,\n",
              " 'бюджета': 392,\n",
              " 'подчеркнул': 393,\n",
              " 'кредитов': 394,\n",
              " 'говорится': 395,\n",
              " 'одного': 396,\n",
              " 'финансов': 397,\n",
              " 'обеспечения': 398,\n",
              " 'стали': 399,\n",
              " 'частности': 400,\n",
              " 'назарбаева': 401,\n",
              " 'денег': 402,\n",
              " 'аким': 403,\n",
              " 'lada': 404,\n",
              " 'второй': 405,\n",
              " 'фото': 406,\n",
              " 'казинформ': 407,\n",
              " 'товаров': 408,\n",
              " 'дело': 409,\n",
              " 'наиболее': 410,\n",
              " 'миллиардов': 411,\n",
              " 'актау': 412,\n",
              " 'область': 413,\n",
              " 'правительство': 414,\n",
              " 'должно': 415,\n",
              " 'финансовых': 416,\n",
              " 'окончил': 417,\n",
              " 'ряд': 418,\n",
              " 'директоров': 419,\n",
              " 'либо': 420,\n",
              " 'создание': 421,\n",
              " 'университет': 422,\n",
              " 'проекты': 423,\n",
              " 'власти': 424,\n",
              " 'международных': 425,\n",
              " 'последние': 426,\n",
              " 'составила': 427,\n",
              " 'сообщению': 428,\n",
              " 'много': 429,\n",
              " 'завод': 430,\n",
              " 'мире': 431,\n",
              " 'экспо': 432,\n",
              " 'идет': 433,\n",
              " 'акций': 434,\n",
              " 'экономической': 435,\n",
              " 'сми': 436,\n",
              " 'ему': 437,\n",
              " 'сравнению': 438,\n",
              " 'бизнес': 439,\n",
              " 'главный': 440,\n",
              " 'представители': 441,\n",
              " 'государство': 442,\n",
              " 'условия': 443,\n",
              " 'известно': 444,\n",
              " 'одной': 445,\n",
              " 'суд': 446,\n",
              " 'органов': 447,\n",
              " 'благодаря': 448,\n",
              " 'важно': 449,\n",
              " 'прессслужба': 450,\n",
              " 'те': 451,\n",
              " 'тоже': 452,\n",
              " 'полностью': 453,\n",
              " 'нк': 454,\n",
              " 'м': 455,\n",
              " 'стоит': 456,\n",
              " 'технологий': 457,\n",
              " 'времени': 458,\n",
              " 'транспорта': 459,\n",
              " 'свой': 460,\n",
              " 'город': 461,\n",
              " 'эту': 462,\n",
              " 'региона': 463,\n",
              " 'участием': 464,\n",
              " 'каждый': 465,\n",
              " 'поручаю': 466,\n",
              " 'цен': 467,\n",
              " 'назначен': 468,\n",
              " 'жизни': 469,\n",
              " 'работать': 470,\n",
              " 'конце': 471,\n",
              " 'права': 472,\n",
              " 'конечно': 473,\n",
              " 'энергетики': 474,\n",
              " 'источник': 475,\n",
              " 'люди': 476,\n",
              " 'многие': 477,\n",
              " 'создать': 478,\n",
              " 'институт': 479,\n",
              " 'возможности': 480,\n",
              " 'поскольку': 481,\n",
              " 'прошлого': 482,\n",
              " 'говорит': 483,\n",
              " 'программе': 484,\n",
              " 'виде': 485,\n",
              " 'мнению': 486,\n",
              " 'международного': 487,\n",
              " 'считает': 488,\n",
              " 'корреспондент': 489,\n",
              " 'позволит': 490,\n",
              " 'система': 491,\n",
              " 'организаций': 492,\n",
              " 'государственный': 493,\n",
              " 'дня': 494,\n",
              " 'активно': 495,\n",
              " 'пути': 496,\n",
              " 'агентства': 497,\n",
              " 'конца': 498,\n",
              " 'достаточно': 499,\n",
              " 'инвесторов': 500,\n",
              " 'нефть': 501,\n",
              " 'контроля': 502,\n",
              " 'данный': 503,\n",
              " 'основе': 504,\n",
              " 'цены': 505,\n",
              " 'группы': 506,\n",
              " 'меня': 507,\n",
              " 'своего': 508,\n",
              " 'должна': 509,\n",
              " 'затем': 510,\n",
              " 'несмотря': 511,\n",
              " 'ситуации': 512,\n",
              " 'начале': 513,\n",
              " 'свыше': 514,\n",
              " 'снижение': 515,\n",
              " 'получить': 516,\n",
              " 'программа': 517,\n",
              " 'хотя': 518,\n",
              " 'ед': 519,\n",
              " 'международной': 520,\n",
              " 'здравоохранения': 521,\n",
              " 'помощи': 522,\n",
              " 'акции': 523,\n",
              " 'капитала': 524,\n",
              " 'ссылкой': 525,\n",
              " 'прав': 526,\n",
              " 'руководителя': 527,\n",
              " 'крупных': 528,\n",
              " 'завода': 529,\n",
              " 'сообщении': 530,\n",
              " 'работ': 531,\n",
              " 'почему': 532,\n",
              " 'него': 533,\n",
              " 'проведения': 534,\n",
              " 'ставки': 535,\n",
              " 'рабочих': 536,\n",
              " 'км': 537,\n",
              " 'хозяйства': 538,\n",
              " 'трлн': 539,\n",
              " 'особенно': 540,\n",
              " 'опыт': 541,\n",
              " 'далее': 542,\n",
              " 'сегодняшний': 543,\n",
              " 'заседания': 544,\n",
              " 'модернизации': 545,\n",
              " 'банки': 546,\n",
              " 'поддержку': 547,\n",
              " 'системе': 548,\n",
              " 'целях': 549,\n",
              " 'казахстанцев': 550,\n",
              " 'труда': 551,\n",
              " 'всегда': 552,\n",
              " 'ситуация': 553,\n",
              " 'некоторые': 554,\n",
              " 'парламента': 555,\n",
              " 'коррупции': 556,\n",
              " 'первую': 557,\n",
              " 'целью': 558,\n",
              " 'учетом': 559,\n",
              " 'ведь': 560,\n",
              " 'февраля': 561,\n",
              " 'областного': 562,\n",
              " 'услуги': 563,\n",
              " 'единиц': 564,\n",
              " 'данные': 565,\n",
              " 'тот': 566,\n",
              " 'курс': 567,\n",
              " 'сразу': 568,\n",
              " 'проблемы': 569,\n",
              " 'республике': 570,\n",
              " 'участия': 571,\n",
              " 'большой': 572,\n",
              " 'практически': 573,\n",
              " 'банком': 574,\n",
              " 'финансовой': 575,\n",
              " 'участников': 576,\n",
              " 'ввп': 577,\n",
              " 'против': 578,\n",
              " 'ндс': 579,\n",
              " 'июля': 580,\n",
              " 'bank': 581,\n",
              " 'жол': 582,\n",
              " 'дела': 583,\n",
              " 'kazakhstan': 584,\n",
              " 'этому': 585,\n",
              " 'выше': 586,\n",
              " 'сети': 587,\n",
              " 'срок': 588,\n",
              " 'сделки': 589,\n",
              " 'китай': 590,\n",
              " 'комплекса': 591,\n",
              " 'вагонов': 592,\n",
              " 'ктж': 593,\n",
              " 'перевозок': 594,\n",
              " 'социальной': 595,\n",
              " 'культуры': 596,\n",
              " 'дней': 597,\n",
              " 'которое': 598,\n",
              " 'изменения': 599,\n",
              " 'пассажиров': 600,\n",
              " 'странах': 601,\n",
              " 'социальных': 602,\n",
              " 'наши': 603,\n",
              " 'должность': 604,\n",
              " 'городе': 605,\n",
              " 'комплекс': 606,\n",
              " 'работал': 607,\n",
              " 'финансирования': 608,\n",
              " 'процента': 609,\n",
              " 'премьерминистра': 610,\n",
              " 'тех': 611,\n",
              " 'спорта': 612,\n",
              " 'управление': 613,\n",
              " 'свое': 614,\n",
              " 'комиссии': 615,\n",
              " 'получения': 616,\n",
              " 'отметить': 617,\n",
              " 'экономике': 618,\n",
              " 'заместителем': 619,\n",
              " 'прежде': 620,\n",
              " 'закона': 621,\n",
              " 'снг': 622,\n",
              " 'министерство': 623,\n",
              " 'будем': 624,\n",
              " 'создания': 625,\n",
              " 'пенсионные': 626,\n",
              " 'стала': 627,\n",
              " 'данных': 628,\n",
              " 'карагандинской': 629,\n",
              " 'информацию': 630,\n",
              " 'агентство': 631,\n",
              " 'торговли': 632,\n",
              " 'т': 633,\n",
              " 'самрукказына': 634,\n",
              " 'государств': 635,\n",
              " 'сайте': 636,\n",
              " 'имущества': 637,\n",
              " 'над': 638,\n",
              " 'находится': 639,\n",
              " 'предприятие': 640,\n",
              " 'возможно': 641,\n",
              " 'состав': 642,\n",
              " 'субъектов': 643,\n",
              " 'да': 644,\n",
              " 'реализация': 645,\n",
              " 'впервые': 646,\n",
              " 'помощь': 647,\n",
              " 'invest': 648,\n",
              " 'қазақстан': 649,\n",
              " 'поезда': 650,\n",
              " 'миллиарда': 651,\n",
              " 'защиты': 652,\n",
              " 'дальше': 653,\n",
              " 'программ': 654,\n",
              " 'другой': 655,\n",
              " 'заседании': 656,\n",
              " 'газа': 657,\n",
              " 'доходов': 658,\n",
              " 'аурум': 659,\n",
              " 'касается': 660,\n",
              " 'машин': 661,\n",
              " 'внутренних': 662,\n",
              " 'общества': 663,\n",
              " 'принять': 664,\n",
              " 'прошлом': 665,\n",
              " 'республиканского': 666,\n",
              " 'станции': 667,\n",
              " 'экспорта': 668,\n",
              " 'сам': 669,\n",
              " 'мер': 670,\n",
              " 'университета': 671,\n",
              " 'сделать': 672,\n",
              " 'повышение': 673,\n",
              " 'продажи': 674,\n",
              " 'имени': 675,\n",
              " 'института': 676,\n",
              " 'сельского': 677,\n",
              " 'задача': 678,\n",
              " 'систему': 679,\n",
              " 'нпп': 680,\n",
              " 'автомобили': 681,\n",
              " 'бузгул': 682,\n",
              " 'заместителя': 683,\n",
              " 'путь': 684,\n",
              " 'пять': 685,\n",
              " 'месте': 686,\n",
              " 'лица': 687,\n",
              " 'первое': 688,\n",
              " 'встречи': 689,\n",
              " 'казахстанский': 690,\n",
              " 'соответственно': 691,\n",
              " 'включая': 692,\n",
              " 'kase': 693,\n",
              " 'малого': 694,\n",
              " 'дома': 695,\n",
              " 'стоимости': 696,\n",
              " 'роль': 697,\n",
              " 'активы': 698,\n",
              " 'производству': 699,\n",
              " 'прессслужбе': 700,\n",
              " 'жилья': 701,\n",
              " 'накоплений': 702,\n",
              " 'позже': 703,\n",
              " 'получил': 704,\n",
              " 'сообщила': 705,\n",
              " 'думаю': 706,\n",
              " 'ставка': 707,\n",
              " 'качества': 708,\n",
              " 'китая': 709,\n",
              " 'администрации': 710,\n",
              " 'российской': 711,\n",
              " 'провести': 712,\n",
              " 'котором': 713,\n",
              " 'путем': 714,\n",
              " 'х': 715,\n",
              " 'мероприятия': 716,\n",
              " 'увеличение': 717,\n",
              " 'мажилиса': 718,\n",
              " 'кодекса': 719,\n",
              " 'самых': 720,\n",
              " 'базе': 721,\n",
              " 'своем': 722,\n",
              " 'транспортных': 723,\n",
              " 'начальника': 724,\n",
              " 'азии': 725,\n",
              " 'оборудования': 726,\n",
              " 'атамекен': 727,\n",
              " 'поддержке': 728,\n",
              " 'финансового': 729,\n",
              " 'документов': 730,\n",
              " 'общество': 731,\n",
              " 'иа': 732,\n",
              " 'вкладчиков': 733,\n",
              " 'второго': 734,\n",
              " 'результаты': 735,\n",
              " 'месяц': 736,\n",
              " 'отмечается': 737,\n",
              " 'актобе': 738,\n",
              " 'информация': 739,\n",
              " 'народный': 740,\n",
              " 'эксперты': 741,\n",
              " 'потом': 742,\n",
              " 'наша': 743,\n",
              " 'получили': 744,\n",
              " 'месяца': 745,\n",
              " 'речь': 746,\n",
              " 'рф': 747,\n",
              " 'число': 748,\n",
              " 'составит': 749,\n",
              " 'работает': 750,\n",
              " 'проблем': 751,\n",
              " 'совет': 752,\n",
              " 'переговоры': 753,\n",
              " 'вопросов': 754,\n",
              " 'среднего': 755,\n",
              " 'пост': 756,\n",
              " 'примеру': 757,\n",
              " 'модели': 758,\n",
              " 'собственности': 759,\n",
              " 'технологии': 760,\n",
              " 'рейтинг': 761,\n",
              " 'миллиона': 762,\n",
              " 'представителей': 763,\n",
              " 'законодательства': 764,\n",
              " 'условий': 765,\n",
              " 'поездов': 766,\n",
              " 'суммы': 767,\n",
              " 'человека': 768,\n",
              " 'ассоциации': 769,\n",
              " 'первой': 770,\n",
              " 'приняли': 771,\n",
              " 'дорог': 772,\n",
              " 'делам': 773,\n",
              " 'национальным': 774,\n",
              " 'которым': 775,\n",
              " 'трех': 776,\n",
              " 'чего': 777,\n",
              " 'текущем': 778,\n",
              " 'самым': 779,\n",
              " 'кнб': 780,\n",
              " 'меньше': 781,\n",
              " 'начал': 782,\n",
              " 'финансирование': 783,\n",
              " 'председателем': 784,\n",
              " 'куандык': 785,\n",
              " 'тому': 786,\n",
              " 'цена': 787,\n",
              " 'продаж': 788,\n",
              " 'отечественных': 789,\n",
              " 'бюджет': 790,\n",
              " 'крупнейших': 791,\n",
              " 'кредитования': 792,\n",
              " 'ниже': 793,\n",
              " 'конкуренции': 794,\n",
              " 'годом': 795,\n",
              " 'жолы': 796,\n",
              " 'народного': 797,\n",
              " 'трудовой': 798,\n",
              " 'эксплуатацию': 799,\n",
              " 'нурсултана': 800,\n",
              " 'банке': 801,\n",
              " 'холдинга': 802,\n",
              " 'основной': 803,\n",
              " 'тысячи': 804,\n",
              " 'направлении': 805,\n",
              " 'управляющий': 806,\n",
              " 'всей': 807,\n",
              " 'долю': 808,\n",
              " 'нацбанк': 809,\n",
              " 'проводится': 810,\n",
              " 'экономических': 811,\n",
              " 'помимо': 812,\n",
              " 'которую': 813,\n",
              " 'частных': 814,\n",
              " 'план': 815,\n",
              " 'международный': 816,\n",
              " 'общей': 817,\n",
              " 'программу': 818,\n",
              " 'холдинг': 819,\n",
              " 'ведомства': 820,\n",
              " 'отношений': 821,\n",
              " 'имеют': 822,\n",
              " 'ответственности': 823,\n",
              " 'алматинской': 824,\n",
              " 'задачи': 825,\n",
              " 'реализацию': 826,\n",
              " 'компанией': 827,\n",
              " 'августа': 828,\n",
              " 'защите': 829,\n",
              " 'годах': 830,\n",
              " 'повышения': 831,\n",
              " 'науки': 832,\n",
              " 'партии': 833,\n",
              " 'мир': 834,\n",
              " 'сектор': 835,\n",
              " 'евразийского': 836,\n",
              " 'портфеля': 837,\n",
              " 'странами': 838,\n",
              " 'движения': 839,\n",
              " 'районе': 840,\n",
              " 'увеличить': 841,\n",
              " 'ничего': 842,\n",
              " 'находятся': 843,\n",
              " 'секторе': 844,\n",
              " 'регионе': 845,\n",
              " 'одна': 846,\n",
              " 'казахстанские': 847,\n",
              " 'показатель': 848,\n",
              " 'kaznex': 849,\n",
              " 'перевозки': 850,\n",
              " 'какие': 851,\n",
              " 'сотрудников': 852,\n",
              " 'различных': 853,\n",
              " 'говорить': 854,\n",
              " 'себе': 855,\n",
              " 'осуществляется': 856,\n",
              " 'станет': 857,\n",
              " 'расследование': 858,\n",
              " 'казахский': 859,\n",
              " 'действия': 860,\n",
              " 'новая': 861,\n",
              " 'карты': 862,\n",
              " 'собой': 863,\n",
              " 'пенсионного': 864,\n",
              " 'истории': 865,\n",
              " 'такого': 866,\n",
              " 'энергии': 867,\n",
              " 'легковых': 868,\n",
              " 'интересов': 869,\n",
              " 'такое': 870,\n",
              " 'работников': 871,\n",
              " 'группа': 872,\n",
              " 'ежегодно': 873,\n",
              " 'добычи': 874,\n",
              " 'требования': 875,\n",
              " 'нашего': 876,\n",
              " 'общего': 877,\n",
              " 'хорошо': 878,\n",
              " 'своим': 879,\n",
              " 'электроэнергии': 880,\n",
              " 'право': 881,\n",
              " 'евро': 882,\n",
              " 'ноябре': 883,\n",
              " 'использования': 884,\n",
              " 'дороги': 885,\n",
              " 'общая': 886,\n",
              " 'техники': 887,\n",
              " 'первым': 888,\n",
              " 'вообще': 889,\n",
              " 'тг': 890,\n",
              " 'места': 891,\n",
              " 'свободы': 892,\n",
              " 'даму': 893,\n",
              " 'клиентов': 894,\n",
              " 'доли': 895,\n",
              " 'валюте': 896,\n",
              " 'размер': 897,\n",
              " 'показатели': 898,\n",
              " 'потенциал': 899,\n",
              " 'бву': 900,\n",
              " 'вновь': 901,\n",
              " 'добавил': 902,\n",
              " 'наш': 903,\n",
              " 'мероприятий': 904,\n",
              " 'налогового': 905,\n",
              " 'социального': 906,\n",
              " 'регионах': 907,\n",
              " 'facebook': 908,\n",
              " 'приходится': 909,\n",
              " 'потребителей': 910,\n",
              " 'произошло': 911,\n",
              " 'мировой': 912,\n",
              " 'сагинтаев': 913,\n",
              " 'россия': 914,\n",
              " 'бывший': 915,\n",
              " 'особо': 916,\n",
              " 'операций': 917,\n",
              " 'генеральный': 918,\n",
              " 'собственных': 919,\n",
              " 'линии': 920,\n",
              " 'остается': 921,\n",
              " 'экспорт': 922,\n",
              " 'производителей': 923,\n",
              " 'обязательств': 924,\n",
              " 'декабре': 925,\n",
              " 'инвестиционного': 926,\n",
              " 'государственные': 927,\n",
              " 'обеспечение': 928,\n",
              " 'регионов': 929,\n",
              " 'руководство': 930,\n",
              " 'занимаемой': 931,\n",
              " 'состоянию': 932,\n",
              " 'многих': 933,\n",
              " 'итоге': 934,\n",
              " 'предложения': 935,\n",
              " 'пояснил': 936,\n",
              " 'стратегии': 937,\n",
              " 'казахстанская': 938,\n",
              " 'еабр': 939,\n",
              " 'удалось': 940,\n",
              " 'таможенного': 941,\n",
              " 'член': 942,\n",
              " 'премьерминистр': 943,\n",
              " 'процесс': 944,\n",
              " 'привлечения': 945,\n",
              " 'представитель': 946,\n",
              " 'рынки': 947,\n",
              " 'столицы': 948,\n",
              " 'общественного': 949,\n",
              " 'казахского': 950,\n",
              " 'специалистов': 951,\n",
              " 'государством': 952,\n",
              " 'приватизации': 953,\n",
              " 'снижения': 954,\n",
              " 'центркредит': 955,\n",
              " 'фондом': 956,\n",
              " 'единый': 957,\n",
              " 'второе': 958,\n",
              " 'самрукэнерго': 959,\n",
              " 'вклад': 960,\n",
              " 'центральной': 961,\n",
              " 'грузов': 962,\n",
              " 'федерации': 963,\n",
              " 'стаж': 964,\n",
              " 'отношения': 965,\n",
              " 'часов': 966,\n",
              " 'большое': 967,\n",
              " 'повысить': 968,\n",
              " 'инвестиции': 969,\n",
              " 'доллар': 970,\n",
              " 'вознаграждения': 971,\n",
              " 'облигаций': 972,\n",
              " 'сказать': 973,\n",
              " 'занимает': 974,\n",
              " 'ресурсов': 975,\n",
              " 'депутат': 976,\n",
              " 'автомобиль': 977,\n",
              " 'соглашение': 978,\n",
              " 'правительством': 979,\n",
              " 'расходы': 980,\n",
              " 'деле': 981,\n",
              " 'южноказахстанской': 982,\n",
              " 'июня': 983,\n",
              " 'отметили': 984,\n",
              " 'плана': 985,\n",
              " 'жителей': 986,\n",
              " '\\u2009': 987,\n",
              " 'жамбылской': 988,\n",
              " 'прогноз': 989,\n",
              " 'поручил': 990,\n",
              " 'школы': 991,\n",
              " 'принято': 992,\n",
              " 'соглашения': 993,\n",
              " 'нации': 994,\n",
              " 'кв': 995,\n",
              " 'степени': 996,\n",
              " 'работают': 997,\n",
              " 'организация': 998,\n",
              " 'образование': 999,\n",
              " 'азия': 1000,\n",
              " ...}"
            ]
          },
          "metadata": {},
          "execution_count": 13
        }
      ]
    },
    {
      "cell_type": "code",
      "source": [
        "sequences = tokenizer.texts_to_sequences(reviews)"
      ],
      "metadata": {
        "id": "RcZiLa6tAusD"
      },
      "execution_count": null,
      "outputs": []
    },
    {
      "cell_type": "code",
      "source": [
        "index = 1\n",
        "print(reviews[index])\n",
        "print(sequences[index])"
      ],
      "metadata": {
        "colab": {
          "base_uri": "https://localhost:8080/"
        },
        "id": "awhmCTmYAuu0",
        "outputId": "3fd00ca0-1f6e-4694-fbcc-f1644b57c61d"
      },
      "execution_count": null,
      "outputs": [
        {
          "output_type": "stream",
          "name": "stdout",
          "text": [
            "infokz  января     портал центразия со ссылкой на свои источники в астане сообщил об аресте бывшего заместителя руководителя администрации президента баглана майлыбаева сообщает инфоkz   официального подтверждения этой информации нет   в статье портала центразия даны несколько версий причины ареста причиной могут быть с хищения  млрд тенге выделенных на политические и исторические исследования по другой версии арест майлыбаева связан с делом в рамках которого арестован эксминистр куандык бишимбаев  хищения в холдинге байтерек   на днях президент освободил баглана майлыбаева от должности заместителя руководителя своей администрации давайте вспомним чем известен баглан асаубаевич и какие должности он занимал   биография   баглан асаубаевич майлыбаев появился на свет в джамбуле ныне тараз  мая  года по первой специальности он журналист окончил в  году альмаматер большинства казахстанских тружеников пера и микрофона  казгу имени альфараби   спустя два года он получил второе образование в российской академии госслужбы   в  защитил докторскую на тему становления и эволюции института президента   с  по  годы майлыбаев работал старшим научным сотрудником института государства и права академии наук и преподавателем в казахском государственном университете международных отношений и мировых языков имени абылай хана в народе именуемом иняз   затем он работал сразу по двум своим профессиям  журналиста и госуправленца в министерстве культуры информации и общественного согласия в  руководил департаментом сми позднее возглавлял главную газету страны  казахстанскую правду руководил прессслужбой президента был вицеминистром культуры и информации   и наконец был назначен заместителем руководителя администрации главы государства эту должность баглан асаубаевич занимал с  по  годы   цитаты   в  году майлыбаев открывал в астане службу центральных коммуникаций вот как он прокомментировал это событие   создана служба центральных коммуникаций при правительстве страны впервые в истории нашей страны его возглавил официальный представитель правительства заместитель руководителя канцелярии премьерминистра  ержан ашикбаев он всегда давал эксклюзивную свежую информацию и сегодня данная структура обретает важное значение для всей нашей работы поскольку единым спикером теперь будет центр коммуникаций который возглавляет ержан ашикбаев самая главная информация будет идти из уст официального представителя правительства   источник      по сообщению сайта костанай тв\n",
            "[8060, 86, 2501, 65, 525, 3, 240, 3880, 1, 212, 190, 72, 5535, 1301, 683, 527, 710, 91, 8836, 4466, 232, 2514, 4980, 132, 174, 163, 1, 1295, 5935, 8494, 269, 2515, 5800, 1585, 203, 111, 5, 4416, 34, 12, 2479, 3, 4654, 2, 8670, 1466, 4, 655, 2022, 1982, 4466, 4041, 5, 5215, 1, 71, 329, 3426, 5593, 785, 382, 4416, 1, 4079, 246, 3, 4912, 123, 8836, 4466, 19, 275, 683, 527, 288, 710, 3750, 127, 7416, 6711, 2, 851, 275, 31, 1149, 6711, 3718, 4232, 3, 2862, 1, 2613, 4315, 1017, 8, 4, 770, 1419, 31, 5536, 417, 1, 20, 3955, 270, 2, 675, 1827, 2376, 186, 8, 31, 704, 958, 999, 1, 711, 1150, 8837, 1, 3, 1650, 3304, 2, 676, 91, 5, 4, 140, 3718, 607, 676, 75, 2, 472, 1150, 1236, 2, 1, 2052, 2737, 2942, 425, 821, 2, 1758, 7052, 675, 7053, 1, 510, 31, 607, 568, 4, 4266, 879, 8495, 2, 1, 1326, 596, 174, 2, 949, 3543, 1, 5042, 4757, 436, 3795, 2541, 8496, 59, 4508, 5042, 91, 51, 3253, 596, 2, 174, 2, 3064, 51, 468, 619, 527, 710, 233, 75, 462, 604, 6711, 1149, 5, 4, 140, 1, 20, 3718, 1, 212, 2526, 2989, 1002, 372, 17, 31, 1923, 16, 3645, 1311, 1635, 2989, 1002, 27, 2023, 59, 646, 1, 865, 323, 59, 33, 4509, 1522, 946, 164, 114, 527, 4655, 610, 6493, 31, 552, 630, 2, 78, 1800, 2761, 5936, 1094, 9, 807, 323, 100, 481, 6712, 277, 28, 300, 1002, 84, 3834, 6493, 2316, 2132, 739, 28, 2965, 14, 2514, 5158, 164, 475, 4, 428, 311, 2579, 5216]\n"
          ]
        }
      ]
    },
    {
      "cell_type": "code",
      "source": [
        "tokenizer.word_index['астана']"
      ],
      "metadata": {
        "colab": {
          "base_uri": "https://localhost:8080/"
        },
        "id": "JUAqQMj8AuyW",
        "outputId": "b835c663-7cae-4cf6-ef5c-61fb2e4a78b1"
      },
      "execution_count": null,
      "outputs": [
        {
          "output_type": "execute_result",
          "data": {
            "text/plain": [
              "92"
            ]
          },
          "metadata": {},
          "execution_count": 16
        }
      ]
    },
    {
      "cell_type": "code",
      "source": [
        "x_train = pad_sequences(sequences, maxlen=max_review_len)"
      ],
      "metadata": {
        "id": "cl_LMw5VAu1D"
      },
      "execution_count": null,
      "outputs": []
    },
    {
      "cell_type": "code",
      "source": [
        "x_train[:5]"
      ],
      "metadata": {
        "colab": {
          "base_uri": "https://localhost:8080/"
        },
        "id": "28tA358pAu3M",
        "outputId": "ab0761e2-6710-4b8d-cf36-43953dc76dfd"
      },
      "execution_count": null,
      "outputs": [
        {
          "output_type": "execute_result",
          "data": {
            "text/plain": [
              "array([[   0,    0,    0, ...,    2, 1310, 1577],\n",
              "       [2514, 4980,  132, ...,  311, 2579, 5216],\n",
              "       [   0,    0,    0, ..., 2066, 4603,   79],\n",
              "       [   0,    0,    0, ...,  428,  311, 4981],\n",
              "       [   3, 1196, 2259, ...,    2, 1310, 1577]], dtype=int32)"
            ]
          },
          "metadata": {},
          "execution_count": 18
        }
      ]
    },
    {
      "cell_type": "markdown",
      "source": [
        "# Параметры нейронки"
      ],
      "metadata": {
        "id": "1F4xACNf553Z"
      }
    },
    {
      "cell_type": "code",
      "source": [
        "import tensorflow as tf\n",
        "\n",
        "from tensorflow.keras import layers\n",
        "from tensorflow.keras import losses"
      ],
      "metadata": {
        "id": "JnE29fcCfltw"
      },
      "execution_count": null,
      "outputs": []
    },
    {
      "cell_type": "code",
      "source": [
        "model = Sequential()\n",
        "model.add(Embedding(num_words, 64, input_length=max_review_len))\n",
        "model.add(GRU(8))\n",
        "model.add(Dense(1, activation='sigmoid'))"
      ],
      "metadata": {
        "id": "W5t06BCcAu6e"
      },
      "execution_count": null,
      "outputs": []
    },
    {
      "cell_type": "code",
      "source": [
        "\n",
        "model.compile(optimizer='adam', \n",
        "              loss='binary_crossentropy', \n",
        "              metrics=['accuracy'])"
      ],
      "metadata": {
        "id": "4wrcIeBQA4xK"
      },
      "execution_count": null,
      "outputs": []
    },
    {
      "cell_type": "markdown",
      "source": [
        "# Обчение"
      ],
      "metadata": {
        "id": "JAMoQWWY53At"
      }
    },
    {
      "cell_type": "code",
      "source": [
        "model_save_path = 'best_model.h5'\n",
        "checkpoint_callback = ModelCheckpoint(model_save_path, \n",
        "                                      monitor='val_accuracy',\n",
        "                                      save_best_only=True,\n",
        "                                      verbose=1)"
      ],
      "metadata": {
        "id": "6hvzf30WA4zE"
      },
      "execution_count": null,
      "outputs": []
    },
    {
      "cell_type": "code",
      "source": [
        "history = model.fit(x_train, \n",
        "                    y_train, \n",
        "                    epochs=10,\n",
        "                    batch_size=128,\n",
        "                    validation_split=0.1,\n",
        "                    callbacks=[checkpoint_callback])"
      ],
      "metadata": {
        "colab": {
          "base_uri": "https://localhost:8080/"
        },
        "id": "M0Y1tiP_A42S",
        "outputId": "5e94e139-a324-4f0c-b75d-e28b49d4f2a1"
      },
      "execution_count": null,
      "outputs": [
        {
          "output_type": "stream",
          "name": "stdout",
          "text": [
            "Epoch 1/10\n"
          ]
        },
        {
          "output_type": "stream",
          "name": "stderr",
          "text": [
            "/usr/local/lib/python3.8/dist-packages/tensorflow/python/util/dispatch.py:1082: UserWarning: \"`binary_crossentropy` received `from_logits=True`, but the `output` argument was produced by a sigmoid or softmax activation and thus does not represent logits. Was this intended?\"\n",
            "  return dispatch_target(*args, **kwargs)\n"
          ]
        },
        {
          "output_type": "stream",
          "name": "stdout",
          "text": [
            "47/47 [==============================] - ETA: 0s - loss: 0.6198 - binary_accuracy: 0.8269"
          ]
        },
        {
          "output_type": "stream",
          "name": "stderr",
          "text": [
            "WARNING:tensorflow:Can save best model only with val_accuracy available, skipping.\n"
          ]
        },
        {
          "output_type": "stream",
          "name": "stdout",
          "text": [
            "\b\b\b\b\b\b\b\b\b\b\b\b\b\b\b\b\b\b\b\b\b\b\b\b\b\b\b\b\b\b\b\b\b\b\b\b\b\b\b\b\b\b\b\b\b\b\b\b\b\b\b\b\b\b\b\b\b\b\b\b\b\b\b\b\b\b\b\b\b\b\b\b\b\b\b\b\b\b\b\b\b\b\b\b\b\b\b\b\b\r47/47 [==============================] - 10s 150ms/step - loss: 0.6198 - binary_accuracy: 0.8269 - val_loss: 0.5298 - val_binary_accuracy: 0.8169\n",
            "Epoch 2/10\n",
            "47/47 [==============================] - ETA: 0s - loss: 0.4554 - binary_accuracy: 0.8269"
          ]
        },
        {
          "output_type": "stream",
          "name": "stderr",
          "text": [
            "WARNING:tensorflow:Can save best model only with val_accuracy available, skipping.\n"
          ]
        },
        {
          "output_type": "stream",
          "name": "stdout",
          "text": [
            "\b\b\b\b\b\b\b\b\b\b\b\b\b\b\b\b\b\b\b\b\b\b\b\b\b\b\b\b\b\b\b\b\b\b\b\b\b\b\b\b\b\b\b\b\b\b\b\b\b\b\b\b\b\b\b\b\b\b\b\b\b\b\b\b\b\b\b\b\b\b\b\b\b\b\b\b\b\b\b\b\b\b\b\b\b\b\b\b\b\r47/47 [==============================] - 8s 161ms/step - loss: 0.4554 - binary_accuracy: 0.8269 - val_loss: 0.4452 - val_binary_accuracy: 0.8169\n",
            "Epoch 3/10\n",
            "47/47 [==============================] - ETA: 0s - loss: 0.3870 - binary_accuracy: 0.8269"
          ]
        },
        {
          "output_type": "stream",
          "name": "stderr",
          "text": [
            "WARNING:tensorflow:Can save best model only with val_accuracy available, skipping.\n"
          ]
        },
        {
          "output_type": "stream",
          "name": "stdout",
          "text": [
            "\b\b\b\b\b\b\b\b\b\b\b\b\b\b\b\b\b\b\b\b\b\b\b\b\b\b\b\b\b\b\b\b\b\b\b\b\b\b\b\b\b\b\b\b\b\b\b\b\b\b\b\b\b\b\b\b\b\b\b\b\b\b\b\b\b\b\b\b\b\b\b\b\b\b\b\b\b\b\b\b\b\b\b\b\b\b\b\b\b\r47/47 [==============================] - 7s 144ms/step - loss: 0.3870 - binary_accuracy: 0.8269 - val_loss: 0.4215 - val_binary_accuracy: 0.8169\n",
            "Epoch 4/10\n",
            "47/47 [==============================] - ETA: 0s - loss: 0.3261 - binary_accuracy: 0.8269"
          ]
        },
        {
          "output_type": "stream",
          "name": "stderr",
          "text": [
            "WARNING:tensorflow:Can save best model only with val_accuracy available, skipping.\n"
          ]
        },
        {
          "output_type": "stream",
          "name": "stdout",
          "text": [
            "\b\b\b\b\b\b\b\b\b\b\b\b\b\b\b\b\b\b\b\b\b\b\b\b\b\b\b\b\b\b\b\b\b\b\b\b\b\b\b\b\b\b\b\b\b\b\b\b\b\b\b\b\b\b\b\b\b\b\b\b\b\b\b\b\b\b\b\b\b\b\b\b\b\b\b\b\b\b\b\b\b\b\b\b\b\b\b\b\b\r47/47 [==============================] - 8s 164ms/step - loss: 0.3261 - binary_accuracy: 0.8269 - val_loss: 0.4023 - val_binary_accuracy: 0.8169\n",
            "Epoch 5/10\n",
            "47/47 [==============================] - ETA: 0s - loss: 0.2561 - binary_accuracy: 0.8269"
          ]
        },
        {
          "output_type": "stream",
          "name": "stderr",
          "text": [
            "WARNING:tensorflow:Can save best model only with val_accuracy available, skipping.\n"
          ]
        },
        {
          "output_type": "stream",
          "name": "stdout",
          "text": [
            "\b\b\b\b\b\b\b\b\b\b\b\b\b\b\b\b\b\b\b\b\b\b\b\b\b\b\b\b\b\b\b\b\b\b\b\b\b\b\b\b\b\b\b\b\b\b\b\b\b\b\b\b\b\b\b\b\b\b\b\b\b\b\b\b\b\b\b\b\b\b\b\b\b\b\b\b\b\b\b\b\b\b\b\b\b\b\b\b\b\r47/47 [==============================] - 7s 149ms/step - loss: 0.2561 - binary_accuracy: 0.8269 - val_loss: 0.4028 - val_binary_accuracy: 0.8169\n",
            "Epoch 6/10\n",
            "47/47 [==============================] - ETA: 0s - loss: 0.1991 - binary_accuracy: 0.8269"
          ]
        },
        {
          "output_type": "stream",
          "name": "stderr",
          "text": [
            "WARNING:tensorflow:Can save best model only with val_accuracy available, skipping.\n"
          ]
        },
        {
          "output_type": "stream",
          "name": "stdout",
          "text": [
            "\b\b\b\b\b\b\b\b\b\b\b\b\b\b\b\b\b\b\b\b\b\b\b\b\b\b\b\b\b\b\b\b\b\b\b\b\b\b\b\b\b\b\b\b\b\b\b\b\b\b\b\b\b\b\b\b\b\b\b\b\b\b\b\b\b\b\b\b\b\b\b\b\b\b\b\b\b\b\b\b\b\b\b\b\b\b\b\b\b\r47/47 [==============================] - 7s 153ms/step - loss: 0.1991 - binary_accuracy: 0.8269 - val_loss: 0.4351 - val_binary_accuracy: 0.8169\n",
            "Epoch 7/10\n",
            "47/47 [==============================] - ETA: 0s - loss: 0.1605 - binary_accuracy: 0.8269"
          ]
        },
        {
          "output_type": "stream",
          "name": "stderr",
          "text": [
            "WARNING:tensorflow:Can save best model only with val_accuracy available, skipping.\n"
          ]
        },
        {
          "output_type": "stream",
          "name": "stdout",
          "text": [
            "\b\b\b\b\b\b\b\b\b\b\b\b\b\b\b\b\b\b\b\b\b\b\b\b\b\b\b\b\b\b\b\b\b\b\b\b\b\b\b\b\b\b\b\b\b\b\b\b\b\b\b\b\b\b\b\b\b\b\b\b\b\b\b\b\b\b\b\b\b\b\b\b\b\b\b\b\b\b\b\b\b\b\b\b\b\b\b\b\b\r47/47 [==============================] - 8s 163ms/step - loss: 0.1605 - binary_accuracy: 0.8269 - val_loss: 0.4532 - val_binary_accuracy: 0.8169\n",
            "Epoch 8/10\n",
            "47/47 [==============================] - ETA: 0s - loss: 0.1352 - binary_accuracy: 0.8269"
          ]
        },
        {
          "output_type": "stream",
          "name": "stderr",
          "text": [
            "WARNING:tensorflow:Can save best model only with val_accuracy available, skipping.\n"
          ]
        },
        {
          "output_type": "stream",
          "name": "stdout",
          "text": [
            "\b\b\b\b\b\b\b\b\b\b\b\b\b\b\b\b\b\b\b\b\b\b\b\b\b\b\b\b\b\b\b\b\b\b\b\b\b\b\b\b\b\b\b\b\b\b\b\b\b\b\b\b\b\b\b\b\b\b\b\b\b\b\b\b\b\b\b\b\b\b\b\b\b\b\b\b\b\b\b\b\b\b\b\b\b\b\b\b\b\r47/47 [==============================] - 7s 143ms/step - loss: 0.1352 - binary_accuracy: 0.8269 - val_loss: 0.4837 - val_binary_accuracy: 0.8169\n",
            "Epoch 9/10\n",
            "47/47 [==============================] - ETA: 0s - loss: 0.1208 - binary_accuracy: 0.8269"
          ]
        },
        {
          "output_type": "stream",
          "name": "stderr",
          "text": [
            "WARNING:tensorflow:Can save best model only with val_accuracy available, skipping.\n"
          ]
        },
        {
          "output_type": "stream",
          "name": "stdout",
          "text": [
            "\b\b\b\b\b\b\b\b\b\b\b\b\b\b\b\b\b\b\b\b\b\b\b\b\b\b\b\b\b\b\b\b\b\b\b\b\b\b\b\b\b\b\b\b\b\b\b\b\b\b\b\b\b\b\b\b\b\b\b\b\b\b\b\b\b\b\b\b\b\b\b\b\b\b\b\b\b\b\b\b\b\b\b\b\b\b\b\b\b\r47/47 [==============================] - 8s 163ms/step - loss: 0.1208 - binary_accuracy: 0.8269 - val_loss: 0.5104 - val_binary_accuracy: 0.8169\n",
            "Epoch 10/10\n",
            "47/47 [==============================] - ETA: 0s - loss: 0.1072 - binary_accuracy: 0.8269"
          ]
        },
        {
          "output_type": "stream",
          "name": "stderr",
          "text": [
            "WARNING:tensorflow:Can save best model only with val_accuracy available, skipping.\n"
          ]
        },
        {
          "output_type": "stream",
          "name": "stdout",
          "text": [
            "\b\b\b\b\b\b\b\b\b\b\b\b\b\b\b\b\b\b\b\b\b\b\b\b\b\b\b\b\b\b\b\b\b\b\b\b\b\b\b\b\b\b\b\b\b\b\b\b\b\b\b\b\b\b\b\b\b\b\b\b\b\b\b\b\b\b\b\b\b\b\b\b\b\b\b\b\b\b\b\b\b\b\b\b\b\b\b\b\b\r47/47 [==============================] - 7s 140ms/step - loss: 0.1072 - binary_accuracy: 0.8269 - val_loss: 0.5325 - val_binary_accuracy: 0.8169\n"
          ]
        }
      ]
    },
    {
      "cell_type": "code",
      "source": [
        "def plot_graphs(history, string):\n",
        "  plt.plot(history.history[string])\n",
        "  plt.plot(history.history['val_'+string])\n",
        "  plt.xlabel(\"Epochs\")\n",
        "  plt.ylabel(string)\n",
        "  plt.legend([string, 'val_'+string])\n",
        "  plt.show()\n",
        "  \n",
        "plot_graphs(history, \"accuracy\")\n",
        "plot_graphs(history, \"loss\")"
      ],
      "metadata": {
        "colab": {
          "base_uri": "https://localhost:8080/",
          "height": 541
        },
        "id": "DWLRn_c3YxlD",
        "outputId": "2baf1d69-3b78-43d4-f7e3-fbf62de5542e"
      },
      "execution_count": null,
      "outputs": [
        {
          "output_type": "display_data",
          "data": {
            "text/plain": [
              "<Figure size 432x288 with 1 Axes>"
            ],
            "image/png": "[encoded data removed]"
          },
          "metadata": {
            "needs_background": "light"
          }
        },
        {
          "output_type": "display_data",
          "data": {
            "text/plain": [
              "<Figure size 432x288 with 1 Axes>"
            ],
            "image/png": "[encoded data removed]"
          },
          "metadata": {
            "needs_background": "light"
          }
        }
      ]
    },
    {
      "cell_type": "markdown",
      "source": [
        "# Загрузка лучшей модели"
      ],
      "metadata": {
        "id": "TefoJ7lv6BrG"
      }
    },
    {
      "cell_type": "code",
      "source": [
        "model.load_weights(model_save_path)"
      ],
      "metadata": {
        "id": "fl-bUpF5A48A"
      },
      "execution_count": null,
      "outputs": []
    },
    {
      "cell_type": "markdown",
      "source": [
        "# Подготовка данных для обучения"
      ],
      "metadata": {
        "id": "yJkf9zbX6STC"
      }
    },
    {
      "cell_type": "code",
      "source": [
        "test = pd.read_csv('test.csv', \n",
        "                    header=None, \n",
        "                    names=['Review', 'Class'],)"
      ],
      "metadata": {
        "id": "dzvB7sJuA4_A"
      },
      "execution_count": null,
      "outputs": []
    },
    {
      "cell_type": "code",
      "source": [
        "test"
      ],
      "metadata": {
        "colab": {
          "base_uri": "https://localhost:8080/",
          "height": 423
        },
        "id": "C1SHvaunA5BF",
        "outputId": "010c50a5-3d77-4737-d46e-f5e7b691ccc7"
      },
      "execution_count": null,
      "outputs": [
        {
          "output_type": "execute_result",
          "data": {
            "text/plain": [
              "                                                 Review  Class\n",
              "0     досудебное расследование по факту покупки енпф...      0\n",
              "1     в атырау члены совета деловых женщин взяли под...      1\n",
              "2     тараз казинформ  рост промышленного производст...      1\n",
              "3     алматы  апреля казтаг  в алматы участились слу...      0\n",
              "4     в алматы в преддверии универсиады появится нов...      1\n",
              "...                                                 ...    ...\n",
              "1649  астана казинформ  казинформ предлагает читател...      1\n",
              "1650  современные технология нам помогут казахстан п...      1\n",
              "1651  как сообщает rankingkz совокупный кредитный по...      1\n",
              "1652  план нации  конкретных шагов активно реализует...      1\n",
              "1653  по данным союза предприятий автомобильной отра...      0\n",
              "\n",
              "[1654 rows x 2 columns]"
            ],
            "text/html": [
              "\n",
              "  <div id=\"df-c2ff4a4f-1b85-4c26-85e8-5b7adeadf0a8\">\n",
              "    <div class=\"colab-df-container\">\n",
              "      <div>\n",
              "<style scoped>\n",
              "    .dataframe tbody tr th:only-of-type {\n",
              "        vertical-align: middle;\n",
              "    }\n",
              "\n",
              "    .dataframe tbody tr th {\n",
              "        vertical-align: top;\n",
              "    }\n",
              "\n",
              "    .dataframe thead th {\n",
              "        text-align: right;\n",
              "    }\n",
              "</style>\n",
              "<table border=\"1\" class=\"dataframe\">\n",
              "  <thead>\n",
              "    <tr style=\"text-align: right;\">\n",
              "      <th></th>\n",
              "      <th>Review</th>\n",
              "      <th>Class</th>\n",
              "    </tr>\n",
              "  </thead>\n",
              "  <tbody>\n",
              "    <tr>\n",
              "      <th>0</th>\n",
              "      <td>досудебное расследование по факту покупки енпф...</td>\n",
              "      <td>0</td>\n",
              "    </tr>\n",
              "    <tr>\n",
              "      <th>1</th>\n",
              "      <td>в атырау члены совета деловых женщин взяли под...</td>\n",
              "      <td>1</td>\n",
              "    </tr>\n",
              "    <tr>\n",
              "      <th>2</th>\n",
              "      <td>тараз казинформ  рост промышленного производст...</td>\n",
              "      <td>1</td>\n",
              "    </tr>\n",
              "    <tr>\n",
              "      <th>3</th>\n",
              "      <td>алматы  апреля казтаг  в алматы участились слу...</td>\n",
              "      <td>0</td>\n",
              "    </tr>\n",
              "    <tr>\n",
              "      <th>4</th>\n",
              "      <td>в алматы в преддверии универсиады появится нов...</td>\n",
              "      <td>1</td>\n",
              "    </tr>\n",
              "    <tr>\n",
              "      <th>...</th>\n",
              "      <td>...</td>\n",
              "      <td>...</td>\n",
              "    </tr>\n",
              "    <tr>\n",
              "      <th>1649</th>\n",
              "      <td>астана казинформ  казинформ предлагает читател...</td>\n",
              "      <td>1</td>\n",
              "    </tr>\n",
              "    <tr>\n",
              "      <th>1650</th>\n",
              "      <td>современные технология нам помогут казахстан п...</td>\n",
              "      <td>1</td>\n",
              "    </tr>\n",
              "    <tr>\n",
              "      <th>1651</th>\n",
              "      <td>как сообщает rankingkz совокупный кредитный по...</td>\n",
              "      <td>1</td>\n",
              "    </tr>\n",
              "    <tr>\n",
              "      <th>1652</th>\n",
              "      <td>план нации  конкретных шагов активно реализует...</td>\n",
              "      <td>1</td>\n",
              "    </tr>\n",
              "    <tr>\n",
              "      <th>1653</th>\n",
              "      <td>по данным союза предприятий автомобильной отра...</td>\n",
              "      <td>0</td>\n",
              "    </tr>\n",
              "  </tbody>\n",
              "</table>\n",
              "<p>1654 rows × 2 columns</p>\n",
              "</div>\n",
              "      <button class=\"colab-df-convert\" onclick=\"convertToInteractive('df-c2ff4a4f-1b85-4c26-85e8-5b7adeadf0a8')\"\n",
              "              title=\"Convert this dataframe to an interactive table.\"\n",
              "              style=\"display:none;\">\n",
              "        \n",
              "  <svg xmlns=\"http://www.w3.org/2000/svg\" height=\"24px\"viewBox=\"0 0 24 24\"\n",
              "       width=\"24px\">\n",
              "    <path d=\"M0 0h24v24H0V0z\" fill=\"none\"/>\n",
              "    <path d=\"M18.56 5.44l.94 2.06.94-2.06 2.06-.94-2.06-.94-.94-2.06-.94 2.06-2.06.94zm-11 1L8.5 8.5l.94-2.06 2.06-.94-2.06-.94L8.5 2.5l-.94 2.06-2.06.94zm10 10l.94 2.06.94-2.06 2.06-.94-2.06-.94-.94-2.06-.94 2.06-2.06.94z\"/><path d=\"M17.41 7.96l-1.37-1.37c-.4-.4-.92-.59-1.43-.59-.52 0-1.04.2-1.43.59L10.3 9.45l-7.72 7.72c-.78.78-.78 2.05 0 2.83L4 21.41c.39.39.9.59 1.41.59.51 0 1.02-.2 1.41-.59l7.78-7.78 2.81-2.81c.8-.78.8-2.07 0-2.86zM5.41 20L4 18.59l7.72-7.72 1.47 1.35L5.41 20z\"/>\n",
              "  </svg>\n",
              "      </button>\n",
              "      \n",
              "  <style>\n",
              "    .colab-df-container {\n",
              "      display:flex;\n",
              "      flex-wrap:wrap;\n",
              "      gap: 12px;\n",
              "    }\n",
              "\n",
              "    .colab-df-convert {\n",
              "      background-color: #E8F0FE;\n",
              "      border: none;\n",
              "      border-radius: 50%;\n",
              "      cursor: pointer;\n",
              "      display: none;\n",
              "      fill: #1967D2;\n",
              "      height: 32px;\n",
              "      padding: 0 0 0 0;\n",
              "      width: 32px;\n",
              "    }\n",
              "\n",
              "    .colab-df-convert:hover {\n",
              "      background-color: #E2EBFA;\n",
              "      box-shadow: 0px 1px 2px rgba(60, 64, 67, 0.3), 0px 1px 3px 1px rgba(60, 64, 67, 0.15);\n",
              "      fill: #174EA6;\n",
              "    }\n",
              "\n",
              "    [theme=dark] .colab-df-convert {\n",
              "      background-color: #3B4455;\n",
              "      fill: #D2E3FC;\n",
              "    }\n",
              "\n",
              "    [theme=dark] .colab-df-convert:hover {\n",
              "      background-color: #434B5C;\n",
              "      box-shadow: 0px 1px 3px 1px rgba(0, 0, 0, 0.15);\n",
              "      filter: drop-shadow(0px 1px 2px rgba(0, 0, 0, 0.3));\n",
              "      fill: #FFFFFF;\n",
              "    }\n",
              "  </style>\n",
              "\n",
              "      <script>\n",
              "        const buttonEl =\n",
              "          document.querySelector('#df-c2ff4a4f-1b85-4c26-85e8-5b7adeadf0a8 button.colab-df-convert');\n",
              "        buttonEl.style.display =\n",
              "          google.colab.kernel.accessAllowed ? 'block' : 'none';\n",
              "\n",
              "        async function convertToInteractive(key) {\n",
              "          const element = document.querySelector('#df-c2ff4a4f-1b85-4c26-85e8-5b7adeadf0a8');\n",
              "          const dataTable =\n",
              "            await google.colab.kernel.invokeFunction('convertToInteractive',\n",
              "                                                     [key], {});\n",
              "          if (!dataTable) return;\n",
              "\n",
              "          const docLinkHtml = 'Like what you see? Visit the ' +\n",
              "            '<a target=\"_blank\" href=https://colab.research.google.com/notebooks/data_table.ipynb>data table notebook</a>'\n",
              "            + ' to learn more about interactive tables.';\n",
              "          element.innerHTML = '';\n",
              "          dataTable['output_type'] = 'display_data';\n",
              "          await google.colab.output.renderOutput(dataTable, element);\n",
              "          const docLink = document.createElement('div');\n",
              "          docLink.innerHTML = docLinkHtml;\n",
              "          element.appendChild(docLink);\n",
              "        }\n",
              "      </script>\n",
              "    </div>\n",
              "  </div>\n",
              "  "
            ]
          },
          "metadata": {},
          "execution_count": 26
        }
      ]
    },
    {
      "cell_type": "code",
      "source": [
        "test_sequences = tokenizer.texts_to_sequences(test['Review'])"
      ],
      "metadata": {
        "id": "kYtRD3G_BKts"
      },
      "execution_count": null,
      "outputs": []
    },
    {
      "cell_type": "code",
      "source": [
        "x_test = pad_sequences(test_sequences, maxlen=max_review_len)"
      ],
      "metadata": {
        "id": "cso3yCCABKvz"
      },
      "execution_count": null,
      "outputs": []
    },
    {
      "cell_type": "code",
      "source": [
        "x_test[:5]"
      ],
      "metadata": {
        "colab": {
          "base_uri": "https://localhost:8080/"
        },
        "id": "XWTCtMDzBKy-",
        "outputId": "c864d7a9-8444-4b52-8e37-315315cddcb1"
      },
      "execution_count": null,
      "outputs": [
        {
          "output_type": "execute_result",
          "data": {
            "text/plain": [
              "array([[   0,    0,    0, ...,    2, 1310, 1577],\n",
              "       [   0,    0,    0, ..., 1774,  461, 5351],\n",
              "       [   0,    0,    0, ..., 9524,    2, 2856],\n",
              "       [   0,    0,    0, ...,    1, 3328, 1006],\n",
              "       [   0,    0,    0, ...,    2, 1310, 1577]], dtype=int32)"
            ]
          },
          "metadata": {},
          "execution_count": 29
        }
      ]
    },
    {
      "cell_type": "code",
      "source": [
        "y_test = test['Class']"
      ],
      "metadata": {
        "id": "gz34CO4eBK1u"
      },
      "execution_count": null,
      "outputs": []
    },
    {
      "cell_type": "markdown",
      "source": [
        "# Оценка качества"
      ],
      "metadata": {
        "id": "Tph2WFDx6ycK"
      }
    },
    {
      "cell_type": "code",
      "source": [
        "scores = model.evaluate(x_test, y_test, verbose=1)"
      ],
      "metadata": {
        "colab": {
          "base_uri": "https://localhost:8080/"
        },
        "id": "ytxAKYc_BK5j",
        "outputId": "08f9a755-3f78-4a2e-fe7b-54404ae95b3d"
      },
      "execution_count": null,
      "outputs": [
        {
          "output_type": "stream",
          "name": "stdout",
          "text": [
            "52/52 [==============================] - 1s 16ms/step - loss: 0.3957 - accuracy: 0.8446\n"
          ]
        }
      ]
    },
    {
      "cell_type": "code",
      "source": [
        "scores"
      ],
      "metadata": {
        "colab": {
          "base_uri": "https://localhost:8080/"
        },
        "id": "wOAdZ9ccA5Et",
        "outputId": "167f3553-5f12-452d-f801-e6d01eb91b93"
      },
      "execution_count": null,
      "outputs": [
        {
          "output_type": "execute_result",
          "data": {
            "text/plain": [
              "[0.3956966698169708, 0.84461909532547]"
            ]
          },
          "metadata": {},
          "execution_count": 32
        }
      ]
    },
    {
      "cell_type": "markdown",
      "source": [
        "Оценка текста"
      ],
      "metadata": {
        "id": "UcMlqBOM62hI"
      }
    },
    {
      "cell_type": "code",
      "source": [
        "text = '''Прогнозом поделился директор Департамента гидрологии РГП «Казгидромет» Адель Ахметов. Во время брифинга Региональной службы коммуникаций Алматы он подчеркнул, что в мегаполисе ожидается ранняя весна.\n",
        "\n",
        "«В первой декаде марта ожидается повышение температуры воздуха до +2+7°С, днем до +10+15°С. В среднем температура воздуха ожидается выше климатической нормы на 1°С. Более детализированный прогноз на март 2023 года по городу Алматы будет выпущен 15 февраля и будет уточняться декадными и недельными прогнозами», - резюмировал Ахметов.\n",
        "\n",
        "В свою очередь в Алматы идет подготовка к весеннему паводковому периоду. Эти вопросы держат на контроле в ДЧС города – проводятся выездные рабочие совещания с участием акимов районов, представителей ЧС и коммунальных служб. Ведутся работы по подготовке арычных сетей и русел рек.'''"
      ],
      "metadata": {
        "id": "WTGOgswWBZH_"
      },
      "execution_count": null,
      "outputs": []
    },
    {
      "cell_type": "code",
      "source": [
        "sequence = tokenizer.texts_to_sequences([text])"
      ],
      "metadata": {
        "id": "Vkx2M-VLBZKG"
      },
      "execution_count": null,
      "outputs": []
    },
    {
      "cell_type": "code",
      "source": [
        "sequence"
      ],
      "metadata": {
        "colab": {
          "base_uri": "https://localhost:8080/"
        },
        "id": "-HVFeiLlBZMo",
        "outputId": "23e02307-f8e1-4c39-c8c8-29d017db3d20"
      },
      "execution_count": null,
      "outputs": [
        {
          "output_type": "execute_result",
          "data": {
            "text/plain": [
              "[[3565,\n",
              "  109,\n",
              "  172,\n",
              "  2317,\n",
              "  3024,\n",
              "  88,\n",
              "  47,\n",
              "  6228,\n",
              "  3072,\n",
              "  390,\n",
              "  1002,\n",
              "  53,\n",
              "  31,\n",
              "  393,\n",
              "  6,\n",
              "  1,\n",
              "  1068,\n",
              "  770,\n",
              "  1517,\n",
              "  1068,\n",
              "  673,\n",
              "  4370,\n",
              "  18,\n",
              "  3418,\n",
              "  18,\n",
              "  1,\n",
              "  1001,\n",
              "  8793,\n",
              "  4370,\n",
              "  1068,\n",
              "  586,\n",
              "  1801,\n",
              "  3,\n",
              "  39,\n",
              "  989,\n",
              "  3,\n",
              "  9647,\n",
              "  8,\n",
              "  4,\n",
              "  3016,\n",
              "  53,\n",
              "  28,\n",
              "  561,\n",
              "  2,\n",
              "  28,\n",
              "  2,\n",
              "  4345,\n",
              "  3024,\n",
              "  1,\n",
              "  189,\n",
              "  276,\n",
              "  1,\n",
              "  53,\n",
              "  433,\n",
              "  2924,\n",
              "  11,\n",
              "  8052,\n",
              "  121,\n",
              "  234,\n",
              "  3,\n",
              "  2834,\n",
              "  1,\n",
              "  6064,\n",
              "  142,\n",
              "  1889,\n",
              "  2423,\n",
              "  3124,\n",
              "  5,\n",
              "  464,\n",
              "  2141,\n",
              "  2856,\n",
              "  763,\n",
              "  3068,\n",
              "  2,\n",
              "  4456,\n",
              "  2151,\n",
              "  2548,\n",
              "  100,\n",
              "  4,\n",
              "  2499,\n",
              "  1320,\n",
              "  2]]"
            ]
          },
          "metadata": {},
          "execution_count": 35
        }
      ]
    },
    {
      "cell_type": "code",
      "source": [
        "data = pad_sequences(sequence, maxlen=max_review_len)"
      ],
      "metadata": {
        "id": "NprSAfx6BZOu"
      },
      "execution_count": null,
      "outputs": []
    },
    {
      "cell_type": "code",
      "source": [
        "data"
      ],
      "metadata": {
        "colab": {
          "base_uri": "https://localhost:8080/"
        },
        "id": "IvDiO-TOBqCB",
        "outputId": "ac202782-70ee-4828-dd4f-76d470a25e14"
      },
      "execution_count": null,
      "outputs": [
        {
          "output_type": "execute_result",
          "data": {
            "text/plain": [
              "array([[   0,    0,    0,    0,    0,    0,    0,    0,    0,    0,    0,\n",
              "           0,    0,    0,    0,    0,    0,    0,    0,    0,    0,    0,\n",
              "           0,    0,    0,    0,    0,    0,    0,    0,    0,    0,    0,\n",
              "           0,    0,    0,    0,    0,    0,    0,    0,    0,    0,    0,\n",
              "           0,    0,    0,    0,    0,    0,    0,    0,    0,    0,    0,\n",
              "           0,    0,    0,    0,    0,    0,    0,    0,    0,    0,    0,\n",
              "           0,    0,    0,    0,    0,    0,    0,    0,    0,    0,    0,\n",
              "           0,    0,    0,    0,    0,    0,    0,    0,    0,    0,    0,\n",
              "           0,    0,    0,    0,    0,    0,    0,    0,    0,    0,    0,\n",
              "           0,    0,    0,    0,    0,    0,    0,    0,    0,    0,    0,\n",
              "           0,    0,    0,    0,    0,    0,    0,    0,    0,    0,    0,\n",
              "           0,    0,    0,    0,    0,    0,    0,    0,    0,    0,    0,\n",
              "           0,    0,    0,    0,    0,    0,    0,    0,    0,    0,    0,\n",
              "           0,    0,    0,    0,    0,    0,    0,    0,    0,    0,    0,\n",
              "           0,    0,    0,    0,    0,    0,    0,    0,    0,    0,    0,\n",
              "           0,    0,    0, 3565,  109,  172, 2317, 3024,   88,   47, 6228,\n",
              "        3072,  390, 1002,   53,   31,  393,    6,    1, 1068,  770, 1517,\n",
              "        1068,  673, 4370,   18, 3418,   18,    1, 1001, 8793, 4370, 1068,\n",
              "         586, 1801,    3,   39,  989,    3, 9647,    8,    4, 3016,   53,\n",
              "          28,  561,    2,   28,    2, 4345, 3024,    1,  189,  276,    1,\n",
              "          53,  433, 2924,   11, 8052,  121,  234,    3, 2834,    1, 6064,\n",
              "         142, 1889, 2423, 3124,    5,  464, 2141, 2856,  763, 3068,    2,\n",
              "        4456, 2151, 2548,  100,    4, 2499, 1320,    2]], dtype=int32)"
            ]
          },
          "metadata": {},
          "execution_count": 37
        }
      ]
    },
    {
      "cell_type": "code",
      "source": [
        "result = model.predict(data)"
      ],
      "metadata": {
        "colab": {
          "base_uri": "https://localhost:8080/"
        },
        "id": "FD4i-JACBqEL",
        "outputId": "725b53cf-5399-4245-bcab-f7620c76d91f"
      },
      "execution_count": null,
      "outputs": [
        {
          "output_type": "stream",
          "name": "stdout",
          "text": [
            "1/1 [==============================] - 0s 433ms/step\n"
          ]
        }
      ]
    },
    {
      "cell_type": "code",
      "source": [
        "result"
      ],
      "metadata": {
        "colab": {
          "base_uri": "https://localhost:8080/"
        },
        "id": "phsYxETvBqHM",
        "outputId": "0440dcce-b3f9-490d-f879-99a0a31ed8cd"
      },
      "execution_count": null,
      "outputs": [
        {
          "output_type": "execute_result",
          "data": {
            "text/plain": [
              "array([[0.8982356]], dtype=float32)"
            ]
          },
          "metadata": {},
          "execution_count": 39
        }
      ]
    },
    {
      "cell_type": "code",
      "source": [
        "if result[[0]] < 0.5:\n",
        "    print('Текст отрицательный')\n",
        "else:\n",
        "    print('Текст положительный')\n"
      ],
      "metadata": {
        "colab": {
          "base_uri": "https://localhost:8080/"
        },
        "id": "BkDekKzLBqJ-",
        "outputId": "6a9fd650-6467-40db-ab7c-d8eb5e13bf43"
      },
      "execution_count": null,
      "outputs": [
        {
          "output_type": "stream",
          "name": "stdout",
          "text": [
            "Текст положительный\n"
          ]
        }
      ]
    }
  ]
}