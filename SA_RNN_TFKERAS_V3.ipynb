{
  "cells": [
    {
      "cell_type": "markdown",
      "metadata": {
        "id": "view-in-github",
        "colab_type": "text"
      },
      "source": [
        "<a href=\"https://colab.research.google.com/github/93gad/mit34_sa_0.2/blob/main/SA_RNN_TFKERAS_V3.ipynb\" target=\"_parent\"><img src=\"https://colab.research.google.com/assets/colab-badge.svg\" alt=\"Open In Colab\"/></a>"
      ]
    },
    {
      "cell_type": "code",
      "execution_count": 94,
      "metadata": {
        "id": "h8QpQHOCUamn",
        "scrolled": false
      },
      "outputs": [],
      "source": [
        "%matplotlib inline\n",
        "import matplotlib.pyplot as plt\n",
        "import tensorflow as tf\n",
        "import numpy as np\n",
        "import warnings\n",
        "warnings.filterwarnings('ignore')\n",
        "from scipy.spatial.distance import cdist\n",
        "from keras.models import Sequential\n",
        "from keras.layers import Dense, GRU, Embedding\n",
        "from keras.optimizers import Adam\n",
        "from keras.preprocessing.text import Tokenizer\n",
        "from tensorflow.keras.preprocessing.sequence import pad_sequences\n",
        "import pandas as pd\n",
        "import matplotlib.pyplot as plt\n",
        "import seaborn as sns\n",
        "import pylab as pl \n"
      ]
    },
    {
      "cell_type": "markdown",
      "metadata": {
        "id": "u0FDIe7qCqSW"
      },
      "source": [
        "# Импорт данных"
      ]
    },
    {
      "cell_type": "code",
      "execution_count": 2,
      "metadata": {
        "id": "OkRZUQyyGXiD",
        "colab": {
          "base_uri": "https://localhost:8080/"
        },
        "outputId": "a7b3750a-b842-4a68-8e73-b60980c88e60"
      },
      "outputs": [
        {
          "output_type": "stream",
          "name": "stdout",
          "text": [
            "/usr/local/lib/python3.8/dist-packages/gdown/cli.py:127: FutureWarning: Option `--id` was deprecated in version 4.3.1 and will be removed in 5.0. You don't need to pass it anymore to use a file ID.\n",
            "  warnings.warn(\n",
            "Downloading...\n",
            "From: https://drive.google.com/uc?id=10v9w9Ss2luAUUuDXWVe25zTfNe_JHUNY\n",
            "To: /content/test.csv\n",
            "100% 10.5M/10.5M [00:00<00:00, 58.4MB/s]\n",
            "/usr/local/lib/python3.8/dist-packages/gdown/cli.py:127: FutureWarning: Option `--id` was deprecated in version 4.3.1 and will be removed in 5.0. You don't need to pass it anymore to use a file ID.\n",
            "  warnings.warn(\n",
            "Downloading...\n",
            "From: https://drive.google.com/uc?id=1ZL95-9w8CxbBsy1XOt71ogGbQ4vtMgm8\n",
            "To: /content/train.csv\n",
            "100% 44.1M/44.1M [00:00<00:00, 199MB/s]\n",
            "/usr/local/lib/python3.8/dist-packages/gdown/cli.py:127: FutureWarning: Option `--id` was deprecated in version 4.3.1 and will be removed in 5.0. You don't need to pass it anymore to use a file ID.\n",
            "  warnings.warn(\n",
            "Downloading...\n",
            "From: https://drive.google.com/uc?id=1RpwycKq2lh7ao4bzI6dDrRGU8rVyiiD4\n",
            "To: /content/train2.csv\n",
            "100% 42.2M/42.2M [00:00<00:00, 65.1MB/s]\n",
            "/usr/local/lib/python3.8/dist-packages/gdown/cli.py:127: FutureWarning: Option `--id` was deprecated in version 4.3.1 and will be removed in 5.0. You don't need to pass it anymore to use a file ID.\n",
            "  warnings.warn(\n",
            "Downloading...\n",
            "From: https://drive.google.com/uc?id=1NQIZ-isAeIqxq2Z2K5Sgw19KhnJJkw0U\n",
            "To: /content/train2 - train.csv\n",
            "100% 42.2M/42.2M [00:00<00:00, 45.7MB/s]\n"
          ]
        }
      ],
      "source": [
        "!gdown --id 10v9w9Ss2luAUUuDXWVe25zTfNe_JHUNY\n",
        "!gdown --id 1ZL95-9w8CxbBsy1XOt71ogGbQ4vtMgm8\n",
        "!gdown --id 1RpwycKq2lh7ao4bzI6dDrRGU8rVyiiD4\n",
        "!gdown --id 1NQIZ-isAeIqxq2Z2K5Sgw19KhnJJkw0U"
      ]
    },
    {
      "cell_type": "code",
      "source": [
        "!ls"
      ],
      "metadata": {
        "colab": {
          "base_uri": "https://localhost:8080/"
        },
        "id": "ud9ieSeUUvdK",
        "outputId": "b7953071-634b-46de-fd5c-28b48bc8c578"
      },
      "execution_count": 3,
      "outputs": [
        {
          "output_type": "stream",
          "name": "stdout",
          "text": [
            " sample_data   test.csv   train2.csv  'train2 - train.csv'   train.csv\n"
          ]
        }
      ]
    },
    {
      "cell_type": "code",
      "execution_count": 4,
      "metadata": {
        "id": "i_zglZhtYzt1"
      },
      "outputs": [],
      "source": [
        "train = pd.read_csv('train2 - train.csv', \n",
        "                    header=None, \n",
        "                    names=['Review', 'Class'],)\n",
        "test = pd.read_csv('test.csv', \n",
        "                    header=None, \n",
        "                    names=['Review', 'Class'],)"
      ]
    },
    {
      "cell_type": "code",
      "source": [
        "train['Class'].value_counts()\n"
      ],
      "metadata": {
        "colab": {
          "base_uri": "https://localhost:8080/"
        },
        "id": "hjEheptq7gat",
        "outputId": "f3971ef0-83db-45dd-ee42-8526bc32de39"
      },
      "execution_count": 107,
      "outputs": [
        {
          "output_type": "execute_result",
          "data": {
            "text/plain": [
              "1    5438\n",
              "0    1185\n",
              "Name: Class, dtype: int64"
            ]
          },
          "metadata": {},
          "execution_count": 107
        }
      ]
    },
    {
      "cell_type": "code",
      "source": [
        "train"
      ],
      "metadata": {
        "id": "9mGQP_INbD9Q",
        "outputId": "cb9fd40c-6ca1-46aa-8b47-6ee810d130fb",
        "colab": {
          "base_uri": "https://localhost:8080/",
          "height": 423
        }
      },
      "execution_count": 5,
      "outputs": [
        {
          "output_type": "execute_result",
          "data": {
            "text/plain": [
              "                                                 Review  Class\n",
              "0     досудебное расследование по факту покупки енпф...      0\n",
              "1     infokz  января     портал центразия со ссылкой...      0\n",
              "2     трлн тенге пенсионных накоплений казахстанцев ...      1\n",
              "3     южноказахстанская мукомольная компания увеличи...      1\n",
              "4     тэц не является причиной смога в астане всему ...      1\n",
              "...                                                 ...    ...\n",
              "6618  нефть подорожала после землетрясений в турции ...      0\n",
              "6619  число жертв землетрясения в сирии возросло до ...      0\n",
              "6620  рост госпитализации больных c пневмонией отмеч...      0\n",
              "6621  банный комплекс загорелся изза утечки газа в а...      0\n",
              "6622  четыре человека пострадали в дтп с двумя автоб...      0\n",
              "\n",
              "[6623 rows x 2 columns]"
            ],
            "text/html": [
              "\n",
              "  <div id=\"df-42c47d58-f4a4-46c5-9be3-517ee3ef16a9\">\n",
              "    <div class=\"colab-df-container\">\n",
              "      <div>\n",
              "<style scoped>\n",
              "    .dataframe tbody tr th:only-of-type {\n",
              "        vertical-align: middle;\n",
              "    }\n",
              "\n",
              "    .dataframe tbody tr th {\n",
              "        vertical-align: top;\n",
              "    }\n",
              "\n",
              "    .dataframe thead th {\n",
              "        text-align: right;\n",
              "    }\n",
              "</style>\n",
              "<table border=\"1\" class=\"dataframe\">\n",
              "  <thead>\n",
              "    <tr style=\"text-align: right;\">\n",
              "      <th></th>\n",
              "      <th>Review</th>\n",
              "      <th>Class</th>\n",
              "    </tr>\n",
              "  </thead>\n",
              "  <tbody>\n",
              "    <tr>\n",
              "      <th>0</th>\n",
              "      <td>досудебное расследование по факту покупки енпф...</td>\n",
              "      <td>0</td>\n",
              "    </tr>\n",
              "    <tr>\n",
              "      <th>1</th>\n",
              "      <td>infokz  января     портал центразия со ссылкой...</td>\n",
              "      <td>0</td>\n",
              "    </tr>\n",
              "    <tr>\n",
              "      <th>2</th>\n",
              "      <td>трлн тенге пенсионных накоплений казахстанцев ...</td>\n",
              "      <td>1</td>\n",
              "    </tr>\n",
              "    <tr>\n",
              "      <th>3</th>\n",
              "      <td>южноказахстанская мукомольная компания увеличи...</td>\n",
              "      <td>1</td>\n",
              "    </tr>\n",
              "    <tr>\n",
              "      <th>4</th>\n",
              "      <td>тэц не является причиной смога в астане всему ...</td>\n",
              "      <td>1</td>\n",
              "    </tr>\n",
              "    <tr>\n",
              "      <th>...</th>\n",
              "      <td>...</td>\n",
              "      <td>...</td>\n",
              "    </tr>\n",
              "    <tr>\n",
              "      <th>6618</th>\n",
              "      <td>нефть подорожала после землетрясений в турции ...</td>\n",
              "      <td>0</td>\n",
              "    </tr>\n",
              "    <tr>\n",
              "      <th>6619</th>\n",
              "      <td>число жертв землетрясения в сирии возросло до ...</td>\n",
              "      <td>0</td>\n",
              "    </tr>\n",
              "    <tr>\n",
              "      <th>6620</th>\n",
              "      <td>рост госпитализации больных c пневмонией отмеч...</td>\n",
              "      <td>0</td>\n",
              "    </tr>\n",
              "    <tr>\n",
              "      <th>6621</th>\n",
              "      <td>банный комплекс загорелся изза утечки газа в а...</td>\n",
              "      <td>0</td>\n",
              "    </tr>\n",
              "    <tr>\n",
              "      <th>6622</th>\n",
              "      <td>четыре человека пострадали в дтп с двумя автоб...</td>\n",
              "      <td>0</td>\n",
              "    </tr>\n",
              "  </tbody>\n",
              "</table>\n",
              "<p>6623 rows × 2 columns</p>\n",
              "</div>\n",
              "      <button class=\"colab-df-convert\" onclick=\"convertToInteractive('df-42c47d58-f4a4-46c5-9be3-517ee3ef16a9')\"\n",
              "              title=\"Convert this dataframe to an interactive table.\"\n",
              "              style=\"display:none;\">\n",
              "        \n",
              "  <svg xmlns=\"http://www.w3.org/2000/svg\" height=\"24px\"viewBox=\"0 0 24 24\"\n",
              "       width=\"24px\">\n",
              "    <path d=\"M0 0h24v24H0V0z\" fill=\"none\"/>\n",
              "    <path d=\"M18.56 5.44l.94 2.06.94-2.06 2.06-.94-2.06-.94-.94-2.06-.94 2.06-2.06.94zm-11 1L8.5 8.5l.94-2.06 2.06-.94-2.06-.94L8.5 2.5l-.94 2.06-2.06.94zm10 10l.94 2.06.94-2.06 2.06-.94-2.06-.94-.94-2.06-.94 2.06-2.06.94z\"/><path d=\"M17.41 7.96l-1.37-1.37c-.4-.4-.92-.59-1.43-.59-.52 0-1.04.2-1.43.59L10.3 9.45l-7.72 7.72c-.78.78-.78 2.05 0 2.83L4 21.41c.39.39.9.59 1.41.59.51 0 1.02-.2 1.41-.59l7.78-7.78 2.81-2.81c.8-.78.8-2.07 0-2.86zM5.41 20L4 18.59l7.72-7.72 1.47 1.35L5.41 20z\"/>\n",
              "  </svg>\n",
              "      </button>\n",
              "      \n",
              "  <style>\n",
              "    .colab-df-container {\n",
              "      display:flex;\n",
              "      flex-wrap:wrap;\n",
              "      gap: 12px;\n",
              "    }\n",
              "\n",
              "    .colab-df-convert {\n",
              "      background-color: #E8F0FE;\n",
              "      border: none;\n",
              "      border-radius: 50%;\n",
              "      cursor: pointer;\n",
              "      display: none;\n",
              "      fill: #1967D2;\n",
              "      height: 32px;\n",
              "      padding: 0 0 0 0;\n",
              "      width: 32px;\n",
              "    }\n",
              "\n",
              "    .colab-df-convert:hover {\n",
              "      background-color: #E2EBFA;\n",
              "      box-shadow: 0px 1px 2px rgba(60, 64, 67, 0.3), 0px 1px 3px 1px rgba(60, 64, 67, 0.15);\n",
              "      fill: #174EA6;\n",
              "    }\n",
              "\n",
              "    [theme=dark] .colab-df-convert {\n",
              "      background-color: #3B4455;\n",
              "      fill: #D2E3FC;\n",
              "    }\n",
              "\n",
              "    [theme=dark] .colab-df-convert:hover {\n",
              "      background-color: #434B5C;\n",
              "      box-shadow: 0px 1px 3px 1px rgba(0, 0, 0, 0.15);\n",
              "      filter: drop-shadow(0px 1px 2px rgba(0, 0, 0, 0.3));\n",
              "      fill: #FFFFFF;\n",
              "    }\n",
              "  </style>\n",
              "\n",
              "      <script>\n",
              "        const buttonEl =\n",
              "          document.querySelector('#df-42c47d58-f4a4-46c5-9be3-517ee3ef16a9 button.colab-df-convert');\n",
              "        buttonEl.style.display =\n",
              "          google.colab.kernel.accessAllowed ? 'block' : 'none';\n",
              "\n",
              "        async function convertToInteractive(key) {\n",
              "          const element = document.querySelector('#df-42c47d58-f4a4-46c5-9be3-517ee3ef16a9');\n",
              "          const dataTable =\n",
              "            await google.colab.kernel.invokeFunction('convertToInteractive',\n",
              "                                                     [key], {});\n",
              "          if (!dataTable) return;\n",
              "\n",
              "          const docLinkHtml = 'Like what you see? Visit the ' +\n",
              "            '<a target=\"_blank\" href=https://colab.research.google.com/notebooks/data_table.ipynb>data table notebook</a>'\n",
              "            + ' to learn more about interactive tables.';\n",
              "          element.innerHTML = '';\n",
              "          dataTable['output_type'] = 'display_data';\n",
              "          await google.colab.output.renderOutput(dataTable, element);\n",
              "          const docLink = document.createElement('div');\n",
              "          docLink.innerHTML = docLinkHtml;\n",
              "          element.appendChild(docLink);\n",
              "        }\n",
              "      </script>\n",
              "    </div>\n",
              "  </div>\n",
              "  "
            ]
          },
          "metadata": {},
          "execution_count": 5
        }
      ]
    },
    {
      "cell_type": "code",
      "execution_count": 6,
      "metadata": {
        "id": "yWkaAL-eUamz"
      },
      "outputs": [],
      "source": [
        "x_train_text = train['Review']"
      ]
    },
    {
      "cell_type": "code",
      "execution_count": 7,
      "metadata": {
        "id": "auNBjd_5Z-mN"
      },
      "outputs": [],
      "source": [
        "x_test_text = test['Review']"
      ]
    },
    {
      "cell_type": "code",
      "execution_count": 8,
      "metadata": {
        "colab": {
          "base_uri": "https://localhost:8080/"
        },
        "id": "VpMEtuf-aPYH",
        "outputId": "dfadfd04-efa6-4707-aa97-48ceae257620"
      },
      "outputs": [
        {
          "output_type": "stream",
          "name": "stdout",
          "text": [
            "Размер набора для обучения:  6623\n",
            "Размер набора для тестирования:   1654\n"
          ]
        }
      ],
      "source": [
        "print(\"Размер набора для обучения: \", len(x_train_text))\n",
        "print(\"Размер набора для тестирования:  \", len(x_test_text))"
      ]
    },
    {
      "cell_type": "code",
      "execution_count": 9,
      "metadata": {
        "id": "-g-8End3aTFr"
      },
      "outputs": [],
      "source": [
        "data_text = x_train_text + x_test_text"
      ]
    },
    {
      "cell_type": "code",
      "execution_count": 10,
      "metadata": {
        "colab": {
          "base_uri": "https://localhost:8080/",
          "height": 139
        },
        "id": "6M5Vlfg0ZAw2",
        "outputId": "d474ab00-db77-4fdf-a918-9e27862a409a"
      },
      "outputs": [
        {
          "output_type": "execute_result",
          "data": {
            "text/plain": [
              "'infokz  января     портал центразия со ссылкой на свои источники в астане сообщил об аресте бывшего заместителя руководителя администрации президента баглана майлыбаева сообщает инфоkz   официального подтверждения этой информации нет   в статье портала центразия даны несколько версий причины ареста причиной могут быть с хищения  млрд тенге выделенных на политические и исторические исследования по другой версии арест майлыбаева связан с делом в рамках которого арестован эксминистр куандык бишимбаев  хищения в холдинге байтерек   на днях президент освободил баглана майлыбаева от должности заместителя руководителя своей администрации давайте вспомним чем известен баглан асаубаевич и какие должности он занимал   биография   баглан асаубаевич майлыбаев появился на свет в джамбуле ныне тараз  мая  года по первой специальности он журналист окончил в  году альмаматер большинства казахстанских тружеников пера и микрофона  казгу имени альфараби   спустя два года он получил второе образование в российской академии госслужбы   в  защитил докторскую на тему становления и эволюции института президента   с  по  годы майлыбаев работал старшим научным сотрудником института государства и права академии наук и преподавателем в казахском государственном университете международных отношений и мировых языков имени абылай хана в народе именуемом иняз   затем он работал сразу по двум своим профессиям  журналиста и госуправленца в министерстве культуры информации и общественного согласия в  руководил департаментом сми позднее возглавлял главную газету страны  казахстанскую правду руководил прессслужбой президента был вицеминистром культуры и информации   и наконец был назначен заместителем руководителя администрации главы государства эту должность баглан асаубаевич занимал с  по  годы   цитаты   в  году майлыбаев открывал в астане службу центральных коммуникаций вот как он прокомментировал это событие   создана служба центральных коммуникаций при правительстве страны впервые в истории нашей страны его возглавил официальный представитель правительства заместитель руководителя канцелярии премьерминистра  ержан ашикбаев он всегда давал эксклюзивную свежую информацию и сегодня данная структура обретает важное значение для всей нашей работы поскольку единым спикером теперь будет центр коммуникаций который возглавляет ержан ашикбаев самая главная информация будет идти из уст официального представителя правительства   источник      по сообщению сайта костанай тв'"
            ],
            "application/vnd.google.colaboratory.intrinsic+json": {
              "type": "string"
            }
          },
          "metadata": {},
          "execution_count": 10
        }
      ],
      "source": [
        "x_train_text[1]"
      ]
    },
    {
      "cell_type": "code",
      "execution_count": 11,
      "metadata": {
        "id": "A4Lmn46lVaZ3"
      },
      "outputs": [],
      "source": [
        "train['Class'].fillna(0, inplace=True)\n",
        "train['Class'] = train['Class'].astype(int)"
      ]
    },
    {
      "cell_type": "code",
      "execution_count": 12,
      "metadata": {
        "id": "OQjUFqDmVab8"
      },
      "outputs": [],
      "source": [
        "y_train = train['Class'].astype(int)"
      ]
    },
    {
      "cell_type": "code",
      "execution_count": 13,
      "metadata": {
        "id": "1DiEud5zaGei"
      },
      "outputs": [],
      "source": [
        "test['Class'].fillna(0, inplace=True)\n",
        "test['Class'] = test['Class'].astype(int)"
      ]
    },
    {
      "cell_type": "code",
      "execution_count": 14,
      "metadata": {
        "id": "ttgFRVQFaKsB"
      },
      "outputs": [],
      "source": [
        "y_test = test['Class'].astype(int)"
      ]
    },
    {
      "cell_type": "code",
      "execution_count": 15,
      "metadata": {
        "colab": {
          "base_uri": "https://localhost:8080/"
        },
        "id": "rzYQ7h_SVgJy",
        "outputId": "83dfab2f-3d5c-4fe7-ab31-0692395679a3"
      },
      "outputs": [
        {
          "output_type": "execute_result",
          "data": {
            "text/plain": [
              "0"
            ]
          },
          "metadata": {},
          "execution_count": 15
        }
      ],
      "source": [
        "y_train[1]"
      ]
    },
    {
      "cell_type": "code",
      "execution_count": 16,
      "metadata": {
        "id": "62ft2WozUam2"
      },
      "outputs": [],
      "source": [
        "num_words = 10000"
      ]
    },
    {
      "cell_type": "code",
      "execution_count": 17,
      "metadata": {
        "id": "kRXFonRRUam3"
      },
      "outputs": [],
      "source": [
        "tokenizer = Tokenizer(num_words=num_words)"
      ]
    },
    {
      "cell_type": "code",
      "execution_count": 18,
      "metadata": {
        "colab": {
          "base_uri": "https://localhost:8080/"
        },
        "id": "sgj9zrDDUam3",
        "outputId": "7d91b06f-66d2-41d0-f21b-0370d4421093"
      },
      "outputs": [
        {
          "output_type": "stream",
          "name": "stdout",
          "text": [
            "CPU times: user 3.32 s, sys: 62.5 ms, total: 3.39 s\n",
            "Wall time: 4.02 s\n"
          ]
        }
      ],
      "source": [
        "%%time\n",
        "\n",
        "data_text = [data_text for data_text in data_text if isinstance(data_text, str)]\n",
        "tokenizer.fit_on_texts(data_text)\n"
      ]
    },
    {
      "cell_type": "code",
      "execution_count": 19,
      "metadata": {
        "id": "Qa_yFXtIUam4",
        "colab": {
          "base_uri": "https://localhost:8080/"
        },
        "outputId": "29681f96-45b7-44d4-9b68-0bd8af864549"
      },
      "outputs": [
        {
          "output_type": "execute_result",
          "data": {
            "text/plain": [
              "{'в': 1,\n",
              " 'и': 2,\n",
              " 'на': 3,\n",
              " 'по': 4,\n",
              " 'с': 5,\n",
              " 'что': 6,\n",
              " 'не': 7,\n",
              " 'года': 8,\n",
              " 'для': 9,\n",
              " 'за': 10,\n",
              " 'тенге': 11,\n",
              " 'а': 12,\n",
              " 'к': 13,\n",
              " 'из': 14,\n",
              " 'это': 15,\n",
              " 'как': 16,\n",
              " 'о': 17,\n",
              " 'до': 18,\n",
              " 'от': 19,\n",
              " 'году': 20,\n",
              " 'мы': 21,\n",
              " 'также': 22,\n",
              " 'казахстана': 23,\n",
              " 'ао': 24,\n",
              " 'казахстан': 25,\n",
              " 'будет': 26,\n",
              " 'но': 27,\n",
              " 'при': 28,\n",
              " 'рк': 29,\n",
              " 'млрд': 30,\n",
              " 'области': 31,\n",
              " 'все': 32,\n",
              " 'у': 33,\n",
              " 'то': 34,\n",
              " 'его': 35,\n",
              " 'этом': 36,\n",
              " 'республики': 37,\n",
              " 'он': 38,\n",
              " 'лет': 39,\n",
              " 'более': 40,\n",
              " 'или': 41,\n",
              " 'так': 42,\n",
              " 'было': 43,\n",
              " 'развития': 44,\n",
              " 'их': 45,\n",
              " 'уже': 46,\n",
              " 'том': 47,\n",
              " 'время': 48,\n",
              " 'которые': 49,\n",
              " 'есть': 50,\n",
              " 'только': 51,\n",
              " 'был': 52,\n",
              " 'алматы': 53,\n",
              " 'енпф': 54,\n",
              " 'же': 55,\n",
              " 'если': 56,\n",
              " 'я': 57,\n",
              " 'банка': 58,\n",
              " 'казахстане': 59,\n",
              " 'год': 60,\n",
              " 'компании': 61,\n",
              " 'будут': 62,\n",
              " 'млн': 63,\n",
              " 'со': 64,\n",
              " 'были': 65,\n",
              " 'того': 66,\n",
              " 'назад': 67,\n",
              " 'они': 68,\n",
              " 'об': 69,\n",
              " 'страны': 70,\n",
              " 'тоо': 71,\n",
              " 'является': 72,\n",
              " 'экономики': 73,\n",
              " 'банк': 74,\n",
              " 'еще': 75,\n",
              " 'рамках': 76,\n",
              " 'сегодня': 77,\n",
              " 'который': 78,\n",
              " 'чтобы': 79,\n",
              " 'этого': 80,\n",
              " 'после': 81,\n",
              " 'тыс': 82,\n",
              " 'государства': 83,\n",
              " 'сейчас': 84,\n",
              " 'всего': 85,\n",
              " 'средств': 86,\n",
              " 'декабря': 87,\n",
              " 'г': 88,\n",
              " 'января': 89,\n",
              " 'управления': 90,\n",
              " 'во': 91,\n",
              " 'тем': 92,\n",
              " 'может': 93,\n",
              " 'под': 94,\n",
              " 'фонда': 95,\n",
              " 'заместитель': 96,\n",
              " 'директор': 97,\n",
              " 'необходимо': 98,\n",
              " 'тысяч': 99,\n",
              " 'национальной': 100,\n",
              " 'когда': 101,\n",
              " 'нас': 102,\n",
              " 'ее': 103,\n",
              " 'между': 104,\n",
              " 'работы': 105,\n",
              " 'астана': 106,\n",
              " 'очень': 107,\n",
              " 'них': 108,\n",
              " 'бы': 109,\n",
              " 'президента': 110,\n",
              " 'через': 111,\n",
              " 'производства': 112,\n",
              " 'всех': 113,\n",
              " 'этот': 114,\n",
              " 'числе': 115,\n",
              " 'эти': 116,\n",
              " 'можно': 117,\n",
              " 'им': 118,\n",
              " 'нужно': 119,\n",
              " 'автомобилей': 120,\n",
              " 'была': 121,\n",
              " 'чем': 122,\n",
              " 'тонн': 123,\n",
              " 'день': 124,\n",
              " 'она': 125,\n",
              " 'компания': 126,\n",
              " 'кроме': 127,\n",
              " 'проектов': 128,\n",
              " 'развитию': 129,\n",
              " 'быть': 130,\n",
              " 'национального': 131,\n",
              " 'программы': 132,\n",
              " 'глава': 133,\n",
              " 'департамента': 134,\n",
              " 'деятельности': 135,\n",
              " 'правления': 136,\n",
              " 'председатель': 137,\n",
              " 'отметил': 138,\n",
              " 'стран': 139,\n",
              " 'связи': 140,\n",
              " 'годы': 141,\n",
              " 'министерства': 142,\n",
              " 'президент': 143,\n",
              " 'новых': 144,\n",
              " 'без': 145,\n",
              " 'этой': 146,\n",
              " 'вопрос': 147,\n",
              " 'нет': 148,\n",
              " 'словам': 149,\n",
              " 'проекта': 150,\n",
              " 'города': 151,\n",
              " 'однако': 152,\n",
              " 'счет': 153,\n",
              " 'ст': 154,\n",
              " 'комитета': 155,\n",
              " 'долларов': 156,\n",
              " 'председателя': 157,\n",
              " 'россии': 158,\n",
              " 'средства': 159,\n",
              " 'компаний': 160,\n",
              " 'информации': 161,\n",
              " 'безопасности': 162,\n",
              " 'больше': 163,\n",
              " 'ходе': 164,\n",
              " 'правительства': 165,\n",
              " 'где': 166,\n",
              " 'ранее': 167,\n",
              " 'итогам': 168,\n",
              " 'реализации': 169,\n",
              " 'сша': 170,\n",
              " 'должны': 171,\n",
              " 'которых': 172,\n",
              " 'даже': 173,\n",
              " 'один': 174,\n",
              " 'человек': 175,\n",
              " 'сказал': 176,\n",
              " 'ноября': 177,\n",
              " 'сумму': 178,\n",
              " 'продукции': 179,\n",
              " 'деньги': 180,\n",
              " 'министр': 181,\n",
              " 'бизнеса': 182,\n",
              " 'здесь': 183,\n",
              " 'два': 184,\n",
              " 'передает': 185,\n",
              " 'проект': 186,\n",
              " 'поэтому': 187,\n",
              " 'объем': 188,\n",
              " 'рост': 189,\n",
              " 'ли': 190,\n",
              " 'вы': 191,\n",
              " 'банков': 192,\n",
              " 'которая': 193,\n",
              " 'совета': 194,\n",
              " 'могут': 195,\n",
              " 'работу': 196,\n",
              " 'раз': 197,\n",
              " 'населения': 198,\n",
              " 'назарбаев': 199,\n",
              " 'рынке': 200,\n",
              " 'сообщил': 201,\n",
              " 'свою': 202,\n",
              " 'около': 203,\n",
              " 'системы': 204,\n",
              " 'период': 205,\n",
              " 'фонд': 206,\n",
              " 'согласно': 207,\n",
              " 'первый': 208,\n",
              " 'участие': 209,\n",
              " 'стороны': 210,\n",
              " 'стране': 211,\n",
              " 'месяцев': 212,\n",
              " 'рынка': 213,\n",
              " 'кто': 214,\n",
              " 'активов': 215,\n",
              " 'строительство': 216,\n",
              " 'уровня': 217,\n",
              " 'других': 218,\n",
              " 'развитие': 219,\n",
              " 'авто': 220,\n",
              " 'родился': 221,\n",
              " 'пенсионных': 222,\n",
              " 'данным': 223,\n",
              " 'государственной': 224,\n",
              " 'уровне': 225,\n",
              " 'уровень': 226,\n",
              " 'среди': 227,\n",
              " 'случае': 228,\n",
              " 'инвестиций': 229,\n",
              " 'стал': 230,\n",
              " 'нам': 231,\n",
              " 'порядка': 232,\n",
              " 'сфере': 233,\n",
              " 'свои': 234,\n",
              " 'размере': 235,\n",
              " 'сообщает': 236,\n",
              " 'теперь': 237,\n",
              " 'тогда': 238,\n",
              " 'ни': 239,\n",
              " 'пока': 240,\n",
              " 'лиц': 241,\n",
              " 'роста': 242,\n",
              " 'октября': 243,\n",
              " 'вопросы': 244,\n",
              " 'астаны': 245,\n",
              " 'начальник': 246,\n",
              " 'предприятий': 247,\n",
              " 'астане': 248,\n",
              " 'доля': 249,\n",
              " 'этих': 250,\n",
              " 'государственных': 251,\n",
              " 'детей': 252,\n",
              " 'составил': 253,\n",
              " 'национальный': 254,\n",
              " 'отношении': 255,\n",
              " 'должности': 256,\n",
              " 'составляет': 257,\n",
              " 'надо': 258,\n",
              " 'именно': 259,\n",
              " 'часть': 260,\n",
              " 'другие': 261,\n",
              " 'процентов': 262,\n",
              " 'количество': 263,\n",
              " 'должен': 264,\n",
              " 'целом': 265,\n",
              " 'несколько': 266,\n",
              " 'решение': 267,\n",
              " 'нацбанка': 268,\n",
              " 'новые': 269,\n",
              " 'инвестициям': 270,\n",
              " 'акима': 271,\n",
              " 'центр': 272,\n",
              " 'отдела': 273,\n",
              " 'байтерек': 274,\n",
              " 'главы': 275,\n",
              " 'территории': 276,\n",
              " 'стало': 277,\n",
              " 'сайта': 278,\n",
              " 'услуг': 279,\n",
              " 'организации': 280,\n",
              " 'начала': 281,\n",
              " 'настоящее': 282,\n",
              " 'lada': 283,\n",
              " 'соответствии': 284,\n",
              " 'казахстанской': 285,\n",
              " 'напомним': 286,\n",
              " 'промышленности': 287,\n",
              " 'нового': 288,\n",
              " 'всем': 289,\n",
              " 'место': 290,\n",
              " 'производство': 291,\n",
              " 'нефти': 292,\n",
              " 'образования': 293,\n",
              " 'деятельность': 294,\n",
              " 'рынок': 295,\n",
              " 'планируется': 296,\n",
              " 'себя': 297,\n",
              " 'статьи': 298,\n",
              " 'объектов': 299,\n",
              " 'три': 300,\n",
              " 'возможность': 301,\n",
              " 'момент': 302,\n",
              " 'директора': 303,\n",
              " 'вот': 304,\n",
              " 'изза': 305,\n",
              " 'руководитель': 306,\n",
              " 'предпринимателей': 307,\n",
              " 'новый': 308,\n",
              " 'совместно': 309,\n",
              " 'суда': 310,\n",
              " 'раза': 311,\n",
              " 'очередь': 312,\n",
              " 'двух': 313,\n",
              " 'которой': 314,\n",
              " 'государственного': 315,\n",
              " 'предприятия': 316,\n",
              " 'части': 317,\n",
              " 'там': 318,\n",
              " 'вместе': 319,\n",
              " 'перед': 320,\n",
              " 'центра': 321,\n",
              " 'такие': 322,\n",
              " 'работа': 323,\n",
              " 'отрасли': 324,\n",
              " 'граждан': 325,\n",
              " 'своей': 326,\n",
              " 'стоимость': 327,\n",
              " 'менее': 328,\n",
              " 'предпринимательства': 329,\n",
              " 'казахстанских': 330,\n",
              " 'следует': 331,\n",
              " 'сектора': 332,\n",
              " 'течение': 333,\n",
              " 'нашей': 334,\n",
              " 'этим': 335,\n",
              " 'казахстанского': 336,\n",
              " 'второй': 337,\n",
              " 'района': 338,\n",
              " 'результате': 339,\n",
              " 'город': 340,\n",
              " 'просто': 341,\n",
              " 'идет': 342,\n",
              " 'рассказал': 343,\n",
              " 'инфраструктуры': 344,\n",
              " 'имеет': 345,\n",
              " 'которого': 346,\n",
              " 'обеспечить': 347,\n",
              " 'поддержки': 348,\n",
              " 'текущего': 349,\n",
              " 'миллионов': 350,\n",
              " 'внимание': 351,\n",
              " 'первого': 352,\n",
              " 'экономического': 353,\n",
              " 'таким': 354,\n",
              " 'сотрудничества': 355,\n",
              " 'людей': 356,\n",
              " 'потому': 357,\n",
              " 'своих': 358,\n",
              " 'сентября': 359,\n",
              " 'правительству': 360,\n",
              " 'денег': 361,\n",
              " 'условиях': 362,\n",
              " 'обеспечения': 363,\n",
              " 'иностранных': 364,\n",
              " 'главный': 365,\n",
              " 'нурсултан': 366,\n",
              " 'политики': 367,\n",
              " 'министра': 368,\n",
              " 'образом': 369,\n",
              " 'почти': 370,\n",
              " 'лишь': 371,\n",
              " 'еаэс': 372,\n",
              " 'такой': 373,\n",
              " 'аким': 374,\n",
              " 'частности': 375,\n",
              " 'новой': 376,\n",
              " 'эта': 377,\n",
              " 'говорится': 378,\n",
              " 'строительства': 379,\n",
              " 'правительство': 380,\n",
              " 'либо': 381,\n",
              " 'союза': 382,\n",
              " 'миллиардов': 383,\n",
              " 'сообщению': 384,\n",
              " 'кредитов': 385,\n",
              " 'вопросам': 386,\n",
              " 'независимости': 387,\n",
              " 'наших': 388,\n",
              " 'мира': 389,\n",
              " 'стоит': 390,\n",
              " 'заявил': 391,\n",
              " 'таких': 392,\n",
              " 'являются': 393,\n",
              " 'окончил': 394,\n",
              " 'наиболее': 395,\n",
              " 'например': 396,\n",
              " 'меры': 397,\n",
              " 'эту': 398,\n",
              " 'одного': 399,\n",
              " 'стать': 400,\n",
              " 'дел': 401,\n",
              " 'завод': 402,\n",
              " 'решения': 403,\n",
              " 'прессслужба': 404,\n",
              " 'дело': 405,\n",
              " 'казинформ': 406,\n",
              " 'область': 407,\n",
              " 'службы': 408,\n",
              " 'стали': 409,\n",
              " 'качестве': 410,\n",
              " 'курс': 411,\n",
              " 'органов': 412,\n",
              " 'сумма': 413,\n",
              " 'последние': 414,\n",
              " 'тоже': 415,\n",
              " 'полностью': 416,\n",
              " 'много': 417,\n",
              " 'одним': 418,\n",
              " 'те': 419,\n",
              " 'актау': 420,\n",
              " 'институт': 421,\n",
              " 'ряд': 422,\n",
              " 'известно': 423,\n",
              " 'система': 424,\n",
              " 'бишимбаев': 425,\n",
              " 'работе': 426,\n",
              " 'экономической': 427,\n",
              " 'трлн': 428,\n",
              " 'программе': 429,\n",
              " 'представители': 430,\n",
              " 'сообщили': 431,\n",
              " 'технологий': 432,\n",
              " 'нк': 433,\n",
              " 'финансовых': 434,\n",
              " 'корреспондент': 435,\n",
              " 'университет': 436,\n",
              " 'власти': 437,\n",
              " 'подчеркнул': 438,\n",
              " 'работать': 439,\n",
              " 'мире': 440,\n",
              " 'конце': 441,\n",
              " 'завода': 442,\n",
              " 'каждый': 443,\n",
              " 'транспорта': 444,\n",
              " 'конца': 445,\n",
              " 'международных': 446,\n",
              " 'акций': 447,\n",
              " 'инвесторов': 448,\n",
              " 'условия': 449,\n",
              " 'благодаря': 450,\n",
              " 'говорит': 451,\n",
              " 'проекты': 452,\n",
              " 'мест': 453,\n",
              " 'жизни': 454,\n",
              " 'ему': 455,\n",
              " 'контроля': 456,\n",
              " 'агентства': 457,\n",
              " 'региона': 458,\n",
              " 'бюджета': 459,\n",
              " 'данный': 460,\n",
              " 'него': 461,\n",
              " 'против': 462,\n",
              " 'товаров': 463,\n",
              " 'участием': 464,\n",
              " 'мне': 465,\n",
              " 'важно': 466,\n",
              " 'тот': 467,\n",
              " 'государство': 468,\n",
              " 'одной': 469,\n",
              " 'времени': 470,\n",
              " 'должно': 471,\n",
              " 'фото': 472,\n",
              " 'государственный': 473,\n",
              " 'многие': 474,\n",
              " 'свой': 475,\n",
              " 'достаточно': 476,\n",
              " 'группы': 477,\n",
              " 'финансов': 478,\n",
              " 'пенсионные': 479,\n",
              " 'конечно': 480,\n",
              " 'городе': 481,\n",
              " 'составила': 482,\n",
              " 'единиц': 483,\n",
              " 'бизнес': 484,\n",
              " 'парламента': 485,\n",
              " 'люди': 486,\n",
              " 'хотя': 487,\n",
              " 'источник': 488,\n",
              " 'почему': 489,\n",
              " 'февраля': 490,\n",
              " 'сми': 491,\n",
              " 'ситуация': 492,\n",
              " 'дня': 493,\n",
              " 'суд': 494,\n",
              " 'директоров': 495,\n",
              " 'тех': 496,\n",
              " 'свыше': 497,\n",
              " 'проблемы': 498,\n",
              " 'проведения': 499,\n",
              " 'поскольку': 500,\n",
              " 'возможности': 501,\n",
              " 'системе': 502,\n",
              " 'руководителя': 503,\n",
              " 'нефть': 504,\n",
              " 'прошлого': 505,\n",
              " 'данные': 506,\n",
              " 'создание': 507,\n",
              " 'цен': 508,\n",
              " 'снижение': 509,\n",
              " 'некоторые': 510,\n",
              " 'июля': 511,\n",
              " 'виде': 512,\n",
              " 'китай': 513,\n",
              " 'мнению': 514,\n",
              " 'затем': 515,\n",
              " 'труда': 516,\n",
              " 'поручаю': 517,\n",
              " 'энергетики': 518,\n",
              " 'банки': 519,\n",
              " 'цены': 520,\n",
              " 'помощи': 521,\n",
              " 'банком': 522,\n",
              " 'своего': 523,\n",
              " 'права': 524,\n",
              " 'информацию': 525,\n",
              " 'областного': 526,\n",
              " 'сегодняшний': 527,\n",
              " 'международного': 528,\n",
              " 'управление': 529,\n",
              " 'жол': 530,\n",
              " 'особенно': 531,\n",
              " 'бузгул': 532,\n",
              " 'аурум': 533,\n",
              " 'над': 534,\n",
              " 'сравнению': 535,\n",
              " 'финансирования': 536,\n",
              " 'назначен': 537,\n",
              " 'начале': 538,\n",
              " 'крупных': 539,\n",
              " 'сообщении': 540,\n",
              " 'этому': 541,\n",
              " 'пути': 542,\n",
              " 'получить': 543,\n",
              " 'программа': 544,\n",
              " 'экономике': 545,\n",
              " 'дома': 546,\n",
              " 'организаций': 547,\n",
              " 'дальше': 548,\n",
              " 'создать': 549,\n",
              " 'возможно': 550,\n",
              " 'назарбаева': 551,\n",
              " 'работ': 552,\n",
              " 'странах': 553,\n",
              " 'қазақстан': 554,\n",
              " 'ставки': 555,\n",
              " 'сети': 556,\n",
              " 'систему': 557,\n",
              " 'срок': 558,\n",
              " 'здравоохранения': 559,\n",
              " 'kase': 560,\n",
              " 'несмотря': 561,\n",
              " 'выше': 562,\n",
              " 'км': 563,\n",
              " 'поезда': 564,\n",
              " 'мажилиса': 565,\n",
              " 'дней': 566,\n",
              " 'позволит': 567,\n",
              " 'вагонов': 568,\n",
              " 'нацбанк': 569,\n",
              " 'института': 570,\n",
              " 'ситуации': 571,\n",
              " 'месте': 572,\n",
              " 'прав': 573,\n",
              " 'ведь': 574,\n",
              " 'акции': 575,\n",
              " 'поддержку': 576,\n",
              " 'изменения': 577,\n",
              " 'информация': 578,\n",
              " 'услуги': 579,\n",
              " 'далее': 580,\n",
              " 'рабочих': 581,\n",
              " 'наши': 582,\n",
              " 'м': 583,\n",
              " 'комиссии': 584,\n",
              " 'сразу': 585,\n",
              " 'должна': 586,\n",
              " 'ссылкой': 587,\n",
              " 'сообщила': 588,\n",
              " 'казахстанцев': 589,\n",
              " 'активно': 590,\n",
              " 'считает': 591,\n",
              " 'пассажиров': 592,\n",
              " 'оборудования': 593,\n",
              " 'международной': 594,\n",
              " 'kazakhstan': 595,\n",
              " 'свое': 596,\n",
              " 'меня': 597,\n",
              " 'практически': 598,\n",
              " 'иа': 599,\n",
              " 'капитала': 600,\n",
              " 'машин': 601,\n",
              " 'большой': 602,\n",
              " 'сам': 603,\n",
              " 'первую': 604,\n",
              " 'целью': 605,\n",
              " 'защиты': 606,\n",
              " 'работал': 607,\n",
              " 'социальных': 608,\n",
              " 'сайте': 609,\n",
              " 'самрукказына': 610,\n",
              " 'хозяйства': 611,\n",
              " 'социальной': 612,\n",
              " 'должность': 613,\n",
              " 'экспо': 614,\n",
              " 'ввп': 615,\n",
              " 'пять': 616,\n",
              " 'будем': 617,\n",
              " 'перевозок': 618,\n",
              " 'речь': 619,\n",
              " 'получения': 620,\n",
              " 'внутренних': 621,\n",
              " 'заседания': 622,\n",
              " 'прошлом': 623,\n",
              " 'модернизации': 624,\n",
              " 'опыт': 625,\n",
              " 'всегда': 626,\n",
              " 'начальника': 627,\n",
              " 'находится': 628,\n",
              " 'субъектов': 629,\n",
              " 'лица': 630,\n",
              " 'ктж': 631,\n",
              " 'месяца': 632,\n",
              " 'финансовой': 633,\n",
              " 'республике': 634,\n",
              " 'участия': 635,\n",
              " 'да': 636,\n",
              " 'помощь': 637,\n",
              " 'транспортных': 638,\n",
              " 'процента': 639,\n",
              " 'активы': 640,\n",
              " 'заседании': 641,\n",
              " 'имени': 642,\n",
              " 'станции': 643,\n",
              " 'комплекса': 644,\n",
              " 'российской': 645,\n",
              " 'отметить': 646,\n",
              " 'касается': 647,\n",
              " 'которое': 648,\n",
              " 'отмечается': 649,\n",
              " 'комплекс': 650,\n",
              " 'целях': 651,\n",
              " 'сделать': 652,\n",
              " 'основе': 653,\n",
              " 'участников': 654,\n",
              " 'университета': 655,\n",
              " 'агентство': 656,\n",
              " 'х': 657,\n",
              " 'продажи': 658,\n",
              " 'прессслужбе': 659,\n",
              " 'второго': 660,\n",
              " 'цена': 661,\n",
              " 'тысячи': 662,\n",
              " 'первой': 663,\n",
              " 'примеру': 664,\n",
              " 'казахстанский': 665,\n",
              " 'редакции': 666,\n",
              " 'газа': 667,\n",
              " 'потом': 668,\n",
              " 'программ': 669,\n",
              " 'автомобили': 670,\n",
              " 'путь': 671,\n",
              " 'рф': 672,\n",
              " 'дела': 673,\n",
              " 'республиканского': 674,\n",
              " 'истории': 675,\n",
              " 'документов': 676,\n",
              " 'собственности': 677,\n",
              " 'учетом': 678,\n",
              " 'суммы': 679,\n",
              " 'самых': 680,\n",
              " 'прежде': 681,\n",
              " 'задача': 682,\n",
              " 'другой': 683,\n",
              " 'стала': 684,\n",
              " 'такого': 685,\n",
              " 'коррупции': 686,\n",
              " 'технологии': 687,\n",
              " 'базе': 688,\n",
              " 'китая': 689,\n",
              " 'трудовой': 690,\n",
              " 'меньше': 691,\n",
              " 'имущества': 692,\n",
              " 'получил': 693,\n",
              " 'тому': 694,\n",
              " 'банке': 695,\n",
              " 'предприятие': 696,\n",
              " 'эксперты': 697,\n",
              " 'своем': 698,\n",
              " 'какие': 699,\n",
              " 'повышение': 700,\n",
              " 'наша': 701,\n",
              " 'переговоры': 702,\n",
              " 'составит': 703,\n",
              " 'данных': 704,\n",
              " 'торговли': 705,\n",
              " 'вкладчиков': 706,\n",
              " 'ничего': 707,\n",
              " 'соответственно': 708,\n",
              " 'национальным': 709,\n",
              " 'дорог': 710,\n",
              " 'состав': 711,\n",
              " 'увеличение': 712,\n",
              " 'снг': 713,\n",
              " 'августа': 714,\n",
              " 'собой': 715,\n",
              " 'накоплений': 716,\n",
              " 'тг': 717,\n",
              " 'принять': 718,\n",
              " 'работает': 719,\n",
              " 'месяц': 720,\n",
              " 'продаж': 721,\n",
              " 'ассоциации': 722,\n",
              " 'даму': 723,\n",
              " 'думаю': 724,\n",
              " 'мер': 725,\n",
              " 'финансирование': 726,\n",
              " 'котором': 727,\n",
              " 'первое': 728,\n",
              " 'invest': 729,\n",
              " 'трех': 730,\n",
              " 'карагандинской': 731,\n",
              " 'реализация': 732,\n",
              " 'кнб': 733,\n",
              " 'заместителем': 734,\n",
              " 'модели': 735,\n",
              " 'общества': 736,\n",
              " 'делам': 737,\n",
              " 'портфеля': 738,\n",
              " 'создания': 739,\n",
              " 'долю': 740,\n",
              " 'закона': 741,\n",
              " 'занимаемой': 742,\n",
              " 'ндс': 743,\n",
              " 'содержания': 744,\n",
              " 'клиентов': 745,\n",
              " 'финансового': 746,\n",
              " 'администрации': 747,\n",
              " 'добавил': 748,\n",
              " 'работают': 749,\n",
              " 'текущем': 750,\n",
              " 'единый': 751,\n",
              " 'ставка': 752,\n",
              " 'кредитования': 753,\n",
              " 'миллиона': 754,\n",
              " 'заместителя': 755,\n",
              " 'мир': 756,\n",
              " 'бву': 757,\n",
              " 'качества': 758,\n",
              " 'ниже': 759,\n",
              " 'общество': 760,\n",
              " 'партии': 761,\n",
              " 'управляющий': 762,\n",
              " 'жилья': 763,\n",
              " 'приняли': 764,\n",
              " 'азии': 765,\n",
              " 'bank': 766,\n",
              " 'облигаций': 767,\n",
              " 'которую': 768,\n",
              " 'наш': 769,\n",
              " 'частных': 770,\n",
              " 'производству': 771,\n",
              " 'социального': 772,\n",
              " 'холдинга': 773,\n",
              " 'условий': 774,\n",
              " 'говорить': 775,\n",
              " 'государств': 776,\n",
              " 'чего': 777,\n",
              " 'эксплуатацию': 778,\n",
              " 'министерство': 779,\n",
              " 'защите': 780,\n",
              " 'всей': 781,\n",
              " 'проблем': 782,\n",
              " 'перевозки': 783,\n",
              " 'человека': 784,\n",
              " 'науки': 785,\n",
              " 'ед': 786,\n",
              " 'программу': 787,\n",
              " 'автомобиль': 788,\n",
              " 'деле': 789,\n",
              " 'жолы': 790,\n",
              " 'самым': 791,\n",
              " 'экспорта': 792,\n",
              " 'культуры': 793,\n",
              " 'го': 794,\n",
              " 'позже': 795,\n",
              " 'стоимости': 796,\n",
              " 'пенсионного': 797,\n",
              " 'вопросов': 798,\n",
              " 'казахский': 799,\n",
              " 'стаж': 800,\n",
              " 'потребителей': 801,\n",
              " 'премьерминистра': 802,\n",
              " 'доллар': 803,\n",
              " 'провести': 804,\n",
              " 'следующей': 805,\n",
              " 'число': 806,\n",
              " 'процесс': 807,\n",
              " 'годах': 808,\n",
              " 'собственных': 809,\n",
              " 'своим': 810,\n",
              " 'основной': 811,\n",
              " 'роль': 812,\n",
              " 'кодекса': 813,\n",
              " 'проводится': 814,\n",
              " 'регионе': 815,\n",
              " 'получили': 816,\n",
              " 'хорошо': 817,\n",
              " 'сделки': 818,\n",
              " 'вновь': 819,\n",
              " 'спорта': 820,\n",
              " 'доллара': 821,\n",
              " 'повышения': 822,\n",
              " 'крупнейших': 823,\n",
              " 'евро': 824,\n",
              " 'вообще': 825,\n",
              " 'путем': 826,\n",
              " 'встречи': 827,\n",
              " 'председателем': 828,\n",
              " 'миллиарда': 829,\n",
              " 'ответственности': 830,\n",
              " 'бюджет': 831,\n",
              " 'поддержке': 832,\n",
              " 'малого': 833,\n",
              " 'использования': 834,\n",
              " 'конкуренции': 835,\n",
              " 'среднего': 836,\n",
              " 'станет': 837,\n",
              " 'работников': 838,\n",
              " 'расследование': 839,\n",
              " 'генеральный': 840,\n",
              " 'находятся': 841,\n",
              " 'нпп': 842,\n",
              " 'регионах': 843,\n",
              " 'международный': 844,\n",
              " 'поездов': 845,\n",
              " 'т': 846,\n",
              " 'народный': 847,\n",
              " 'доходов': 848,\n",
              " 'включая': 849,\n",
              " 'мангистауской': 850,\n",
              " 'различных': 851,\n",
              " 'июня': 852,\n",
              " 'таможенного': 853,\n",
              " 'результаты': 854,\n",
              " 'имеют': 855,\n",
              " 'член': 856,\n",
              " 'впервые': 857,\n",
              " 'такое': 858,\n",
              " 'себе': 859,\n",
              " 'требования': 860,\n",
              " 'направлении': 861,\n",
              " 'атамекен': 862,\n",
              " 'реализацию': 863,\n",
              " 'азия': 864,\n",
              " 'общего': 865,\n",
              " 'объекты': 866,\n",
              " 'закон': 867,\n",
              " 'касымбек': 868,\n",
              " 'всё': 869,\n",
              " 'итоге': 870,\n",
              " 'евразийского': 871,\n",
              " 'фондом': 872,\n",
              " 'дороги': 873,\n",
              " 'куандык': 874,\n",
              " 'казахстанские': 875,\n",
              " 'ситуацию': 876,\n",
              " 'акишев': 877,\n",
              " 'рублей': 878,\n",
              " 'ведомства': 879,\n",
              " 'районе': 880,\n",
              " 'такая': 881,\n",
              " 'мероприятия': 882,\n",
              " 'алматинской': 883,\n",
              " 'казахского': 884,\n",
              " 'следующего': 885,\n",
              " 'предложения': 886,\n",
              " 'отечественных': 887,\n",
              " 'секторе': 888,\n",
              " 'специалистов': 889,\n",
              " 'представителей': 890,\n",
              " 'нашего': 891,\n",
              " 'пенсионный': 892,\n",
              " 'самом': 893,\n",
              " 'соглашение': 894,\n",
              " 'приходится': 895,\n",
              " 'показатель': 896,\n",
              " 'рейтинг': 897,\n",
              " 'две': 898,\n",
              " 'жителей': 899,\n",
              " 'годом': 900,\n",
              " 'техники': 901,\n",
              " 'состоянию': 902,\n",
              " 'которым': 903,\n",
              " 'увеличить': 904,\n",
              " 'легковых': 905,\n",
              " 'особо': 906,\n",
              " 'депутат': 907,\n",
              " 'данного': 908,\n",
              " 'первым': 909,\n",
              " 'удалось': 910,\n",
              " 'начал': 911,\n",
              " 'правительством': 912,\n",
              " 'сроки': 913,\n",
              " 'kaznex': 914,\n",
              " 'россия': 915,\n",
              " 'отношений': 916,\n",
              " 'совет': 917,\n",
              " 'занимает': 918,\n",
              " 'компанией': 919,\n",
              " 'интересов': 920,\n",
              " 'изменений': 921,\n",
              " 'добычи': 922,\n",
              " 'актобе': 923,\n",
              " 'еабр': 924,\n",
              " 'изложить': 925,\n",
              " 'ежегодно': 926,\n",
              " 'действия': 927,\n",
              " 'народного': 928,\n",
              " 'объеме': 929,\n",
              " 'отметили': 930,\n",
              " 'карты': 931,\n",
              " 'сельского': 932,\n",
              " 'филиала': 933,\n",
              " 'южноказахстанской': 934,\n",
              " 'странами': 935,\n",
              " 'обеспечение': 936,\n",
              " 'тут': 937,\n",
              " 'доли': 938,\n",
              " 'приватизации': 939,\n",
              " 'пояснил': 940,\n",
              " 'правил': 941,\n",
              " 'представитель': 942,\n",
              " 'кредит': 943,\n",
              " 'большое': 944,\n",
              " 'костанайской': 945,\n",
              " 'данияр': 946,\n",
              " 'депозитов': 947,\n",
              " 'значения': 948,\n",
              " 'многих': 949,\n",
              " 'апреля': 950,\n",
              " 'капитал': 951,\n",
              " 'осуществляется': 952,\n",
              " 'холдинг': 953,\n",
              " 'пост': 954,\n",
              " 'наук': 955,\n",
              " 'инвестиционного': 956,\n",
              " 'переработки': 957,\n",
              " 'инвестиции': 958,\n",
              " 'поделиться': 959,\n",
              " 'размер': 960,\n",
              " 'линии': 961,\n",
              " 'одна': 962,\n",
              " 'часов': 963,\n",
              " 'делать': 964,\n",
              " 'федерации': 965,\n",
              " 'fortebank': 966,\n",
              " 'поезд': 967,\n",
              " 'материалов': 968,\n",
              " 'общей': 969,\n",
              " 'нурсултана': 970,\n",
              " 'qazkom': 971,\n",
              " 'регионов': 972,\n",
              " 'отметим': 973,\n",
              " 'произошло': 974,\n",
              " 'остается': 975,\n",
              " 'новая': 976,\n",
              " 'свободы': 977,\n",
              " 'органы': 978,\n",
              " 'инфляции': 979,\n",
              " 'жамбылской': 980,\n",
              " 'ноябре': 981,\n",
              " 'столицы': 982,\n",
              " 'законодательства': 983,\n",
              " 'regnum': 984,\n",
              " 'производителей': 985,\n",
              " 'принято': 986,\n",
              " 'проведение': 987,\n",
              " 'физических': 988,\n",
              " 'общественного': 989,\n",
              " 'накопления': 990,\n",
              " 'сотрудников': 991,\n",
              " 'жизнь': 992,\n",
              " 'акимата': 993,\n",
              " 'аппарата': 994,\n",
              " 'казкоммерцбанк': 995,\n",
              " 'пяти': 996,\n",
              " 'операций': 997,\n",
              " 'весь': 998,\n",
              " 'энергии': 999,\n",
              " 'первые': 1000,\n",
              " ...}"
            ]
          },
          "metadata": {},
          "execution_count": 19
        }
      ],
      "source": [
        "tokenizer.word_index"
      ]
    },
    {
      "cell_type": "code",
      "source": [
        "x_train_text = [str(text) if isinstance(text, float) else text for text in x_train_text]\n"
      ],
      "metadata": {
        "id": "0GzLzfIJjBQc"
      },
      "execution_count": 20,
      "outputs": []
    },
    {
      "cell_type": "code",
      "execution_count": 21,
      "metadata": {
        "id": "RD9SzbC5Uam6"
      },
      "outputs": [],
      "source": [
        "x_train_tokens = tokenizer.texts_to_sequences(x_train_text)\n"
      ]
    },
    {
      "cell_type": "code",
      "execution_count": 22,
      "metadata": {
        "colab": {
          "base_uri": "https://localhost:8080/",
          "height": 139
        },
        "id": "3fxueZ_mZUd0",
        "outputId": "797cc57f-7771-475e-c149-4b506fd25dad"
      },
      "outputs": [
        {
          "output_type": "execute_result",
          "data": {
            "text/plain": [
              "'infokz  января     портал центразия со ссылкой на свои источники в астане сообщил об аресте бывшего заместителя руководителя администрации президента баглана майлыбаева сообщает инфоkz   официального подтверждения этой информации нет   в статье портала центразия даны несколько версий причины ареста причиной могут быть с хищения  млрд тенге выделенных на политические и исторические исследования по другой версии арест майлыбаева связан с делом в рамках которого арестован эксминистр куандык бишимбаев  хищения в холдинге байтерек   на днях президент освободил баглана майлыбаева от должности заместителя руководителя своей администрации давайте вспомним чем известен баглан асаубаевич и какие должности он занимал   биография   баглан асаубаевич майлыбаев появился на свет в джамбуле ныне тараз  мая  года по первой специальности он журналист окончил в  году альмаматер большинства казахстанских тружеников пера и микрофона  казгу имени альфараби   спустя два года он получил второе образование в российской академии госслужбы   в  защитил докторскую на тему становления и эволюции института президента   с  по  годы майлыбаев работал старшим научным сотрудником института государства и права академии наук и преподавателем в казахском государственном университете международных отношений и мировых языков имени абылай хана в народе именуемом иняз   затем он работал сразу по двум своим профессиям  журналиста и госуправленца в министерстве культуры информации и общественного согласия в  руководил департаментом сми позднее возглавлял главную газету страны  казахстанскую правду руководил прессслужбой президента был вицеминистром культуры и информации   и наконец был назначен заместителем руководителя администрации главы государства эту должность баглан асаубаевич занимал с  по  годы   цитаты   в  году майлыбаев открывал в астане службу центральных коммуникаций вот как он прокомментировал это событие   создана служба центральных коммуникаций при правительстве страны впервые в истории нашей страны его возглавил официальный представитель правительства заместитель руководителя канцелярии премьерминистра  ержан ашикбаев он всегда давал эксклюзивную свежую информацию и сегодня данная структура обретает важное значение для всей нашей работы поскольку единым спикером теперь будет центр коммуникаций который возглавляет ержан ашикбаев самая главная информация будет идти из уст официального представителя правительства   источник      по сообщению сайта костанай тв'"
            ],
            "application/vnd.google.colaboratory.intrinsic+json": {
              "type": "string"
            }
          },
          "metadata": {},
          "execution_count": 22
        }
      ],
      "source": [
        "x_train_text[1]"
      ]
    },
    {
      "cell_type": "code",
      "execution_count": 23,
      "metadata": {
        "colab": {
          "base_uri": "https://localhost:8080/"
        },
        "id": "RWGoFEUBUam7",
        "outputId": "d49b451b-6f8d-4889-9de4-8a45cf0fdbf3"
      },
      "outputs": [
        {
          "output_type": "execute_result",
          "data": {
            "text/plain": [
              "array([1568,  839,    4, 1025, 1503,   54, 4464,  767,   71,  532,  533,\n",
              "         43, 3013,    4, 2437,  131,   58,   29,  201,   97,  134,  606,\n",
              "        573,  801,    2,  434,  279,  268,   23, 1132, 3106, 4889,    9,\n",
              "       4208, 1142,  277, 2206,  131,   58, 3787,   19,  177,    8,   43,\n",
              "       2206,  131,   58,    1, 2572,  978,  231,  377, 1162, 8829, 4988,\n",
              "       4209,  187,  569,  177,    8, 1825,    1, 2572,  978,   15,   34,\n",
              "          6,   57, 1740,    3,   77, 4032, 2207,  814, 1305,  176, 3106,\n",
              "         87,    1, 1646, 2257,    6,    7, 3609,    6,  277, 4889,    9,\n",
              "       1083,   54,   87, 1182,  499, 1083,    1,   24,  751, 1183,  892,\n",
              "        206,  404,  131,   58,  588,    6, 2130, 3361,    4, 3152,   24,\n",
              "         54,    1,  255, 1298,  809,  215,   22,    1, 4304,    6,    4,\n",
              "       2629,   54,    3,  178,    1,  616,   30, 1729,  405,    1, 1646,\n",
              "          6,  869, 6309,    7,  222,  716,  589,   56,  191, 1342, 1363,\n",
              "          1, 1906, 1391,  103, 2380,    2, 1195, 2838])"
            ]
          },
          "metadata": {},
          "execution_count": 23
        }
      ],
      "source": [
        "np.array(x_train_tokens[0])"
      ]
    },
    {
      "cell_type": "code",
      "execution_count": 24,
      "metadata": {
        "id": "ZWPkUVT0Uam8"
      },
      "outputs": [],
      "source": [
        "x_test_tokens = tokenizer.texts_to_sequences(x_test_text)"
      ]
    },
    {
      "cell_type": "markdown",
      "metadata": {
        "id": "o9AsLMtsUam8"
      },
      "source": [
        "Рекуррентная нейронная сеть может принимать последовательности произвольной длины в качестве входных данных, но для того, чтобы использовать весь пакет данных, последовательности должны иметь одинаковую длину. Но мы не можем взять длину самого длинного обзора и добавить столько нулей к более коротким обзорам, потому что это займет много памяти, поэтому мы должны определить конкретную длину, которая будет достаточной для большинства наших данных"
      ]
    },
    {
      "cell_type": "code",
      "execution_count": 25,
      "metadata": {
        "id": "3c0m_JGNUam9"
      },
      "outputs": [],
      "source": [
        "num_tokens = np.array([len(tokens) for tokens in x_train_tokens + x_test_tokens])\n"
      ]
    },
    {
      "cell_type": "code",
      "execution_count": 26,
      "metadata": {
        "colab": {
          "base_uri": "https://localhost:8080/"
        },
        "id": "o-IP2hejUam9",
        "outputId": "d0bb4bd8-9ed9-4872-c2df-a2c94fbbabf5"
      },
      "outputs": [
        {
          "output_type": "execute_result",
          "data": {
            "text/plain": [
              "365.7327534130724"
            ]
          },
          "metadata": {},
          "execution_count": 26
        }
      ],
      "source": [
        "np.mean(num_tokens)"
      ]
    },
    {
      "cell_type": "code",
      "execution_count": 27,
      "metadata": {
        "colab": {
          "base_uri": "https://localhost:8080/"
        },
        "id": "LcOrIEdXUam-",
        "outputId": "14951e18-c0f9-4870-cc72-c75cc5c89da6"
      },
      "outputs": [
        {
          "output_type": "execute_result",
          "data": {
            "text/plain": [
              "7171"
            ]
          },
          "metadata": {},
          "execution_count": 27
        }
      ],
      "source": [
        "np.max(num_tokens)"
      ]
    },
    {
      "cell_type": "code",
      "execution_count": 28,
      "metadata": {
        "colab": {
          "base_uri": "https://localhost:8080/"
        },
        "id": "Z7HYP2MmUam-",
        "outputId": "1de7b37d-38e1-4cbe-9841-414366adc952"
      },
      "outputs": [
        {
          "output_type": "execute_result",
          "data": {
            "text/plain": [
              "0"
            ]
          },
          "metadata": {},
          "execution_count": 28
        }
      ],
      "source": [
        "np.min(num_tokens)"
      ]
    },
    {
      "cell_type": "markdown",
      "metadata": {
        "id": "HR9eSrWbUam_"
      },
      "source": [
        "## Визуализация длины токена"
      ]
    },
    {
      "cell_type": "code",
      "execution_count": 29,
      "metadata": {
        "id": "jEF2AKkQUanA"
      },
      "outputs": [],
      "source": [
        "max_tokens = np.mean(num_tokens) + 2 * np.std(num_tokens)\n",
        "max_tokens = int(max_tokens)\n",
        "max_tokens = 1558"
      ]
    },
    {
      "cell_type": "code",
      "execution_count": 30,
      "metadata": {
        "colab": {
          "base_uri": "https://localhost:8080/",
          "height": 35
        },
        "id": "WaGQbKuzUanB",
        "outputId": "dcc0346a-f74e-4dc8-f32b-7e5c5064c975"
      },
      "outputs": [
        {
          "output_type": "execute_result",
          "data": {
            "text/plain": [
              "'96.32717168056058 %'"
            ],
            "application/vnd.google.colaboratory.intrinsic+json": {
              "type": "string"
            }
          },
          "metadata": {},
          "execution_count": 30
        }
      ],
      "source": [
        "str(np.sum(num_tokens < max_tokens) / len(num_tokens) * 100) +' %' "
      ]
    },
    {
      "cell_type": "code",
      "execution_count": 31,
      "metadata": {
        "id": "VQPTL52eUanC"
      },
      "outputs": [],
      "source": [
        "pad = 'pre'"
      ]
    },
    {
      "cell_type": "code",
      "execution_count": 32,
      "metadata": {
        "id": "5RgyR_U2UanC"
      },
      "outputs": [],
      "source": [
        "x_train_pad = pad_sequences(x_train_tokens, maxlen=max_tokens,\n",
        "                            padding=pad, truncating=pad)"
      ]
    },
    {
      "cell_type": "code",
      "execution_count": 33,
      "metadata": {
        "id": "XtGuFeDOUanD"
      },
      "outputs": [],
      "source": [
        "x_test_pad = pad_sequences(x_test_tokens, maxlen=max_tokens,\n",
        "                           padding=pad, truncating=pad)"
      ]
    },
    {
      "cell_type": "code",
      "execution_count": 34,
      "metadata": {
        "colab": {
          "base_uri": "https://localhost:8080/"
        },
        "id": "uTpAgm7zUanD",
        "outputId": "201a5f4a-6b1f-4ffa-b9ad-21a964d0a216"
      },
      "outputs": [
        {
          "output_type": "execute_result",
          "data": {
            "text/plain": [
              "(6623, 1558)"
            ]
          },
          "metadata": {},
          "execution_count": 34
        }
      ],
      "source": [
        "x_train_pad.shape"
      ]
    },
    {
      "cell_type": "code",
      "execution_count": 35,
      "metadata": {
        "colab": {
          "base_uri": "https://localhost:8080/"
        },
        "id": "mrtwiR5FUanE",
        "outputId": "a5770304-1b2a-405e-f777-f38ac0297cee"
      },
      "outputs": [
        {
          "output_type": "execute_result",
          "data": {
            "text/plain": [
              "(1654, 1558)"
            ]
          },
          "metadata": {},
          "execution_count": 35
        }
      ],
      "source": [
        "x_test_pad.shape"
      ]
    },
    {
      "cell_type": "code",
      "execution_count": 36,
      "metadata": {
        "colab": {
          "base_uri": "https://localhost:8080/"
        },
        "id": "Z_68OCnqUanE",
        "outputId": "7275cbab-900c-4649-b5d6-35ce59b96356"
      },
      "outputs": [
        {
          "output_type": "execute_result",
          "data": {
            "text/plain": [
              "array([8830,   89, 3107,   64,  587,    3,  234, 3660,    1,  248,  201,\n",
              "         69, 4567, 1515,  755,  503,  747,  110, 8831, 2808,  236, 2736,\n",
              "       4117,  146,  161,  148,    1, 1046, 4210,  266, 3108, 6144, 1805,\n",
              "        195,  130,    5, 4378,   30,   11, 2230,    3, 5793,    2, 9202,\n",
              "       1184,    4,  683, 2469, 1792, 2808, 6145,    5, 5384,    1,   76,\n",
              "        346, 3480, 4379,  874,  425, 4378,    1, 4305,  274,    3, 5132,\n",
              "        143, 8831, 2808,   19,  256,  755,  503,  326,  747, 2880, 9203,\n",
              "        122, 6310, 5794,    2,  699,  256,   38, 1541, 5794, 2665, 4784,\n",
              "          3, 2839,    1, 2539, 3870, 1047,    8,    4,  663, 1592,   38,\n",
              "       4568,  394,    1,   20, 3306,  330,    2,  642, 1516, 2412,  184,\n",
              "          8,   38,  693, 1072, 1212,    1,  645, 1014, 7124,    1,    3,\n",
              "       1775, 4306,    2,  570,  110,    5,    4,  141, 2665,  607, 9204,\n",
              "        570,   83,    2,  524, 1014,  955,    2, 9592,    1, 2699, 3014,\n",
              "       3417,  446,  916,    2, 1666, 6695,  642, 6487,    1, 9593,  515,\n",
              "         38,  607,  585,    4, 4033,  810, 7599,    2,    1, 1630,  793,\n",
              "        161,    2,  989, 3307,    1, 4890, 3871,  491, 3153, 2666, 6696,\n",
              "         70, 4118, 4890,  110,   52, 3308,  793,    2,  161,    2, 3015,\n",
              "         52,  537,  734,  503,  747,  275,   83,  398,  613, 5794, 1541,\n",
              "          5,    4,  141,    1,   20, 2665,    1,  248, 2348, 2809, 1063,\n",
              "        304,   16,   38, 1806,   15, 3963, 1354, 1550, 2809, 1063,   28,\n",
              "       2208,   70,  857,    1,  675,  334,   70,   35, 3154, 1392,  942,\n",
              "        165,   96,  503, 5385,  802, 8154,   38,  626,  525,    2,   77,\n",
              "       1869, 3481, 5255, 1427,    9,  781,  334,  105,  500, 8155,  237,\n",
              "         26,  272, 1063,   78, 4677, 8154, 2381, 2231,  578,   26, 2667,\n",
              "         14, 2736, 4211,  165,  488,    4,  384,  278, 2349, 6671])"
            ]
          },
          "metadata": {},
          "execution_count": 36
        }
      ],
      "source": [
        "np.array(x_train_tokens[1])"
      ]
    },
    {
      "cell_type": "code",
      "execution_count": 37,
      "metadata": {
        "colab": {
          "base_uri": "https://localhost:8080/"
        },
        "id": "8BG8C5lWUanF",
        "outputId": "0c5708c1-6ba9-4199-a5bf-27ce9fd20b8b",
        "scrolled": true
      },
      "outputs": [
        {
          "output_type": "execute_result",
          "data": {
            "text/plain": [
              "array([   0,    0,    0, ...,  278, 2349, 6671], dtype=int32)"
            ]
          },
          "metadata": {},
          "execution_count": 37
        }
      ],
      "source": [
        "np.array(x_train_pad[1])"
      ]
    },
    {
      "cell_type": "code",
      "execution_count": 38,
      "metadata": {
        "id": "GkUNGXQib3oK"
      },
      "outputs": [],
      "source": [
        "num_tokens_pad = np.concatenate((np.array([len(tokens) for tokens in x_train_pad]), \n",
        "                                 np.array([len(tokens) for tokens in x_test_pad])))\n"
      ]
    },
    {
      "cell_type": "markdown",
      "metadata": {
        "id": "EJhkVRpVUanH"
      },
      "source": [
        "## Создание рекуррентной нейронной сети\n",
        "\n"
      ]
    },
    {
      "cell_type": "code",
      "execution_count": 39,
      "metadata": {
        "id": "rVNiOJCrUanH"
      },
      "outputs": [],
      "source": [
        "model = Sequential()"
      ]
    },
    {
      "cell_type": "code",
      "execution_count": 40,
      "metadata": {
        "id": "FrtNIZHPUanI"
      },
      "outputs": [],
      "source": [
        "embedding_size = 8"
      ]
    },
    {
      "cell_type": "code",
      "execution_count": 41,
      "metadata": {
        "id": "gqwy0ijVUanI"
      },
      "outputs": [],
      "source": [
        "model.add(Embedding(input_dim=num_words,\n",
        "                   output_dim=embedding_size,\n",
        "                   input_length=max_tokens,\n",
        "                   ))"
      ]
    },
    {
      "cell_type": "code",
      "execution_count": 42,
      "metadata": {
        "id": "atkwn5n2UanJ"
      },
      "outputs": [],
      "source": [
        "model.add(GRU(units=16, return_sequences=True))"
      ]
    },
    {
      "cell_type": "code",
      "execution_count": 43,
      "metadata": {
        "id": "nhnM8MM3SCVJ"
      },
      "outputs": [],
      "source": [
        "model.add(tf.keras.layers.Dropout(0.5))"
      ]
    },
    {
      "cell_type": "code",
      "execution_count": 44,
      "metadata": {
        "id": "p4HzV0_NUanJ"
      },
      "outputs": [],
      "source": [
        "model.add(GRU(units=8, return_sequences=True))"
      ]
    },
    {
      "cell_type": "code",
      "execution_count": 45,
      "metadata": {
        "id": "331fSf9SUanJ"
      },
      "outputs": [],
      "source": [
        "model.add(GRU(units=4))"
      ]
    },
    {
      "cell_type": "code",
      "execution_count": 46,
      "metadata": {
        "id": "bnNKLedxUanK"
      },
      "outputs": [],
      "source": [
        "model.add(Dense(1, activation='sigmoid'))\\\n",
        "#"
      ]
    },
    {
      "cell_type": "code",
      "execution_count": 47,
      "metadata": {
        "id": "QsbM1hoWUanK"
      },
      "outputs": [],
      "source": [
        "optimizer = Adam(lr=1e-3)"
      ]
    },
    {
      "cell_type": "code",
      "execution_count": 48,
      "metadata": {
        "id": "c581XlEzUanK"
      },
      "outputs": [],
      "source": [
        "model.compile(loss='binary_crossentropy',\n",
        "              optimizer=optimizer,\n",
        "              metrics=['accuracy'])"
      ]
    },
    {
      "cell_type": "code",
      "execution_count": 49,
      "metadata": {
        "colab": {
          "base_uri": "https://localhost:8080/"
        },
        "id": "TuM6qq_OUanL",
        "outputId": "6d428f75-6108-4312-da5b-6f66c6b97fa1"
      },
      "outputs": [
        {
          "output_type": "stream",
          "name": "stdout",
          "text": [
            "Model: \"sequential\"\n",
            "_________________________________________________________________\n",
            " Layer (type)                Output Shape              Param #   \n",
            "=================================================================\n",
            " embedding (Embedding)       (None, 1558, 8)           80000     \n",
            "                                                                 \n",
            " gru (GRU)                   (None, 1558, 16)          1248      \n",
            "                                                                 \n",
            " dropout (Dropout)           (None, 1558, 16)          0         \n",
            "                                                                 \n",
            " gru_1 (GRU)                 (None, 1558, 8)           624       \n",
            "                                                                 \n",
            " gru_2 (GRU)                 (None, 4)                 168       \n",
            "                                                                 \n",
            " dense (Dense)               (None, 1)                 5         \n",
            "                                                                 \n",
            "=================================================================\n",
            "Total params: 82,045\n",
            "Trainable params: 82,045\n",
            "Non-trainable params: 0\n",
            "_________________________________________________________________\n"
          ]
        }
      ],
      "source": [
        "model.summary()"
      ]
    },
    {
      "cell_type": "code",
      "execution_count": 50,
      "metadata": {
        "colab": {
          "base_uri": "https://localhost:8080/"
        },
        "id": "ZauKBVwIUanL",
        "outputId": "a8f07cb4-c439-4447-99b3-808843f1b691"
      },
      "outputs": [
        {
          "output_type": "stream",
          "name": "stdout",
          "text": [
            "Epoch 1/3\n",
            "126/126 [==============================] - 24s 116ms/step - loss: 0.5024 - accuracy: 0.8193 - val_loss: 0.4943 - val_accuracy: 0.7952\n",
            "Epoch 2/3\n",
            "126/126 [==============================] - 14s 108ms/step - loss: 0.3773 - accuracy: 0.8449 - val_loss: 0.3877 - val_accuracy: 0.8373\n",
            "Epoch 3/3\n",
            "126/126 [==============================] - 14s 108ms/step - loss: 0.2345 - accuracy: 0.9164 - val_loss: 0.3886 - val_accuracy: 0.8313\n",
            "CPU times: user 45.3 s, sys: 1.19 s, total: 46.5 s\n",
            "Wall time: 1min 26s\n"
          ]
        }
      ],
      "source": [
        "%%time\n",
        "history=model.fit(x_train_pad, y_train,\n",
        "          validation_split=0.05, epochs=3, batch_size=50)\n",
        "\n",
        "# one epoch = один прямой проход и один обратный проход всех обучающих примеров\n",
        "# batch size = количество обучающих примеров за один прямой / обратный проход"
      ]
    },
    {
      "cell_type": "code",
      "execution_count": 51,
      "metadata": {
        "colab": {
          "base_uri": "https://localhost:8080/",
          "height": 541
        },
        "id": "5-FfHrxmUanL",
        "outputId": "7ace3be9-7912-470b-b20c-200fca384636"
      },
      "outputs": [
        {
          "output_type": "display_data",
          "data": {
            "text/plain": [
              "<Figure size 432x288 with 1 Axes>"
            ],
            "image/png": "[encoded data removed]"
          },
          "metadata": {
            "needs_background": "light"
          }
        },
        {
          "output_type": "display_data",
          "data": {
            "text/plain": [
              "<Figure size 432x288 with 1 Axes>"
            ],
            "image/png": "[encoded data removed]"
          },
          "metadata": {
            "needs_background": "light"
          }
        }
      ],
      "source": [
        "def plot_graphs(history, string):\n",
        "  plt.plot(history.history[string])\n",
        "  plt.plot(history.history['val_'+string])\n",
        "  plt.xlabel(\"Epochs\")\n",
        "  plt.ylabel(string)\n",
        "  plt.legend([string, 'val_'+string])\n",
        "  plt.show()\n",
        "  \n",
        "plot_graphs(history, \"accuracy\")\n",
        "plot_graphs(history, \"loss\")"
      ]
    },
    {
      "cell_type": "code",
      "execution_count": 51,
      "metadata": {
        "id": "FeJdwTEsefsY"
      },
      "outputs": [],
      "source": []
    },
    {
      "cell_type": "code",
      "execution_count": 52,
      "metadata": {
        "colab": {
          "base_uri": "https://localhost:8080/"
        },
        "id": "YlqyGPNzUanM",
        "outputId": "f3f02ab4-2f7c-4421-9ebd-13b9e7609f55"
      },
      "outputs": [
        {
          "output_type": "stream",
          "name": "stdout",
          "text": [
            "52/52 [==============================] - 3s 49ms/step - loss: 0.3844 - accuracy: 0.8458\n",
            "CPU times: user 2.43 s, sys: 93.5 ms, total: 2.52 s\n",
            "Wall time: 2.69 s\n"
          ]
        }
      ],
      "source": [
        "%%time\n",
        "result = model.evaluate(x_test_pad, y_test)"
      ]
    },
    {
      "cell_type": "code",
      "execution_count": 53,
      "metadata": {
        "colab": {
          "base_uri": "https://localhost:8080/"
        },
        "id": "p-Xs8GjJUanN",
        "outputId": "21f1ebd1-5a26-45b1-af94-519c69347582"
      },
      "outputs": [
        {
          "output_type": "stream",
          "name": "stdout",
          "text": [
            "Точность: 84.58%\n"
          ]
        }
      ],
      "source": [
        "print(\"Точность: {0:.2%}\".format(result[1]))"
      ]
    },
    {
      "cell_type": "code",
      "execution_count": 69,
      "metadata": {
        "id": "di3Atf9zUanO"
      },
      "outputs": [],
      "source": [
        "positive_review='''На чемпионате Азии по легкой атлетике в помещении в Астане сборная Казахстана заняла весь пьедестал в соревнованиях по прыжкам в высоту среди женщин, передает NUR.KZ. На первом месте расположилась Надежда Дубовицкая с результатом 1,89 метра. Серебряную медаль завоевала Кристина Овчинникова, показавшая также 1,89. Замкнула тройку лучших Елизавета Матвеева - 1,84. Таким образом, в активе сборной Казахстана три \"золота\". Ранее первыми стали Каролин Кипкируи в беге на 3000 метров и Элина Михина. Она выиграла финальный забег на 400 метров. Михаил Литвин принес команде \"серебро\" (400 метров), Акбаян Нурмамет стала третьей в беге на 1500 метров. На втором месте завершила ЧА Ольга Сафронова (60 метров). Читайте больше: https://www.nur.kz/sport/athletics/2009061-kazahstan-zavoeval-tri-medali-na-chempionate-azii-po-legkoy-atletike-v-pomeschenii/'''\n",
        "\n",
        "negative_review='''число жертв землетрясения в турции превысило  тысяч число жертв землетрясений с эпицентром в турецком кахраманмараше достигло   человек пострадали   жителей об этом сообщил президент турции реджеп тайип эрдоган передает миа казинформ со ссылкой на анадолукак заявил глава страны реджеп тайип эрдоган в поисковоспасательных и гуманитарных работах в  провинциях зоны бедствия задействованы более  тысячи человек включая спасателей изза рубежаглава государства выразил благодарность каждому кто вносит вклад в устранение последствий разрушительных землетрясений на юге странытурецкий лидер подчеркнул что государство готово к поддержке граждан пострадавших изза стихийного бедствияон призвал население зоны бедствия всецело доверять государству в вопросе устранения последствий землетрясенияпрезидент турции сообщил что домовладельцам разместившим семьи из зоны бедствия будет выплачиваться по  тысяч турецких лир в месяц а тем кто арендует жилье  по  тысячи лирмежду тем в турции начались судебные расследования в отношении тех кто строил здания и ответственных лиц в провинциях подвергшихся землетрясению об этом заявил министр юстиции бекир боздаг ознакомившийся со спасательными работами в районе баглар в диярбакыренапомним  февраля в районе пазарджык провинции кахраманмараш на юговостоке турции произошло землетрясение магнитудой  в десяти провинциях турции введен режим чп сроком на  дней президент реджеп тайип эрдоган объявил в турции семидневный общенациональный траур по жертвам стихийного бедствия государственные флаги турции приспущены на всей территории страныразрушительное землетрясение ощутили и в соседних странах в том числе в сирии ливане трск греческом кипре и ираке'''\n",
        "\n",
        "text=[positive_review,negative_review]"
      ]
    },
    {
      "cell_type": "code",
      "execution_count": 70,
      "metadata": {
        "id": "2p1T2aMlynXh"
      },
      "outputs": [],
      "source": [
        "tokens = tokenizer.texts_to_sequences(text)"
      ]
    },
    {
      "cell_type": "code",
      "execution_count": null,
      "metadata": {
        "id": "wQRr0BaTyuOd"
      },
      "outputs": [],
      "source": [
        "tokens"
      ]
    },
    {
      "cell_type": "code",
      "execution_count": 71,
      "metadata": {
        "id": "xcENUhUyUanP"
      },
      "outputs": [],
      "source": [
        "tokens_pad = pad_sequences(tokens, maxlen=max_tokens,\n",
        "                           padding=pad, truncating='pre')"
      ]
    },
    {
      "cell_type": "code",
      "execution_count": 58,
      "metadata": {
        "colab": {
          "base_uri": "https://localhost:8080/"
        },
        "id": "l94aQ83KyxcN",
        "outputId": "3b359e74-2205-4544-c44c-1a4fbc0bc07c"
      },
      "outputs": [
        {
          "output_type": "execute_result",
          "data": {
            "text/plain": [
              "array([[   0,    0,    0, ...,    2, 4862, 3655],\n",
              "       [   0,    0,    0, ...,    1, 9937,    2]], dtype=int32)"
            ]
          },
          "metadata": {},
          "execution_count": 58
        }
      ],
      "source": [
        "tokens_pad"
      ]
    },
    {
      "cell_type": "code",
      "execution_count": 72,
      "metadata": {
        "colab": {
          "base_uri": "https://localhost:8080/"
        },
        "id": "hJF3JpHGUanP",
        "outputId": "3d4ecd35-3146-425a-f1c3-d5ffc01330d8"
      },
      "outputs": [
        {
          "output_type": "execute_result",
          "data": {
            "text/plain": [
              "(2, 1558)"
            ]
          },
          "metadata": {},
          "execution_count": 72
        }
      ],
      "source": [
        "tokens_pad.shape"
      ]
    },
    {
      "cell_type": "code",
      "execution_count": 73,
      "metadata": {
        "colab": {
          "base_uri": "https://localhost:8080/"
        },
        "id": "8rENKNy7UanQ",
        "outputId": "914ba4ab-175f-4f41-c763-6c1a086585ea"
      },
      "outputs": [
        {
          "output_type": "stream",
          "name": "stdout",
          "text": [
            "1/1 [==============================] - 0s 74ms/step\n"
          ]
        }
      ],
      "source": [
        "a=model.predict(tokens_pad)[0]"
      ]
    },
    {
      "cell_type": "code",
      "execution_count": 74,
      "metadata": {
        "colab": {
          "base_uri": "https://localhost:8080/"
        },
        "id": "dUdWVdfe20Q_",
        "outputId": "e3bd5523-a915-4c9a-e8c9-fdd0d3d46e73"
      },
      "outputs": [
        {
          "output_type": "stream",
          "name": "stdout",
          "text": [
            "1/1 [==============================] - 0s 84ms/step\n"
          ]
        }
      ],
      "source": [
        "b=model.predict(tokens_pad)[1]"
      ]
    },
    {
      "cell_type": "code",
      "execution_count": 75,
      "metadata": {
        "colab": {
          "base_uri": "https://localhost:8080/"
        },
        "id": "ehKeLaZ3fQwz",
        "outputId": "cc01db5b-e434-4953-9115-7cc250e06f80"
      },
      "outputs": [
        {
          "output_type": "stream",
          "name": "stdout",
          "text": [
            "Позитивный текст с оценкой 0.950210452079773 \n",
            "Негативный текст с оценкой 0.3415139615535736 \n"
          ]
        }
      ],
      "source": [
        "print('Позитивный текст с оценкой {} '.format(a[0]))\n",
        "print('Негативный текст с оценкой {} '.format(b[0]))"
      ]
    },
    {
      "cell_type": "markdown",
      "source": [
        "# Проверка на неизвестных данных"
      ],
      "metadata": {
        "id": "cIgrg-ci37ih"
      }
    },
    {
      "cell_type": "code",
      "execution_count": 63,
      "metadata": {
        "colab": {
          "base_uri": "https://localhost:8080/"
        },
        "id": "MxHpwoa-IGxW",
        "outputId": "7ac3a574-207c-4646-926d-87662f074ca8"
      },
      "outputs": [
        {
          "output_type": "stream",
          "name": "stdout",
          "text": [
            "/usr/local/lib/python3.8/dist-packages/gdown/cli.py:127: FutureWarning: Option `--id` was deprecated in version 4.3.1 and will be removed in 5.0. You don't need to pass it anymore to use a file ID.\n",
            "  warnings.warn(\n",
            "Downloading...\n",
            "From: https://drive.google.com/uc?id=1rJM2BuOyY4VdFo6oZ_Qu6fdRTWN4FVHq\n",
            "To: /content/items_v2.csv\n",
            "100% 2.92M/2.92M [00:00<00:00, 187MB/s]\n"
          ]
        }
      ],
      "source": [
        "!gdown --id 1rJM2BuOyY4VdFo6oZ_Qu6fdRTWN4FVHq"
      ]
    },
    {
      "cell_type": "code",
      "execution_count": 64,
      "metadata": {
        "id": "AHLUFqbqIvbq"
      },
      "outputs": [],
      "source": [
        "items = pd.read_csv('items_v2.csv', \n",
        "                    header=None, \n",
        "                    names=['Review', 'Class'],)"
      ]
    },
    {
      "cell_type": "code",
      "execution_count": 65,
      "metadata": {
        "id": "o5LWl7LuIvhT",
        "colab": {
          "base_uri": "https://localhost:8080/",
          "height": 423
        },
        "outputId": "a9277587-617d-4927-acc0-7ad8515e7d41"
      },
      "outputs": [
        {
          "output_type": "execute_result",
          "data": {
            "text/plain": [
              "                                                 Review  Class\n",
              "0     рост госпитализации больных c пневмонией отмеч...      1\n",
              "1     долю в обслуживающем мусорный полигон предприя...      1\n",
              "2     число жертв землетрясений в турции превысило  ...      1\n",
              "3     предотвратить подтопление города талыми водами...      1\n",
              "4     банный комплекс загорелся изза утечки газа в а...      1\n",
              "...                                                 ...    ...\n",
              "996   Уникальное месторождение подземных вод «Кокжид...      1\n",
              "997   Касым-Жомарт Токаев подписал указ о создании Н...      1\n",
              "998   Одиннадцать медалей завоевали казахстанские бо...      1\n",
              "999   Сколько сел в Казахстане подключено к Интернет...      1\n",
              "1000  Факт продажи медиками новорожденной девочки пр...      1\n",
              "\n",
              "[1001 rows x 2 columns]"
            ],
            "text/html": [
              "\n",
              "  <div id=\"df-f15910c5-dfb0-43ba-98ce-92b31e9790e0\">\n",
              "    <div class=\"colab-df-container\">\n",
              "      <div>\n",
              "<style scoped>\n",
              "    .dataframe tbody tr th:only-of-type {\n",
              "        vertical-align: middle;\n",
              "    }\n",
              "\n",
              "    .dataframe tbody tr th {\n",
              "        vertical-align: top;\n",
              "    }\n",
              "\n",
              "    .dataframe thead th {\n",
              "        text-align: right;\n",
              "    }\n",
              "</style>\n",
              "<table border=\"1\" class=\"dataframe\">\n",
              "  <thead>\n",
              "    <tr style=\"text-align: right;\">\n",
              "      <th></th>\n",
              "      <th>Review</th>\n",
              "      <th>Class</th>\n",
              "    </tr>\n",
              "  </thead>\n",
              "  <tbody>\n",
              "    <tr>\n",
              "      <th>0</th>\n",
              "      <td>рост госпитализации больных c пневмонией отмеч...</td>\n",
              "      <td>1</td>\n",
              "    </tr>\n",
              "    <tr>\n",
              "      <th>1</th>\n",
              "      <td>долю в обслуживающем мусорный полигон предприя...</td>\n",
              "      <td>1</td>\n",
              "    </tr>\n",
              "    <tr>\n",
              "      <th>2</th>\n",
              "      <td>число жертв землетрясений в турции превысило  ...</td>\n",
              "      <td>1</td>\n",
              "    </tr>\n",
              "    <tr>\n",
              "      <th>3</th>\n",
              "      <td>предотвратить подтопление города талыми водами...</td>\n",
              "      <td>1</td>\n",
              "    </tr>\n",
              "    <tr>\n",
              "      <th>4</th>\n",
              "      <td>банный комплекс загорелся изза утечки газа в а...</td>\n",
              "      <td>1</td>\n",
              "    </tr>\n",
              "    <tr>\n",
              "      <th>...</th>\n",
              "      <td>...</td>\n",
              "      <td>...</td>\n",
              "    </tr>\n",
              "    <tr>\n",
              "      <th>996</th>\n",
              "      <td>Уникальное месторождение подземных вод «Кокжид...</td>\n",
              "      <td>1</td>\n",
              "    </tr>\n",
              "    <tr>\n",
              "      <th>997</th>\n",
              "      <td>Касым-Жомарт Токаев подписал указ о создании Н...</td>\n",
              "      <td>1</td>\n",
              "    </tr>\n",
              "    <tr>\n",
              "      <th>998</th>\n",
              "      <td>Одиннадцать медалей завоевали казахстанские бо...</td>\n",
              "      <td>1</td>\n",
              "    </tr>\n",
              "    <tr>\n",
              "      <th>999</th>\n",
              "      <td>Сколько сел в Казахстане подключено к Интернет...</td>\n",
              "      <td>1</td>\n",
              "    </tr>\n",
              "    <tr>\n",
              "      <th>1000</th>\n",
              "      <td>Факт продажи медиками новорожденной девочки пр...</td>\n",
              "      <td>1</td>\n",
              "    </tr>\n",
              "  </tbody>\n",
              "</table>\n",
              "<p>1001 rows × 2 columns</p>\n",
              "</div>\n",
              "      <button class=\"colab-df-convert\" onclick=\"convertToInteractive('df-f15910c5-dfb0-43ba-98ce-92b31e9790e0')\"\n",
              "              title=\"Convert this dataframe to an interactive table.\"\n",
              "              style=\"display:none;\">\n",
              "        \n",
              "  <svg xmlns=\"http://www.w3.org/2000/svg\" height=\"24px\"viewBox=\"0 0 24 24\"\n",
              "       width=\"24px\">\n",
              "    <path d=\"M0 0h24v24H0V0z\" fill=\"none\"/>\n",
              "    <path d=\"M18.56 5.44l.94 2.06.94-2.06 2.06-.94-2.06-.94-.94-2.06-.94 2.06-2.06.94zm-11 1L8.5 8.5l.94-2.06 2.06-.94-2.06-.94L8.5 2.5l-.94 2.06-2.06.94zm10 10l.94 2.06.94-2.06 2.06-.94-2.06-.94-.94-2.06-.94 2.06-2.06.94z\"/><path d=\"M17.41 7.96l-1.37-1.37c-.4-.4-.92-.59-1.43-.59-.52 0-1.04.2-1.43.59L10.3 9.45l-7.72 7.72c-.78.78-.78 2.05 0 2.83L4 21.41c.39.39.9.59 1.41.59.51 0 1.02-.2 1.41-.59l7.78-7.78 2.81-2.81c.8-.78.8-2.07 0-2.86zM5.41 20L4 18.59l7.72-7.72 1.47 1.35L5.41 20z\"/>\n",
              "  </svg>\n",
              "      </button>\n",
              "      \n",
              "  <style>\n",
              "    .colab-df-container {\n",
              "      display:flex;\n",
              "      flex-wrap:wrap;\n",
              "      gap: 12px;\n",
              "    }\n",
              "\n",
              "    .colab-df-convert {\n",
              "      background-color: #E8F0FE;\n",
              "      border: none;\n",
              "      border-radius: 50%;\n",
              "      cursor: pointer;\n",
              "      display: none;\n",
              "      fill: #1967D2;\n",
              "      height: 32px;\n",
              "      padding: 0 0 0 0;\n",
              "      width: 32px;\n",
              "    }\n",
              "\n",
              "    .colab-df-convert:hover {\n",
              "      background-color: #E2EBFA;\n",
              "      box-shadow: 0px 1px 2px rgba(60, 64, 67, 0.3), 0px 1px 3px 1px rgba(60, 64, 67, 0.15);\n",
              "      fill: #174EA6;\n",
              "    }\n",
              "\n",
              "    [theme=dark] .colab-df-convert {\n",
              "      background-color: #3B4455;\n",
              "      fill: #D2E3FC;\n",
              "    }\n",
              "\n",
              "    [theme=dark] .colab-df-convert:hover {\n",
              "      background-color: #434B5C;\n",
              "      box-shadow: 0px 1px 3px 1px rgba(0, 0, 0, 0.15);\n",
              "      filter: drop-shadow(0px 1px 2px rgba(0, 0, 0, 0.3));\n",
              "      fill: #FFFFFF;\n",
              "    }\n",
              "  </style>\n",
              "\n",
              "      <script>\n",
              "        const buttonEl =\n",
              "          document.querySelector('#df-f15910c5-dfb0-43ba-98ce-92b31e9790e0 button.colab-df-convert');\n",
              "        buttonEl.style.display =\n",
              "          google.colab.kernel.accessAllowed ? 'block' : 'none';\n",
              "\n",
              "        async function convertToInteractive(key) {\n",
              "          const element = document.querySelector('#df-f15910c5-dfb0-43ba-98ce-92b31e9790e0');\n",
              "          const dataTable =\n",
              "            await google.colab.kernel.invokeFunction('convertToInteractive',\n",
              "                                                     [key], {});\n",
              "          if (!dataTable) return;\n",
              "\n",
              "          const docLinkHtml = 'Like what you see? Visit the ' +\n",
              "            '<a target=\"_blank\" href=https://colab.research.google.com/notebooks/data_table.ipynb>data table notebook</a>'\n",
              "            + ' to learn more about interactive tables.';\n",
              "          element.innerHTML = '';\n",
              "          dataTable['output_type'] = 'display_data';\n",
              "          await google.colab.output.renderOutput(dataTable, element);\n",
              "          const docLink = document.createElement('div');\n",
              "          docLink.innerHTML = docLinkHtml;\n",
              "          element.appendChild(docLink);\n",
              "        }\n",
              "      </script>\n",
              "    </div>\n",
              "  </div>\n",
              "  "
            ]
          },
          "metadata": {},
          "execution_count": 65
        }
      ],
      "source": [
        "items"
      ]
    },
    {
      "cell_type": "markdown",
      "source": [
        "# Обработка"
      ],
      "metadata": {
        "id": "4427ikQm5SCz"
      }
    },
    {
      "cell_type": "code",
      "source": [
        "%%time\n",
        "import time\n",
        "from multiprocessing import Process\n",
        "import threading\n",
        "from time import perf_counter\n",
        "\n",
        "results = pd.DataFrame(columns=['Review','Class'])\n",
        "\n",
        "def test_items(review):\n",
        "    tokens = tokenizer.texts_to_sequences([str(review).lower()])\n",
        "    tokens_pad = pad_sequences(tokens, maxlen=max_tokens,\n",
        "                            padding=pad, truncating='pre')\n",
        "    tokens_pad.shape\n",
        "    a = model.predict(tokens_pad)[0]\n",
        "\n",
        "if __name__ == '__main__':\n",
        "  start_time = perf_counter()\n",
        "  for review in items['Review']:\n",
        "    test_items(review)\n",
        "  \n",
        "  end_time = perf_counter()\n",
        "  print(end_time - start_time)\n"
      ],
      "metadata": {
        "colab": {
          "base_uri": "https://localhost:8080/"
        },
        "id": "9xtANQb75Qh7",
        "outputId": "de588092-7346-44e4-9ddf-24b369aa387b"
      },
      "execution_count": 108,
      "outputs": [
        {
          "output_type": "stream",
          "name": "stdout",
          "text": [
            "1/1 [==============================] - 0s 86ms/step\n",
            "1/1 [==============================] - 0s 74ms/step\n",
            "1/1 [==============================] - 0s 72ms/step\n",
            "1/1 [==============================] - 0s 72ms/step\n",
            "1/1 [==============================] - 0s 78ms/step\n",
            "1/1 [==============================] - 0s 75ms/step\n",
            "1/1 [==============================] - 0s 64ms/step\n",
            "1/1 [==============================] - 0s 63ms/step\n",
            "1/1 [==============================] - 0s 72ms/step\n",
            "1/1 [==============================] - 0s 82ms/step\n",
            "1/1 [==============================] - 0s 63ms/step\n",
            "1/1 [==============================] - 0s 67ms/step\n",
            "1/1 [==============================] - 0s 73ms/step\n",
            "1/1 [==============================] - 0s 64ms/step\n",
            "1/1 [==============================] - 0s 69ms/step\n",
            "1/1 [==============================] - 0s 64ms/step\n",
            "1/1 [==============================] - 0s 66ms/step\n",
            "1/1 [==============================] - 0s 68ms/step\n",
            "1/1 [==============================] - 0s 71ms/step\n",
            "1/1 [==============================] - 0s 63ms/step\n",
            "1/1 [==============================] - 0s 62ms/step\n",
            "1/1 [==============================] - 0s 64ms/step\n",
            "1/1 [==============================] - 0s 72ms/step\n",
            "1/1 [==============================] - 0s 72ms/step\n",
            "1/1 [==============================] - 0s 63ms/step\n",
            "1/1 [==============================] - 0s 60ms/step\n",
            "1/1 [==============================] - 0s 61ms/step\n",
            "1/1 [==============================] - 0s 60ms/step\n",
            "1/1 [==============================] - 0s 63ms/step\n",
            "1/1 [==============================] - 0s 60ms/step\n",
            "1/1 [==============================] - 0s 62ms/step\n",
            "1/1 [==============================] - 0s 61ms/step\n",
            "1/1 [==============================] - 0s 82ms/step\n",
            "1/1 [==============================] - 0s 62ms/step\n",
            "1/1 [==============================] - 0s 66ms/step\n",
            "1/1 [==============================] - 0s 62ms/step\n",
            "1/1 [==============================] - 0s 62ms/step\n",
            "1/1 [==============================] - 0s 66ms/step\n",
            "1/1 [==============================] - 0s 60ms/step\n",
            "1/1 [==============================] - 0s 57ms/step\n",
            "1/1 [==============================] - 0s 60ms/step\n",
            "1/1 [==============================] - 0s 77ms/step\n",
            "1/1 [==============================] - 0s 60ms/step\n",
            "1/1 [==============================] - 0s 62ms/step\n",
            "1/1 [==============================] - 0s 59ms/step\n",
            "1/1 [==============================] - 0s 57ms/step\n",
            "1/1 [==============================] - 0s 66ms/step\n",
            "1/1 [==============================] - 0s 59ms/step\n",
            "1/1 [==============================] - 0s 68ms/step\n",
            "1/1 [==============================] - 0s 61ms/step\n",
            "1/1 [==============================] - 0s 58ms/step\n",
            "1/1 [==============================] - 0s 64ms/step\n",
            "1/1 [==============================] - 0s 70ms/step\n",
            "1/1 [==============================] - 0s 71ms/step\n",
            "1/1 [==============================] - 0s 61ms/step\n",
            "1/1 [==============================] - 0s 60ms/step\n",
            "1/1 [==============================] - 0s 73ms/step\n",
            "1/1 [==============================] - 0s 63ms/step\n",
            "1/1 [==============================] - 0s 60ms/step\n",
            "1/1 [==============================] - 0s 58ms/step\n",
            "1/1 [==============================] - 0s 66ms/step\n",
            "1/1 [==============================] - 0s 67ms/step\n",
            "1/1 [==============================] - 0s 64ms/step\n",
            "1/1 [==============================] - 0s 65ms/step\n",
            "1/1 [==============================] - 0s 57ms/step\n",
            "1/1 [==============================] - 0s 61ms/step\n",
            "1/1 [==============================] - 0s 65ms/step\n",
            "1/1 [==============================] - 0s 64ms/step\n",
            "1/1 [==============================] - 0s 67ms/step\n",
            "1/1 [==============================] - 0s 59ms/step\n",
            "1/1 [==============================] - 0s 60ms/step\n",
            "1/1 [==============================] - 0s 60ms/step\n",
            "1/1 [==============================] - 0s 85ms/step\n",
            "1/1 [==============================] - 0s 91ms/step\n",
            "1/1 [==============================] - 0s 87ms/step\n",
            "1/1 [==============================] - 0s 86ms/step\n",
            "1/1 [==============================] - 0s 89ms/step\n",
            "1/1 [==============================] - 0s 96ms/step\n",
            "1/1 [==============================] - 0s 82ms/step\n",
            "1/1 [==============================] - 0s 95ms/step\n",
            "1/1 [==============================] - 0s 85ms/step\n",
            "1/1 [==============================] - 0s 90ms/step\n",
            "1/1 [==============================] - 0s 101ms/step\n",
            "1/1 [==============================] - 0s 96ms/step\n",
            "1/1 [==============================] - 0s 85ms/step\n",
            "1/1 [==============================] - 0s 90ms/step\n",
            "1/1 [==============================] - 0s 85ms/step\n",
            "1/1 [==============================] - 0s 90ms/step\n",
            "1/1 [==============================] - 0s 61ms/step\n",
            "1/1 [==============================] - 0s 63ms/step\n",
            "1/1 [==============================] - 0s 59ms/step\n",
            "1/1 [==============================] - 0s 58ms/step\n",
            "1/1 [==============================] - 0s 58ms/step\n",
            "1/1 [==============================] - 0s 57ms/step\n",
            "1/1 [==============================] - 0s 58ms/step\n",
            "1/1 [==============================] - 0s 61ms/step\n",
            "1/1 [==============================] - 0s 66ms/step\n",
            "1/1 [==============================] - 0s 55ms/step\n",
            "1/1 [==============================] - 0s 69ms/step\n",
            "1/1 [==============================] - 0s 57ms/step\n",
            "1/1 [==============================] - 0s 59ms/step\n",
            "1/1 [==============================] - 0s 62ms/step\n",
            "1/1 [==============================] - 0s 64ms/step\n",
            "1/1 [==============================] - 0s 60ms/step\n",
            "1/1 [==============================] - 0s 56ms/step\n",
            "1/1 [==============================] - 0s 57ms/step\n",
            "1/1 [==============================] - 0s 58ms/step\n",
            "1/1 [==============================] - 0s 58ms/step\n",
            "1/1 [==============================] - 0s 58ms/step\n",
            "1/1 [==============================] - 0s 61ms/step\n",
            "1/1 [==============================] - 0s 65ms/step\n",
            "1/1 [==============================] - 0s 65ms/step\n",
            "1/1 [==============================] - 0s 57ms/step\n",
            "1/1 [==============================] - 0s 62ms/step\n",
            "1/1 [==============================] - 0s 62ms/step\n",
            "1/1 [==============================] - 0s 63ms/step\n",
            "1/1 [==============================] - 0s 59ms/step\n",
            "1/1 [==============================] - 0s 60ms/step\n",
            "1/1 [==============================] - 0s 56ms/step\n",
            "1/1 [==============================] - 0s 58ms/step\n",
            "1/1 [==============================] - 0s 70ms/step\n",
            "1/1 [==============================] - 0s 60ms/step\n",
            "1/1 [==============================] - 0s 64ms/step\n",
            "1/1 [==============================] - 0s 70ms/step\n",
            "1/1 [==============================] - 0s 66ms/step\n",
            "1/1 [==============================] - 0s 57ms/step\n",
            "1/1 [==============================] - 0s 61ms/step\n",
            "1/1 [==============================] - 0s 61ms/step\n",
            "1/1 [==============================] - 0s 58ms/step\n",
            "1/1 [==============================] - 0s 56ms/step\n",
            "1/1 [==============================] - 0s 58ms/step\n",
            "1/1 [==============================] - 0s 57ms/step\n",
            "1/1 [==============================] - 0s 62ms/step\n",
            "1/1 [==============================] - 0s 65ms/step\n",
            "1/1 [==============================] - 0s 60ms/step\n",
            "1/1 [==============================] - 0s 58ms/step\n",
            "1/1 [==============================] - 0s 56ms/step\n",
            "1/1 [==============================] - 0s 67ms/step\n",
            "1/1 [==============================] - 0s 58ms/step\n",
            "1/1 [==============================] - 0s 63ms/step\n",
            "1/1 [==============================] - 0s 55ms/step\n",
            "1/1 [==============================] - 0s 71ms/step\n",
            "1/1 [==============================] - 0s 64ms/step\n",
            "1/1 [==============================] - 0s 60ms/step\n",
            "1/1 [==============================] - 0s 57ms/step\n",
            "1/1 [==============================] - 0s 62ms/step\n",
            "1/1 [==============================] - 0s 62ms/step\n",
            "1/1 [==============================] - 0s 58ms/step\n",
            "1/1 [==============================] - 0s 58ms/step\n",
            "1/1 [==============================] - 0s 55ms/step\n",
            "1/1 [==============================] - 0s 57ms/step\n",
            "1/1 [==============================] - 0s 59ms/step\n",
            "1/1 [==============================] - 0s 57ms/step\n",
            "1/1 [==============================] - 0s 60ms/step\n",
            "1/1 [==============================] - 0s 57ms/step\n",
            "1/1 [==============================] - 0s 59ms/step\n",
            "1/1 [==============================] - 0s 69ms/step\n",
            "1/1 [==============================] - 0s 60ms/step\n",
            "1/1 [==============================] - 0s 61ms/step\n",
            "1/1 [==============================] - 0s 55ms/step\n",
            "1/1 [==============================] - 0s 56ms/step\n",
            "1/1 [==============================] - 0s 59ms/step\n",
            "1/1 [==============================] - 0s 64ms/step\n",
            "1/1 [==============================] - 0s 64ms/step\n",
            "1/1 [==============================] - 0s 56ms/step\n",
            "1/1 [==============================] - 0s 55ms/step\n",
            "1/1 [==============================] - 0s 56ms/step\n",
            "1/1 [==============================] - 0s 55ms/step\n",
            "1/1 [==============================] - 0s 55ms/step\n",
            "1/1 [==============================] - 0s 55ms/step\n",
            "1/1 [==============================] - 0s 61ms/step\n",
            "1/1 [==============================] - 0s 57ms/step\n",
            "1/1 [==============================] - 0s 56ms/step\n",
            "1/1 [==============================] - 0s 55ms/step\n",
            "1/1 [==============================] - 0s 69ms/step\n",
            "1/1 [==============================] - 0s 58ms/step\n",
            "1/1 [==============================] - 0s 66ms/step\n",
            "1/1 [==============================] - 0s 58ms/step\n",
            "1/1 [==============================] - 0s 63ms/step\n",
            "1/1 [==============================] - 0s 77ms/step\n",
            "1/1 [==============================] - 0s 63ms/step\n",
            "1/1 [==============================] - 0s 59ms/step\n",
            "1/1 [==============================] - 0s 97ms/step\n",
            "1/1 [==============================] - 0s 86ms/step\n",
            "1/1 [==============================] - 0s 103ms/step\n",
            "1/1 [==============================] - 0s 82ms/step\n",
            "1/1 [==============================] - 0s 96ms/step\n",
            "1/1 [==============================] - 0s 89ms/step\n",
            "1/1 [==============================] - 0s 86ms/step\n",
            "1/1 [==============================] - 0s 82ms/step\n",
            "1/1 [==============================] - 0s 88ms/step\n",
            "1/1 [==============================] - 0s 86ms/step\n",
            "1/1 [==============================] - 0s 93ms/step\n",
            "1/1 [==============================] - 0s 94ms/step\n",
            "1/1 [==============================] - 0s 87ms/step\n",
            "1/1 [==============================] - 0s 67ms/step\n",
            "1/1 [==============================] - 0s 64ms/step\n",
            "1/1 [==============================] - 0s 58ms/step\n",
            "1/1 [==============================] - 0s 60ms/step\n",
            "1/1 [==============================] - 0s 62ms/step\n",
            "1/1 [==============================] - 0s 69ms/step\n",
            "1/1 [==============================] - 0s 58ms/step\n",
            "1/1 [==============================] - 0s 58ms/step\n",
            "1/1 [==============================] - 0s 56ms/step\n",
            "1/1 [==============================] - 0s 62ms/step\n",
            "1/1 [==============================] - 0s 56ms/step\n",
            "1/1 [==============================] - 0s 60ms/step\n",
            "1/1 [==============================] - 0s 57ms/step\n",
            "1/1 [==============================] - 0s 67ms/step\n",
            "1/1 [==============================] - 0s 59ms/step\n",
            "1/1 [==============================] - 0s 63ms/step\n",
            "1/1 [==============================] - 0s 61ms/step\n",
            "1/1 [==============================] - 0s 58ms/step\n",
            "1/1 [==============================] - 0s 60ms/step\n",
            "1/1 [==============================] - 0s 55ms/step\n",
            "1/1 [==============================] - 0s 75ms/step\n",
            "1/1 [==============================] - 0s 62ms/step\n",
            "1/1 [==============================] - 0s 62ms/step\n",
            "1/1 [==============================] - 0s 66ms/step\n",
            "1/1 [==============================] - 0s 58ms/step\n",
            "1/1 [==============================] - 0s 57ms/step\n",
            "1/1 [==============================] - 0s 66ms/step\n",
            "1/1 [==============================] - 0s 55ms/step\n",
            "1/1 [==============================] - 0s 56ms/step\n",
            "1/1 [==============================] - 0s 60ms/step\n",
            "1/1 [==============================] - 0s 61ms/step\n",
            "1/1 [==============================] - 0s 55ms/step\n",
            "1/1 [==============================] - 0s 59ms/step\n",
            "1/1 [==============================] - 0s 61ms/step\n",
            "1/1 [==============================] - 0s 68ms/step\n",
            "1/1 [==============================] - 0s 63ms/step\n",
            "1/1 [==============================] - 0s 56ms/step\n",
            "1/1 [==============================] - 0s 60ms/step\n",
            "1/1 [==============================] - 0s 61ms/step\n",
            "1/1 [==============================] - 0s 60ms/step\n",
            "1/1 [==============================] - 0s 68ms/step\n",
            "1/1 [==============================] - 0s 60ms/step\n",
            "1/1 [==============================] - 0s 64ms/step\n",
            "1/1 [==============================] - 0s 56ms/step\n",
            "1/1 [==============================] - 0s 57ms/step\n",
            "1/1 [==============================] - 0s 64ms/step\n",
            "1/1 [==============================] - 0s 64ms/step\n",
            "1/1 [==============================] - 0s 59ms/step\n",
            "1/1 [==============================] - 0s 62ms/step\n",
            "1/1 [==============================] - 0s 59ms/step\n",
            "1/1 [==============================] - 0s 62ms/step\n",
            "1/1 [==============================] - 0s 61ms/step\n",
            "1/1 [==============================] - 0s 56ms/step\n",
            "1/1 [==============================] - 0s 56ms/step\n",
            "1/1 [==============================] - 0s 65ms/step\n",
            "1/1 [==============================] - 0s 71ms/step\n",
            "1/1 [==============================] - 0s 69ms/step\n",
            "1/1 [==============================] - 0s 57ms/step\n",
            "1/1 [==============================] - 0s 56ms/step\n",
            "1/1 [==============================] - 0s 61ms/step\n",
            "1/1 [==============================] - 0s 59ms/step\n",
            "1/1 [==============================] - 0s 68ms/step\n",
            "1/1 [==============================] - 0s 58ms/step\n",
            "1/1 [==============================] - 0s 59ms/step\n",
            "1/1 [==============================] - 0s 55ms/step\n",
            "1/1 [==============================] - 0s 63ms/step\n",
            "1/1 [==============================] - 0s 58ms/step\n",
            "1/1 [==============================] - 0s 60ms/step\n",
            "1/1 [==============================] - 0s 56ms/step\n",
            "1/1 [==============================] - 0s 59ms/step\n",
            "1/1 [==============================] - 0s 66ms/step\n",
            "1/1 [==============================] - 0s 64ms/step\n",
            "1/1 [==============================] - 0s 58ms/step\n",
            "1/1 [==============================] - 0s 59ms/step\n",
            "1/1 [==============================] - 0s 62ms/step\n",
            "1/1 [==============================] - 0s 58ms/step\n",
            "1/1 [==============================] - 0s 58ms/step\n",
            "1/1 [==============================] - 0s 60ms/step\n",
            "1/1 [==============================] - 0s 60ms/step\n",
            "1/1 [==============================] - 0s 58ms/step\n",
            "1/1 [==============================] - 0s 68ms/step\n",
            "1/1 [==============================] - 0s 68ms/step\n",
            "1/1 [==============================] - 0s 63ms/step\n",
            "1/1 [==============================] - 0s 66ms/step\n",
            "1/1 [==============================] - 0s 58ms/step\n",
            "1/1 [==============================] - 0s 56ms/step\n",
            "1/1 [==============================] - 0s 57ms/step\n",
            "1/1 [==============================] - 0s 66ms/step\n",
            "1/1 [==============================] - 0s 63ms/step\n",
            "1/1 [==============================] - 0s 59ms/step\n",
            "1/1 [==============================] - 0s 73ms/step\n",
            "1/1 [==============================] - 0s 56ms/step\n",
            "1/1 [==============================] - 0s 56ms/step\n",
            "1/1 [==============================] - 0s 77ms/step\n",
            "1/1 [==============================] - 0s 94ms/step\n",
            "1/1 [==============================] - 0s 85ms/step\n",
            "1/1 [==============================] - 0s 103ms/step\n",
            "1/1 [==============================] - 0s 89ms/step\n",
            "1/1 [==============================] - 0s 83ms/step\n",
            "1/1 [==============================] - 0s 85ms/step\n",
            "1/1 [==============================] - 0s 102ms/step\n",
            "1/1 [==============================] - 0s 87ms/step\n",
            "1/1 [==============================] - 0s 99ms/step\n",
            "1/1 [==============================] - 0s 96ms/step\n",
            "1/1 [==============================] - 0s 96ms/step\n",
            "1/1 [==============================] - 0s 93ms/step\n",
            "1/1 [==============================] - 0s 86ms/step\n",
            "1/1 [==============================] - 0s 78ms/step\n",
            "1/1 [==============================] - 0s 66ms/step\n",
            "1/1 [==============================] - 0s 67ms/step\n",
            "1/1 [==============================] - 0s 61ms/step\n",
            "1/1 [==============================] - 0s 71ms/step\n",
            "1/1 [==============================] - 0s 68ms/step\n",
            "1/1 [==============================] - 0s 61ms/step\n",
            "1/1 [==============================] - 0s 64ms/step\n",
            "1/1 [==============================] - 0s 64ms/step\n",
            "1/1 [==============================] - 0s 57ms/step\n",
            "1/1 [==============================] - 0s 58ms/step\n",
            "1/1 [==============================] - 0s 61ms/step\n",
            "1/1 [==============================] - 0s 65ms/step\n",
            "1/1 [==============================] - 0s 67ms/step\n",
            "1/1 [==============================] - 0s 62ms/step\n",
            "1/1 [==============================] - 0s 59ms/step\n",
            "1/1 [==============================] - 0s 64ms/step\n",
            "1/1 [==============================] - 0s 56ms/step\n",
            "1/1 [==============================] - 0s 58ms/step\n",
            "1/1 [==============================] - 0s 56ms/step\n",
            "1/1 [==============================] - 0s 66ms/step\n",
            "1/1 [==============================] - 0s 55ms/step\n",
            "1/1 [==============================] - 0s 56ms/step\n",
            "1/1 [==============================] - 0s 60ms/step\n",
            "1/1 [==============================] - 0s 66ms/step\n",
            "1/1 [==============================] - 0s 61ms/step\n",
            "1/1 [==============================] - 0s 58ms/step\n",
            "1/1 [==============================] - 0s 58ms/step\n",
            "1/1 [==============================] - 0s 57ms/step\n",
            "1/1 [==============================] - 0s 59ms/step\n",
            "1/1 [==============================] - 0s 58ms/step\n",
            "1/1 [==============================] - 0s 62ms/step\n",
            "1/1 [==============================] - 0s 59ms/step\n",
            "1/1 [==============================] - 0s 56ms/step\n",
            "1/1 [==============================] - 0s 66ms/step\n",
            "1/1 [==============================] - 0s 62ms/step\n",
            "1/1 [==============================] - 0s 61ms/step\n",
            "1/1 [==============================] - 0s 58ms/step\n",
            "1/1 [==============================] - 0s 57ms/step\n",
            "1/1 [==============================] - 0s 56ms/step\n",
            "1/1 [==============================] - 0s 63ms/step\n",
            "1/1 [==============================] - 0s 59ms/step\n",
            "1/1 [==============================] - 0s 63ms/step\n",
            "1/1 [==============================] - 0s 56ms/step\n",
            "1/1 [==============================] - 0s 71ms/step\n",
            "1/1 [==============================] - 0s 57ms/step\n",
            "1/1 [==============================] - 0s 71ms/step\n",
            "1/1 [==============================] - 0s 56ms/step\n",
            "1/1 [==============================] - 0s 58ms/step\n",
            "1/1 [==============================] - 0s 56ms/step\n",
            "1/1 [==============================] - 0s 63ms/step\n",
            "1/1 [==============================] - 0s 57ms/step\n",
            "1/1 [==============================] - 0s 58ms/step\n",
            "1/1 [==============================] - 0s 56ms/step\n",
            "1/1 [==============================] - 0s 55ms/step\n",
            "1/1 [==============================] - 0s 57ms/step\n",
            "1/1 [==============================] - 0s 67ms/step\n",
            "1/1 [==============================] - 0s 56ms/step\n",
            "1/1 [==============================] - 0s 58ms/step\n",
            "1/1 [==============================] - 0s 61ms/step\n",
            "1/1 [==============================] - 0s 61ms/step\n",
            "1/1 [==============================] - 0s 62ms/step\n",
            "1/1 [==============================] - 0s 60ms/step\n",
            "1/1 [==============================] - 0s 56ms/step\n",
            "1/1 [==============================] - 0s 56ms/step\n",
            "1/1 [==============================] - 0s 57ms/step\n",
            "1/1 [==============================] - 0s 66ms/step\n",
            "1/1 [==============================] - 0s 55ms/step\n",
            "1/1 [==============================] - 0s 58ms/step\n",
            "1/1 [==============================] - 0s 56ms/step\n",
            "1/1 [==============================] - 0s 55ms/step\n",
            "1/1 [==============================] - 0s 68ms/step\n",
            "1/1 [==============================] - 0s 57ms/step\n",
            "1/1 [==============================] - 0s 62ms/step\n",
            "1/1 [==============================] - 0s 57ms/step\n",
            "1/1 [==============================] - 0s 56ms/step\n",
            "1/1 [==============================] - 0s 65ms/step\n",
            "1/1 [==============================] - 0s 61ms/step\n",
            "1/1 [==============================] - 0s 61ms/step\n",
            "1/1 [==============================] - 0s 59ms/step\n",
            "1/1 [==============================] - 0s 55ms/step\n",
            "1/1 [==============================] - 0s 55ms/step\n",
            "1/1 [==============================] - 0s 55ms/step\n",
            "1/1 [==============================] - 0s 56ms/step\n",
            "1/1 [==============================] - 0s 56ms/step\n",
            "1/1 [==============================] - 0s 56ms/step\n",
            "1/1 [==============================] - 0s 58ms/step\n",
            "1/1 [==============================] - 0s 58ms/step\n",
            "1/1 [==============================] - 0s 66ms/step\n",
            "1/1 [==============================] - 0s 65ms/step\n",
            "1/1 [==============================] - 0s 64ms/step\n",
            "1/1 [==============================] - 0s 56ms/step\n",
            "1/1 [==============================] - 0s 56ms/step\n",
            "1/1 [==============================] - 0s 57ms/step\n",
            "1/1 [==============================] - 0s 88ms/step\n",
            "1/1 [==============================] - 0s 94ms/step\n",
            "1/1 [==============================] - 0s 88ms/step\n",
            "1/1 [==============================] - 0s 85ms/step\n",
            "1/1 [==============================] - 0s 88ms/step\n",
            "1/1 [==============================] - 0s 87ms/step\n",
            "1/1 [==============================] - 0s 83ms/step\n",
            "1/1 [==============================] - 0s 98ms/step\n",
            "1/1 [==============================] - 0s 82ms/step\n",
            "1/1 [==============================] - 0s 84ms/step\n",
            "1/1 [==============================] - 0s 93ms/step\n",
            "1/1 [==============================] - 0s 86ms/step\n",
            "1/1 [==============================] - 0s 106ms/step\n",
            "1/1 [==============================] - 0s 90ms/step\n",
            "1/1 [==============================] - 0s 60ms/step\n",
            "1/1 [==============================] - 0s 65ms/step\n",
            "1/1 [==============================] - 0s 60ms/step\n",
            "1/1 [==============================] - 0s 68ms/step\n",
            "1/1 [==============================] - 0s 57ms/step\n",
            "1/1 [==============================] - 0s 57ms/step\n",
            "1/1 [==============================] - 0s 56ms/step\n",
            "1/1 [==============================] - 0s 59ms/step\n",
            "1/1 [==============================] - 0s 55ms/step\n",
            "1/1 [==============================] - 0s 61ms/step\n",
            "1/1 [==============================] - 0s 56ms/step\n",
            "1/1 [==============================] - 0s 55ms/step\n",
            "1/1 [==============================] - 0s 55ms/step\n",
            "1/1 [==============================] - 0s 61ms/step\n",
            "1/1 [==============================] - 0s 59ms/step\n",
            "1/1 [==============================] - 0s 66ms/step\n",
            "1/1 [==============================] - 0s 66ms/step\n",
            "1/1 [==============================] - 0s 57ms/step\n",
            "1/1 [==============================] - 0s 60ms/step\n",
            "1/1 [==============================] - 0s 60ms/step\n",
            "1/1 [==============================] - 0s 57ms/step\n",
            "1/1 [==============================] - 0s 59ms/step\n",
            "1/1 [==============================] - 0s 63ms/step\n",
            "1/1 [==============================] - 0s 60ms/step\n",
            "1/1 [==============================] - 0s 58ms/step\n",
            "1/1 [==============================] - 0s 57ms/step\n",
            "1/1 [==============================] - 0s 66ms/step\n",
            "1/1 [==============================] - 0s 60ms/step\n",
            "1/1 [==============================] - 0s 66ms/step\n",
            "1/1 [==============================] - 0s 63ms/step\n",
            "1/1 [==============================] - 0s 58ms/step\n",
            "1/1 [==============================] - 0s 66ms/step\n",
            "1/1 [==============================] - 0s 61ms/step\n",
            "1/1 [==============================] - 0s 56ms/step\n",
            "1/1 [==============================] - 0s 59ms/step\n",
            "1/1 [==============================] - 0s 65ms/step\n",
            "1/1 [==============================] - 0s 59ms/step\n",
            "1/1 [==============================] - 0s 56ms/step\n",
            "1/1 [==============================] - 0s 56ms/step\n",
            "1/1 [==============================] - 0s 56ms/step\n",
            "1/1 [==============================] - 0s 67ms/step\n",
            "1/1 [==============================] - 0s 56ms/step\n",
            "1/1 [==============================] - 0s 60ms/step\n",
            "1/1 [==============================] - 0s 56ms/step\n",
            "1/1 [==============================] - 0s 58ms/step\n",
            "1/1 [==============================] - 0s 60ms/step\n",
            "1/1 [==============================] - 0s 57ms/step\n",
            "1/1 [==============================] - 0s 57ms/step\n",
            "1/1 [==============================] - 0s 55ms/step\n",
            "1/1 [==============================] - 0s 65ms/step\n",
            "1/1 [==============================] - 0s 69ms/step\n",
            "1/1 [==============================] - 0s 64ms/step\n",
            "1/1 [==============================] - 0s 64ms/step\n",
            "1/1 [==============================] - 0s 58ms/step\n",
            "1/1 [==============================] - 0s 57ms/step\n",
            "1/1 [==============================] - 0s 58ms/step\n",
            "1/1 [==============================] - 0s 56ms/step\n",
            "1/1 [==============================] - 0s 57ms/step\n",
            "1/1 [==============================] - 0s 55ms/step\n",
            "1/1 [==============================] - 0s 65ms/step\n",
            "1/1 [==============================] - 0s 57ms/step\n",
            "1/1 [==============================] - 0s 61ms/step\n",
            "1/1 [==============================] - 0s 55ms/step\n",
            "1/1 [==============================] - 0s 60ms/step\n",
            "1/1 [==============================] - 0s 61ms/step\n",
            "1/1 [==============================] - 0s 56ms/step\n",
            "1/1 [==============================] - 0s 67ms/step\n",
            "1/1 [==============================] - 0s 61ms/step\n",
            "1/1 [==============================] - 0s 57ms/step\n",
            "1/1 [==============================] - 0s 56ms/step\n",
            "1/1 [==============================] - 0s 67ms/step\n",
            "1/1 [==============================] - 0s 68ms/step\n",
            "1/1 [==============================] - 0s 62ms/step\n",
            "1/1 [==============================] - 0s 64ms/step\n",
            "1/1 [==============================] - 0s 59ms/step\n",
            "1/1 [==============================] - 0s 63ms/step\n",
            "1/1 [==============================] - 0s 60ms/step\n",
            "1/1 [==============================] - 0s 69ms/step\n",
            "1/1 [==============================] - 0s 61ms/step\n",
            "1/1 [==============================] - 0s 63ms/step\n",
            "1/1 [==============================] - 0s 64ms/step\n",
            "1/1 [==============================] - 0s 66ms/step\n",
            "1/1 [==============================] - 0s 58ms/step\n",
            "1/1 [==============================] - 0s 63ms/step\n",
            "1/1 [==============================] - 0s 57ms/step\n",
            "1/1 [==============================] - 0s 63ms/step\n",
            "1/1 [==============================] - 0s 58ms/step\n",
            "1/1 [==============================] - 0s 59ms/step\n",
            "1/1 [==============================] - 0s 70ms/step\n",
            "1/1 [==============================] - 0s 57ms/step\n",
            "1/1 [==============================] - 0s 62ms/step\n",
            "1/1 [==============================] - 0s 57ms/step\n",
            "1/1 [==============================] - 0s 59ms/step\n",
            "1/1 [==============================] - 0s 91ms/step\n",
            "1/1 [==============================] - 0s 84ms/step\n",
            "1/1 [==============================] - 0s 88ms/step\n",
            "1/1 [==============================] - 0s 85ms/step\n",
            "1/1 [==============================] - 0s 85ms/step\n",
            "1/1 [==============================] - 0s 89ms/step\n",
            "1/1 [==============================] - 0s 90ms/step\n",
            "1/1 [==============================] - 0s 103ms/step\n",
            "1/1 [==============================] - 0s 85ms/step\n",
            "1/1 [==============================] - 0s 96ms/step\n",
            "1/1 [==============================] - 0s 88ms/step\n",
            "1/1 [==============================] - 0s 92ms/step\n",
            "1/1 [==============================] - 0s 86ms/step\n",
            "1/1 [==============================] - 0s 65ms/step\n",
            "1/1 [==============================] - 0s 73ms/step\n",
            "1/1 [==============================] - 0s 65ms/step\n",
            "1/1 [==============================] - 0s 74ms/step\n",
            "1/1 [==============================] - 0s 62ms/step\n",
            "1/1 [==============================] - 0s 58ms/step\n",
            "1/1 [==============================] - 0s 58ms/step\n",
            "1/1 [==============================] - 0s 66ms/step\n",
            "1/1 [==============================] - 0s 59ms/step\n",
            "1/1 [==============================] - 0s 57ms/step\n",
            "1/1 [==============================] - 0s 57ms/step\n",
            "1/1 [==============================] - 0s 64ms/step\n",
            "1/1 [==============================] - 0s 58ms/step\n",
            "1/1 [==============================] - 0s 61ms/step\n",
            "1/1 [==============================] - 0s 62ms/step\n",
            "1/1 [==============================] - 0s 59ms/step\n",
            "1/1 [==============================] - 0s 57ms/step\n",
            "1/1 [==============================] - 0s 59ms/step\n",
            "1/1 [==============================] - 0s 65ms/step\n",
            "1/1 [==============================] - 0s 61ms/step\n",
            "1/1 [==============================] - 0s 55ms/step\n",
            "1/1 [==============================] - 0s 63ms/step\n",
            "1/1 [==============================] - 0s 73ms/step\n",
            "1/1 [==============================] - 0s 58ms/step\n",
            "1/1 [==============================] - 0s 55ms/step\n",
            "1/1 [==============================] - 0s 56ms/step\n",
            "1/1 [==============================] - 0s 64ms/step\n",
            "1/1 [==============================] - 0s 56ms/step\n",
            "1/1 [==============================] - 0s 57ms/step\n",
            "1/1 [==============================] - 0s 61ms/step\n",
            "1/1 [==============================] - 0s 61ms/step\n",
            "1/1 [==============================] - 0s 55ms/step\n",
            "1/1 [==============================] - 0s 63ms/step\n",
            "1/1 [==============================] - 0s 58ms/step\n",
            "1/1 [==============================] - 0s 60ms/step\n",
            "1/1 [==============================] - 0s 60ms/step\n",
            "1/1 [==============================] - 0s 58ms/step\n",
            "1/1 [==============================] - 0s 63ms/step\n",
            "1/1 [==============================] - 0s 55ms/step\n",
            "1/1 [==============================] - 0s 56ms/step\n",
            "1/1 [==============================] - 0s 57ms/step\n",
            "1/1 [==============================] - 0s 62ms/step\n",
            "1/1 [==============================] - 0s 60ms/step\n",
            "1/1 [==============================] - 0s 67ms/step\n",
            "1/1 [==============================] - 0s 57ms/step\n",
            "1/1 [==============================] - 0s 58ms/step\n",
            "1/1 [==============================] - 0s 57ms/step\n",
            "1/1 [==============================] - 0s 56ms/step\n",
            "1/1 [==============================] - 0s 55ms/step\n",
            "1/1 [==============================] - 0s 56ms/step\n",
            "1/1 [==============================] - 0s 55ms/step\n",
            "1/1 [==============================] - 0s 63ms/step\n",
            "1/1 [==============================] - 0s 64ms/step\n",
            "1/1 [==============================] - 0s 57ms/step\n",
            "1/1 [==============================] - 0s 57ms/step\n",
            "1/1 [==============================] - 0s 61ms/step\n",
            "1/1 [==============================] - 0s 55ms/step\n",
            "1/1 [==============================] - 0s 64ms/step\n",
            "1/1 [==============================] - 0s 57ms/step\n",
            "1/1 [==============================] - 0s 66ms/step\n",
            "1/1 [==============================] - 0s 64ms/step\n",
            "1/1 [==============================] - 0s 57ms/step\n",
            "1/1 [==============================] - 0s 61ms/step\n",
            "1/1 [==============================] - 0s 65ms/step\n",
            "1/1 [==============================] - 0s 57ms/step\n",
            "1/1 [==============================] - 0s 60ms/step\n",
            "1/1 [==============================] - 0s 56ms/step\n",
            "1/1 [==============================] - 0s 55ms/step\n",
            "1/1 [==============================] - 0s 57ms/step\n",
            "1/1 [==============================] - 0s 64ms/step\n",
            "1/1 [==============================] - 0s 57ms/step\n",
            "1/1 [==============================] - 0s 57ms/step\n",
            "1/1 [==============================] - 0s 57ms/step\n",
            "1/1 [==============================] - 0s 57ms/step\n",
            "1/1 [==============================] - 0s 56ms/step\n",
            "1/1 [==============================] - 0s 58ms/step\n",
            "1/1 [==============================] - 0s 56ms/step\n",
            "1/1 [==============================] - 0s 62ms/step\n",
            "1/1 [==============================] - 0s 60ms/step\n",
            "1/1 [==============================] - 0s 62ms/step\n",
            "1/1 [==============================] - 0s 60ms/step\n",
            "1/1 [==============================] - 0s 55ms/step\n",
            "1/1 [==============================] - 0s 56ms/step\n",
            "1/1 [==============================] - 0s 70ms/step\n",
            "1/1 [==============================] - 0s 57ms/step\n",
            "1/1 [==============================] - 0s 62ms/step\n",
            "1/1 [==============================] - 0s 57ms/step\n",
            "1/1 [==============================] - 0s 62ms/step\n",
            "1/1 [==============================] - 0s 60ms/step\n",
            "1/1 [==============================] - 0s 64ms/step\n",
            "1/1 [==============================] - 0s 66ms/step\n",
            "1/1 [==============================] - 0s 59ms/step\n",
            "1/1 [==============================] - 0s 86ms/step\n",
            "1/1 [==============================] - 0s 104ms/step\n",
            "1/1 [==============================] - 0s 87ms/step\n",
            "1/1 [==============================] - 0s 81ms/step\n",
            "1/1 [==============================] - 0s 88ms/step\n",
            "1/1 [==============================] - 0s 124ms/step\n",
            "1/1 [==============================] - 0s 84ms/step\n",
            "1/1 [==============================] - 0s 84ms/step\n",
            "1/1 [==============================] - 0s 84ms/step\n",
            "1/1 [==============================] - 0s 82ms/step\n",
            "1/1 [==============================] - 0s 84ms/step\n",
            "1/1 [==============================] - 0s 98ms/step\n",
            "1/1 [==============================] - 0s 90ms/step\n",
            "1/1 [==============================] - 0s 94ms/step\n",
            "1/1 [==============================] - 0s 96ms/step\n",
            "1/1 [==============================] - 0s 80ms/step\n",
            "1/1 [==============================] - 0s 66ms/step\n",
            "1/1 [==============================] - 0s 67ms/step\n",
            "1/1 [==============================] - 0s 66ms/step\n",
            "1/1 [==============================] - 0s 69ms/step\n",
            "1/1 [==============================] - 0s 56ms/step\n",
            "1/1 [==============================] - 0s 60ms/step\n",
            "1/1 [==============================] - 0s 56ms/step\n",
            "1/1 [==============================] - 0s 55ms/step\n",
            "1/1 [==============================] - 0s 58ms/step\n",
            "1/1 [==============================] - 0s 56ms/step\n",
            "1/1 [==============================] - 0s 56ms/step\n",
            "1/1 [==============================] - 0s 62ms/step\n",
            "1/1 [==============================] - 0s 60ms/step\n",
            "1/1 [==============================] - 0s 57ms/step\n",
            "1/1 [==============================] - 0s 58ms/step\n",
            "1/1 [==============================] - 0s 57ms/step\n",
            "1/1 [==============================] - 0s 65ms/step\n",
            "1/1 [==============================] - 0s 62ms/step\n",
            "1/1 [==============================] - 0s 58ms/step\n",
            "1/1 [==============================] - 0s 57ms/step\n",
            "1/1 [==============================] - 0s 62ms/step\n",
            "1/1 [==============================] - 0s 64ms/step\n",
            "1/1 [==============================] - 0s 55ms/step\n",
            "1/1 [==============================] - 0s 69ms/step\n",
            "1/1 [==============================] - 0s 58ms/step\n",
            "1/1 [==============================] - 0s 55ms/step\n",
            "1/1 [==============================] - 0s 57ms/step\n",
            "1/1 [==============================] - 0s 57ms/step\n",
            "1/1 [==============================] - 0s 59ms/step\n",
            "1/1 [==============================] - 0s 56ms/step\n",
            "1/1 [==============================] - 0s 55ms/step\n",
            "1/1 [==============================] - 0s 59ms/step\n",
            "1/1 [==============================] - 0s 67ms/step\n",
            "1/1 [==============================] - 0s 58ms/step\n",
            "1/1 [==============================] - 0s 57ms/step\n",
            "1/1 [==============================] - 0s 60ms/step\n",
            "1/1 [==============================] - 0s 56ms/step\n",
            "1/1 [==============================] - 0s 60ms/step\n",
            "1/1 [==============================] - 0s 63ms/step\n",
            "1/1 [==============================] - 0s 65ms/step\n",
            "1/1 [==============================] - 0s 56ms/step\n",
            "1/1 [==============================] - 0s 65ms/step\n",
            "1/1 [==============================] - 0s 58ms/step\n",
            "1/1 [==============================] - 0s 61ms/step\n",
            "1/1 [==============================] - 0s 56ms/step\n",
            "1/1 [==============================] - 0s 63ms/step\n",
            "1/1 [==============================] - 0s 56ms/step\n",
            "1/1 [==============================] - 0s 55ms/step\n",
            "1/1 [==============================] - 0s 57ms/step\n",
            "1/1 [==============================] - 0s 56ms/step\n",
            "1/1 [==============================] - 0s 56ms/step\n",
            "1/1 [==============================] - 0s 55ms/step\n",
            "1/1 [==============================] - 0s 56ms/step\n",
            "1/1 [==============================] - 0s 65ms/step\n",
            "1/1 [==============================] - 0s 57ms/step\n",
            "1/1 [==============================] - 0s 56ms/step\n",
            "1/1 [==============================] - 0s 62ms/step\n",
            "1/1 [==============================] - 0s 61ms/step\n",
            "1/1 [==============================] - 0s 58ms/step\n",
            "1/1 [==============================] - 0s 56ms/step\n",
            "1/1 [==============================] - 0s 62ms/step\n",
            "1/1 [==============================] - 0s 58ms/step\n",
            "1/1 [==============================] - 0s 65ms/step\n",
            "1/1 [==============================] - 0s 61ms/step\n",
            "1/1 [==============================] - 0s 59ms/step\n",
            "1/1 [==============================] - 0s 58ms/step\n",
            "1/1 [==============================] - 0s 56ms/step\n",
            "1/1 [==============================] - 0s 60ms/step\n",
            "1/1 [==============================] - 0s 58ms/step\n",
            "1/1 [==============================] - 0s 56ms/step\n",
            "1/1 [==============================] - 0s 56ms/step\n",
            "1/1 [==============================] - 0s 57ms/step\n",
            "1/1 [==============================] - 0s 60ms/step\n",
            "1/1 [==============================] - 0s 55ms/step\n",
            "1/1 [==============================] - 0s 58ms/step\n",
            "1/1 [==============================] - 0s 55ms/step\n",
            "1/1 [==============================] - 0s 67ms/step\n",
            "1/1 [==============================] - 0s 60ms/step\n",
            "1/1 [==============================] - 0s 57ms/step\n",
            "1/1 [==============================] - 0s 65ms/step\n",
            "1/1 [==============================] - 0s 69ms/step\n",
            "1/1 [==============================] - 0s 58ms/step\n",
            "1/1 [==============================] - 0s 57ms/step\n",
            "1/1 [==============================] - 0s 63ms/step\n",
            "1/1 [==============================] - 0s 62ms/step\n",
            "1/1 [==============================] - 0s 55ms/step\n",
            "1/1 [==============================] - 0s 57ms/step\n",
            "1/1 [==============================] - 0s 56ms/step\n",
            "1/1 [==============================] - 0s 56ms/step\n",
            "1/1 [==============================] - 0s 58ms/step\n",
            "1/1 [==============================] - 0s 58ms/step\n",
            "1/1 [==============================] - 0s 56ms/step\n",
            "1/1 [==============================] - 0s 61ms/step\n",
            "1/1 [==============================] - 0s 88ms/step\n",
            "1/1 [==============================] - 0s 94ms/step\n",
            "1/1 [==============================] - 0s 89ms/step\n",
            "1/1 [==============================] - 0s 85ms/step\n",
            "1/1 [==============================] - 0s 91ms/step\n",
            "1/1 [==============================] - 0s 84ms/step\n",
            "1/1 [==============================] - 0s 81ms/step\n",
            "1/1 [==============================] - 0s 87ms/step\n",
            "1/1 [==============================] - 0s 83ms/step\n",
            "1/1 [==============================] - 0s 81ms/step\n",
            "1/1 [==============================] - 0s 89ms/step\n",
            "1/1 [==============================] - 0s 83ms/step\n",
            "1/1 [==============================] - 0s 82ms/step\n",
            "1/1 [==============================] - 0s 84ms/step\n",
            "1/1 [==============================] - 0s 67ms/step\n",
            "1/1 [==============================] - 0s 57ms/step\n",
            "1/1 [==============================] - 0s 57ms/step\n",
            "1/1 [==============================] - 0s 57ms/step\n",
            "1/1 [==============================] - 0s 55ms/step\n",
            "1/1 [==============================] - 0s 55ms/step\n",
            "1/1 [==============================] - 0s 56ms/step\n",
            "1/1 [==============================] - 0s 56ms/step\n",
            "1/1 [==============================] - 0s 55ms/step\n",
            "1/1 [==============================] - 0s 58ms/step\n",
            "1/1 [==============================] - 0s 58ms/step\n",
            "1/1 [==============================] - 0s 58ms/step\n",
            "1/1 [==============================] - 0s 57ms/step\n",
            "1/1 [==============================] - 0s 61ms/step\n",
            "1/1 [==============================] - 0s 58ms/step\n",
            "1/1 [==============================] - 0s 59ms/step\n",
            "1/1 [==============================] - 0s 63ms/step\n",
            "1/1 [==============================] - 0s 58ms/step\n",
            "1/1 [==============================] - 0s 57ms/step\n",
            "1/1 [==============================] - 0s 61ms/step\n",
            "1/1 [==============================] - 0s 59ms/step\n",
            "1/1 [==============================] - 0s 60ms/step\n",
            "1/1 [==============================] - 0s 56ms/step\n",
            "1/1 [==============================] - 0s 59ms/step\n",
            "1/1 [==============================] - 0s 59ms/step\n",
            "1/1 [==============================] - 0s 59ms/step\n",
            "1/1 [==============================] - 0s 55ms/step\n",
            "1/1 [==============================] - 0s 61ms/step\n",
            "1/1 [==============================] - 0s 68ms/step\n",
            "1/1 [==============================] - 0s 57ms/step\n",
            "1/1 [==============================] - 0s 56ms/step\n",
            "1/1 [==============================] - 0s 54ms/step\n",
            "1/1 [==============================] - 0s 62ms/step\n",
            "1/1 [==============================] - 0s 58ms/step\n",
            "1/1 [==============================] - 0s 55ms/step\n",
            "1/1 [==============================] - 0s 62ms/step\n",
            "1/1 [==============================] - 0s 54ms/step\n",
            "1/1 [==============================] - 0s 59ms/step\n",
            "1/1 [==============================] - 0s 63ms/step\n",
            "1/1 [==============================] - 0s 66ms/step\n",
            "1/1 [==============================] - 0s 55ms/step\n",
            "1/1 [==============================] - 0s 56ms/step\n",
            "1/1 [==============================] - 0s 55ms/step\n",
            "1/1 [==============================] - 0s 55ms/step\n",
            "1/1 [==============================] - 0s 64ms/step\n",
            "1/1 [==============================] - 0s 57ms/step\n",
            "1/1 [==============================] - 0s 57ms/step\n",
            "1/1 [==============================] - 0s 59ms/step\n",
            "1/1 [==============================] - 0s 59ms/step\n",
            "1/1 [==============================] - 0s 58ms/step\n",
            "1/1 [==============================] - 0s 63ms/step\n",
            "1/1 [==============================] - 0s 62ms/step\n",
            "1/1 [==============================] - 0s 61ms/step\n",
            "1/1 [==============================] - 0s 56ms/step\n",
            "1/1 [==============================] - 0s 55ms/step\n",
            "1/1 [==============================] - 0s 55ms/step\n",
            "1/1 [==============================] - 0s 55ms/step\n",
            "1/1 [==============================] - 0s 57ms/step\n",
            "1/1 [==============================] - 0s 54ms/step\n",
            "1/1 [==============================] - 0s 55ms/step\n",
            "1/1 [==============================] - 0s 55ms/step\n",
            "1/1 [==============================] - 0s 61ms/step\n",
            "1/1 [==============================] - 0s 54ms/step\n",
            "1/1 [==============================] - 0s 55ms/step\n",
            "1/1 [==============================] - 0s 55ms/step\n",
            "1/1 [==============================] - 0s 56ms/step\n",
            "1/1 [==============================] - 0s 62ms/step\n",
            "1/1 [==============================] - 0s 56ms/step\n",
            "1/1 [==============================] - 0s 54ms/step\n",
            "1/1 [==============================] - 0s 60ms/step\n",
            "1/1 [==============================] - 0s 57ms/step\n",
            "1/1 [==============================] - 0s 56ms/step\n",
            "1/1 [==============================] - 0s 56ms/step\n",
            "1/1 [==============================] - 0s 66ms/step\n",
            "1/1 [==============================] - 0s 58ms/step\n",
            "1/1 [==============================] - 0s 57ms/step\n",
            "1/1 [==============================] - 0s 57ms/step\n",
            "1/1 [==============================] - 0s 55ms/step\n",
            "1/1 [==============================] - 0s 55ms/step\n",
            "1/1 [==============================] - 0s 56ms/step\n",
            "1/1 [==============================] - 0s 61ms/step\n",
            "1/1 [==============================] - 0s 55ms/step\n",
            "1/1 [==============================] - 0s 55ms/step\n",
            "1/1 [==============================] - 0s 59ms/step\n",
            "1/1 [==============================] - 0s 56ms/step\n",
            "1/1 [==============================] - 0s 58ms/step\n",
            "1/1 [==============================] - 0s 58ms/step\n",
            "1/1 [==============================] - 0s 59ms/step\n",
            "1/1 [==============================] - 0s 57ms/step\n",
            "1/1 [==============================] - 0s 55ms/step\n",
            "1/1 [==============================] - 0s 56ms/step\n",
            "1/1 [==============================] - 0s 56ms/step\n",
            "1/1 [==============================] - 0s 56ms/step\n",
            "1/1 [==============================] - 0s 75ms/step\n",
            "1/1 [==============================] - 0s 91ms/step\n",
            "1/1 [==============================] - 0s 82ms/step\n",
            "1/1 [==============================] - 0s 83ms/step\n",
            "1/1 [==============================] - 0s 85ms/step\n",
            "1/1 [==============================] - 0s 83ms/step\n",
            "1/1 [==============================] - 0s 82ms/step\n",
            "1/1 [==============================] - 0s 85ms/step\n",
            "1/1 [==============================] - 0s 83ms/step\n",
            "1/1 [==============================] - 0s 81ms/step\n",
            "1/1 [==============================] - 0s 86ms/step\n",
            "1/1 [==============================] - 0s 90ms/step\n",
            "1/1 [==============================] - 0s 98ms/step\n",
            "1/1 [==============================] - 0s 85ms/step\n",
            "1/1 [==============================] - 0s 62ms/step\n",
            "1/1 [==============================] - 0s 63ms/step\n",
            "1/1 [==============================] - 0s 63ms/step\n",
            "1/1 [==============================] - 0s 61ms/step\n",
            "1/1 [==============================] - 0s 67ms/step\n",
            "1/1 [==============================] - 0s 64ms/step\n",
            "1/1 [==============================] - 0s 56ms/step\n",
            "1/1 [==============================] - 0s 61ms/step\n",
            "1/1 [==============================] - 0s 57ms/step\n",
            "1/1 [==============================] - 0s 62ms/step\n",
            "1/1 [==============================] - 0s 55ms/step\n",
            "1/1 [==============================] - 0s 56ms/step\n",
            "1/1 [==============================] - 0s 55ms/step\n",
            "1/1 [==============================] - 0s 56ms/step\n",
            "1/1 [==============================] - 0s 55ms/step\n",
            "1/1 [==============================] - 0s 56ms/step\n",
            "1/1 [==============================] - 0s 56ms/step\n",
            "1/1 [==============================] - 0s 58ms/step\n",
            "1/1 [==============================] - 0s 56ms/step\n",
            "1/1 [==============================] - 0s 56ms/step\n",
            "1/1 [==============================] - 0s 57ms/step\n",
            "1/1 [==============================] - 0s 56ms/step\n",
            "1/1 [==============================] - 0s 59ms/step\n",
            "1/1 [==============================] - 0s 55ms/step\n",
            "1/1 [==============================] - 0s 55ms/step\n",
            "1/1 [==============================] - 0s 57ms/step\n",
            "1/1 [==============================] - 0s 55ms/step\n",
            "1/1 [==============================] - 0s 55ms/step\n",
            "1/1 [==============================] - 0s 55ms/step\n",
            "1/1 [==============================] - 0s 57ms/step\n",
            "1/1 [==============================] - 0s 58ms/step\n",
            "1/1 [==============================] - 0s 58ms/step\n",
            "1/1 [==============================] - 0s 62ms/step\n",
            "1/1 [==============================] - 0s 57ms/step\n",
            "1/1 [==============================] - 0s 56ms/step\n",
            "1/1 [==============================] - 0s 60ms/step\n",
            "1/1 [==============================] - 0s 57ms/step\n",
            "1/1 [==============================] - 0s 57ms/step\n",
            "1/1 [==============================] - 0s 56ms/step\n",
            "1/1 [==============================] - 0s 57ms/step\n",
            "1/1 [==============================] - 0s 55ms/step\n",
            "1/1 [==============================] - 0s 56ms/step\n",
            "1/1 [==============================] - 0s 55ms/step\n",
            "1/1 [==============================] - 0s 56ms/step\n",
            "1/1 [==============================] - 0s 61ms/step\n",
            "1/1 [==============================] - 0s 57ms/step\n",
            "1/1 [==============================] - 0s 56ms/step\n",
            "1/1 [==============================] - 0s 57ms/step\n",
            "1/1 [==============================] - 0s 58ms/step\n",
            "1/1 [==============================] - 0s 56ms/step\n",
            "1/1 [==============================] - 0s 61ms/step\n",
            "1/1 [==============================] - 0s 62ms/step\n",
            "1/1 [==============================] - 0s 55ms/step\n",
            "1/1 [==============================] - 0s 55ms/step\n",
            "1/1 [==============================] - 0s 59ms/step\n",
            "1/1 [==============================] - 0s 59ms/step\n",
            "1/1 [==============================] - 0s 59ms/step\n",
            "1/1 [==============================] - 0s 56ms/step\n",
            "1/1 [==============================] - 0s 60ms/step\n",
            "1/1 [==============================] - 0s 62ms/step\n",
            "1/1 [==============================] - 0s 62ms/step\n",
            "1/1 [==============================] - 0s 66ms/step\n",
            "1/1 [==============================] - 0s 68ms/step\n",
            "1/1 [==============================] - 0s 63ms/step\n",
            "1/1 [==============================] - 0s 63ms/step\n",
            "1/1 [==============================] - 0s 61ms/step\n",
            "1/1 [==============================] - 0s 63ms/step\n",
            "1/1 [==============================] - 0s 65ms/step\n",
            "1/1 [==============================] - 0s 66ms/step\n",
            "1/1 [==============================] - 0s 63ms/step\n",
            "1/1 [==============================] - 0s 63ms/step\n",
            "1/1 [==============================] - 0s 64ms/step\n",
            "1/1 [==============================] - 0s 69ms/step\n",
            "1/1 [==============================] - 0s 66ms/step\n",
            "1/1 [==============================] - 0s 65ms/step\n",
            "1/1 [==============================] - 0s 68ms/step\n",
            "1/1 [==============================] - 0s 66ms/step\n",
            "1/1 [==============================] - 0s 63ms/step\n",
            "1/1 [==============================] - 0s 63ms/step\n",
            "1/1 [==============================] - 0s 70ms/step\n",
            "1/1 [==============================] - 0s 78ms/step\n",
            "1/1 [==============================] - 0s 62ms/step\n",
            "1/1 [==============================] - 0s 63ms/step\n",
            "1/1 [==============================] - 0s 63ms/step\n",
            "1/1 [==============================] - 0s 62ms/step\n",
            "1/1 [==============================] - 0s 64ms/step\n",
            "1/1 [==============================] - 0s 73ms/step\n",
            "1/1 [==============================] - 0s 98ms/step\n",
            "1/1 [==============================] - 0s 95ms/step\n",
            "1/1 [==============================] - 0s 92ms/step\n",
            "1/1 [==============================] - 0s 94ms/step\n",
            "1/1 [==============================] - 0s 89ms/step\n",
            "1/1 [==============================] - 0s 88ms/step\n",
            "1/1 [==============================] - 0s 106ms/step\n",
            "1/1 [==============================] - 0s 88ms/step\n",
            "1/1 [==============================] - 0s 88ms/step\n",
            "1/1 [==============================] - 0s 96ms/step\n",
            "1/1 [==============================] - 0s 89ms/step\n",
            "1/1 [==============================] - 0s 91ms/step\n",
            "1/1 [==============================] - 0s 85ms/step\n",
            "1/1 [==============================] - 0s 68ms/step\n",
            "1/1 [==============================] - 0s 68ms/step\n",
            "1/1 [==============================] - 0s 68ms/step\n",
            "1/1 [==============================] - 0s 61ms/step\n",
            "1/1 [==============================] - 0s 68ms/step\n",
            "1/1 [==============================] - 0s 62ms/step\n",
            "1/1 [==============================] - 0s 61ms/step\n",
            "1/1 [==============================] - 0s 60ms/step\n",
            "1/1 [==============================] - 0s 63ms/step\n",
            "1/1 [==============================] - 0s 59ms/step\n",
            "1/1 [==============================] - 0s 60ms/step\n",
            "1/1 [==============================] - 0s 71ms/step\n",
            "1/1 [==============================] - 0s 62ms/step\n",
            "1/1 [==============================] - 0s 68ms/step\n",
            "1/1 [==============================] - 0s 63ms/step\n",
            "1/1 [==============================] - 0s 63ms/step\n",
            "1/1 [==============================] - 0s 61ms/step\n",
            "1/1 [==============================] - 0s 65ms/step\n",
            "1/1 [==============================] - 0s 63ms/step\n",
            "1/1 [==============================] - 0s 59ms/step\n",
            "1/1 [==============================] - 0s 61ms/step\n",
            "1/1 [==============================] - 0s 66ms/step\n",
            "1/1 [==============================] - 0s 62ms/step\n",
            "1/1 [==============================] - 0s 60ms/step\n",
            "1/1 [==============================] - 0s 71ms/step\n",
            "1/1 [==============================] - 0s 66ms/step\n",
            "1/1 [==============================] - 0s 64ms/step\n",
            "1/1 [==============================] - 0s 59ms/step\n",
            "1/1 [==============================] - 0s 59ms/step\n",
            "1/1 [==============================] - 0s 70ms/step\n",
            "1/1 [==============================] - 0s 64ms/step\n",
            "1/1 [==============================] - 0s 60ms/step\n",
            "1/1 [==============================] - 0s 57ms/step\n",
            "1/1 [==============================] - 0s 60ms/step\n",
            "1/1 [==============================] - 0s 61ms/step\n",
            "1/1 [==============================] - 0s 58ms/step\n",
            "1/1 [==============================] - 0s 67ms/step\n",
            "1/1 [==============================] - 0s 60ms/step\n",
            "1/1 [==============================] - 0s 60ms/step\n",
            "1/1 [==============================] - 0s 65ms/step\n",
            "1/1 [==============================] - 0s 68ms/step\n",
            "1/1 [==============================] - 0s 58ms/step\n",
            "1/1 [==============================] - 0s 65ms/step\n",
            "1/1 [==============================] - 0s 63ms/step\n",
            "1/1 [==============================] - 0s 60ms/step\n",
            "1/1 [==============================] - 0s 72ms/step\n",
            "1/1 [==============================] - 0s 59ms/step\n",
            "1/1 [==============================] - 0s 60ms/step\n",
            "1/1 [==============================] - 0s 62ms/step\n",
            "1/1 [==============================] - 0s 60ms/step\n",
            "1/1 [==============================] - 0s 57ms/step\n",
            "1/1 [==============================] - 0s 58ms/step\n",
            "1/1 [==============================] - 0s 61ms/step\n",
            "1/1 [==============================] - 0s 57ms/step\n",
            "1/1 [==============================] - 0s 57ms/step\n",
            "1/1 [==============================] - 0s 67ms/step\n",
            "1/1 [==============================] - 0s 62ms/step\n",
            "1/1 [==============================] - 0s 62ms/step\n",
            "1/1 [==============================] - 0s 59ms/step\n",
            "1/1 [==============================] - 0s 64ms/step\n",
            "1/1 [==============================] - 0s 59ms/step\n",
            "1/1 [==============================] - 0s 58ms/step\n",
            "1/1 [==============================] - 0s 57ms/step\n",
            "116.00731727499988\n",
            "CPU times: user 1min 42s, sys: 2.51 s, total: 1min 44s\n",
            "Wall time: 1min 56s\n"
          ]
        }
      ]
    },
    {
      "cell_type": "markdown",
      "source": [
        "# Многопроцессорная обработка"
      ],
      "metadata": {
        "id": "qFvo_3015YVH"
      }
    },
    {
      "cell_type": "code",
      "source": [
        "%%time\n",
        "import time\n",
        "from multiprocessing import Process\n",
        "import threading\n",
        "from time import perf_counter\n",
        "\n",
        "results = pd.DataFrame(columns=['Review','Class'])\n",
        "\n",
        "def test_items(review):\n",
        "    tokens = tokenizer.texts_to_sequences([str(review).lower()])\n",
        "    tokens_pad = pad_sequences(tokens, maxlen=max_tokens,\n",
        "                            padding=pad, truncating='pre')\n",
        "    tokens_pad.shape\n",
        "    a = model.predict(tokens_pad)[0]\n",
        "    print(a, review)\n",
        "\n",
        "if __name__ == '__main__':\n",
        "    start_time = perf_counter()\n",
        "    processes = []\n",
        "    for review in items['Review']:\n",
        "        p = Process(target=test_items, args=(review,))\n",
        "        processes.append(p)\n",
        "        p.start()\n",
        "        \n",
        "    for process in processes:\n",
        "        process.join()\n",
        "    \n",
        "    end_time = perf_counter()\n",
        "    print(end_time - start_time)\n",
        "\n"
      ],
      "metadata": {
        "colab": {
          "base_uri": "https://localhost:8080/"
        },
        "id": "NfDurY-rbk_h",
        "outputId": "266d2445-056a-4188-8bac-b6a81aafb705"
      },
      "execution_count": 85,
      "outputs": [
        {
          "output_type": "stream",
          "name": "stdout",
          "text": [
            "49.587384922999945\n",
            "CPU times: user 1.97 s, sys: 30.5 s, total: 32.5 s\n",
            "Wall time: 49.6 s\n"
          ]
        }
      ]
    }
  ],
  "metadata": {
    "colab": {
      "provenance": [],
      "include_colab_link": true
    },
    "gpuClass": "standard",
    "kernelspec": {
      "display_name": "Python 3",
      "language": "python",
      "name": "python3"
    },
    "language_info": {
      "codemirror_mode": {
        "name": "ipython",
        "version": 3
      },
      "file_extension": ".py",
      "mimetype": "text/x-python",
      "name": "python",
      "nbconvert_exporter": "python",
      "pygments_lexer": "ipython3",
      "version": "3.6.5"
    },
    "accelerator": "GPU"
  },
  "nbformat": 4,
  "nbformat_minor": 0
}